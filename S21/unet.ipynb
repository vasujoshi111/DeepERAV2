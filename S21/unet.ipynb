{
  "nbformat": 4,
  "nbformat_minor": 0,
  "metadata": {
    "colab": {
      "provenance": [],
      "gpuType": "T4"
    },
    "kernelspec": {
      "name": "python3",
      "display_name": "Python 3"
    },
    "language_info": {
      "name": "python"
    },
    "accelerator": "GPU",
    "widgets": {
      "application/vnd.jupyter.widget-state+json": {
        "a106b342aeeb4b8ba3d3072b4d54ed6f": {
          "model_module": "@jupyter-widgets/controls",
          "model_name": "HBoxModel",
          "model_module_version": "1.5.0",
          "state": {
            "_dom_classes": [],
            "_model_module": "@jupyter-widgets/controls",
            "_model_module_version": "1.5.0",
            "_model_name": "HBoxModel",
            "_view_count": null,
            "_view_module": "@jupyter-widgets/controls",
            "_view_module_version": "1.5.0",
            "_view_name": "HBoxView",
            "box_style": "",
            "children": [
              "IPY_MODEL_bd8de41f63494117873b8f9fe1831300",
              "IPY_MODEL_4ffddd92c2614eca908903ae822b63a5",
              "IPY_MODEL_eeb9c3227667436997369c1612bec086"
            ],
            "layout": "IPY_MODEL_27834903c386480490f106b820d0c0b4"
          }
        },
        "bd8de41f63494117873b8f9fe1831300": {
          "model_module": "@jupyter-widgets/controls",
          "model_name": "HTMLModel",
          "model_module_version": "1.5.0",
          "state": {
            "_dom_classes": [],
            "_model_module": "@jupyter-widgets/controls",
            "_model_module_version": "1.5.0",
            "_model_name": "HTMLModel",
            "_view_count": null,
            "_view_module": "@jupyter-widgets/controls",
            "_view_module_version": "1.5.0",
            "_view_name": "HTMLView",
            "description": "",
            "description_tooltip": null,
            "layout": "IPY_MODEL_8b96f945361c45dda774f86fc8b2013d",
            "placeholder": "​",
            "style": "IPY_MODEL_b378904fa1504fe9a7d9939055738d02",
            "value": "100%"
          }
        },
        "4ffddd92c2614eca908903ae822b63a5": {
          "model_module": "@jupyter-widgets/controls",
          "model_name": "FloatProgressModel",
          "model_module_version": "1.5.0",
          "state": {
            "_dom_classes": [],
            "_model_module": "@jupyter-widgets/controls",
            "_model_module_version": "1.5.0",
            "_model_name": "FloatProgressModel",
            "_view_count": null,
            "_view_module": "@jupyter-widgets/controls",
            "_view_module_version": "1.5.0",
            "_view_name": "ProgressView",
            "bar_style": "success",
            "description": "",
            "description_tooltip": null,
            "layout": "IPY_MODEL_107dcdea431c4e24be83407864efca2f",
            "max": 20,
            "min": 0,
            "orientation": "horizontal",
            "style": "IPY_MODEL_17d13a1b2d144c019b804249e0f723ea",
            "value": 20
          }
        },
        "eeb9c3227667436997369c1612bec086": {
          "model_module": "@jupyter-widgets/controls",
          "model_name": "HTMLModel",
          "model_module_version": "1.5.0",
          "state": {
            "_dom_classes": [],
            "_model_module": "@jupyter-widgets/controls",
            "_model_module_version": "1.5.0",
            "_model_name": "HTMLModel",
            "_view_count": null,
            "_view_module": "@jupyter-widgets/controls",
            "_view_module_version": "1.5.0",
            "_view_name": "HTMLView",
            "description": "",
            "description_tooltip": null,
            "layout": "IPY_MODEL_eb24a1229eab47bfae8e36f9aab906d5",
            "placeholder": "​",
            "style": "IPY_MODEL_e7583b40f2ef43d3a1c4cf40f3f2b70a",
            "value": " 20/20 [25:50&lt;00:00, 77.47s/it]"
          }
        },
        "27834903c386480490f106b820d0c0b4": {
          "model_module": "@jupyter-widgets/base",
          "model_name": "LayoutModel",
          "model_module_version": "1.2.0",
          "state": {
            "_model_module": "@jupyter-widgets/base",
            "_model_module_version": "1.2.0",
            "_model_name": "LayoutModel",
            "_view_count": null,
            "_view_module": "@jupyter-widgets/base",
            "_view_module_version": "1.2.0",
            "_view_name": "LayoutView",
            "align_content": null,
            "align_items": null,
            "align_self": null,
            "border": null,
            "bottom": null,
            "display": null,
            "flex": null,
            "flex_flow": null,
            "grid_area": null,
            "grid_auto_columns": null,
            "grid_auto_flow": null,
            "grid_auto_rows": null,
            "grid_column": null,
            "grid_gap": null,
            "grid_row": null,
            "grid_template_areas": null,
            "grid_template_columns": null,
            "grid_template_rows": null,
            "height": null,
            "justify_content": null,
            "justify_items": null,
            "left": null,
            "margin": null,
            "max_height": null,
            "max_width": null,
            "min_height": null,
            "min_width": null,
            "object_fit": null,
            "object_position": null,
            "order": null,
            "overflow": null,
            "overflow_x": null,
            "overflow_y": null,
            "padding": null,
            "right": null,
            "top": null,
            "visibility": null,
            "width": null
          }
        },
        "8b96f945361c45dda774f86fc8b2013d": {
          "model_module": "@jupyter-widgets/base",
          "model_name": "LayoutModel",
          "model_module_version": "1.2.0",
          "state": {
            "_model_module": "@jupyter-widgets/base",
            "_model_module_version": "1.2.0",
            "_model_name": "LayoutModel",
            "_view_count": null,
            "_view_module": "@jupyter-widgets/base",
            "_view_module_version": "1.2.0",
            "_view_name": "LayoutView",
            "align_content": null,
            "align_items": null,
            "align_self": null,
            "border": null,
            "bottom": null,
            "display": null,
            "flex": null,
            "flex_flow": null,
            "grid_area": null,
            "grid_auto_columns": null,
            "grid_auto_flow": null,
            "grid_auto_rows": null,
            "grid_column": null,
            "grid_gap": null,
            "grid_row": null,
            "grid_template_areas": null,
            "grid_template_columns": null,
            "grid_template_rows": null,
            "height": null,
            "justify_content": null,
            "justify_items": null,
            "left": null,
            "margin": null,
            "max_height": null,
            "max_width": null,
            "min_height": null,
            "min_width": null,
            "object_fit": null,
            "object_position": null,
            "order": null,
            "overflow": null,
            "overflow_x": null,
            "overflow_y": null,
            "padding": null,
            "right": null,
            "top": null,
            "visibility": null,
            "width": null
          }
        },
        "b378904fa1504fe9a7d9939055738d02": {
          "model_module": "@jupyter-widgets/controls",
          "model_name": "DescriptionStyleModel",
          "model_module_version": "1.5.0",
          "state": {
            "_model_module": "@jupyter-widgets/controls",
            "_model_module_version": "1.5.0",
            "_model_name": "DescriptionStyleModel",
            "_view_count": null,
            "_view_module": "@jupyter-widgets/base",
            "_view_module_version": "1.2.0",
            "_view_name": "StyleView",
            "description_width": ""
          }
        },
        "107dcdea431c4e24be83407864efca2f": {
          "model_module": "@jupyter-widgets/base",
          "model_name": "LayoutModel",
          "model_module_version": "1.2.0",
          "state": {
            "_model_module": "@jupyter-widgets/base",
            "_model_module_version": "1.2.0",
            "_model_name": "LayoutModel",
            "_view_count": null,
            "_view_module": "@jupyter-widgets/base",
            "_view_module_version": "1.2.0",
            "_view_name": "LayoutView",
            "align_content": null,
            "align_items": null,
            "align_self": null,
            "border": null,
            "bottom": null,
            "display": null,
            "flex": null,
            "flex_flow": null,
            "grid_area": null,
            "grid_auto_columns": null,
            "grid_auto_flow": null,
            "grid_auto_rows": null,
            "grid_column": null,
            "grid_gap": null,
            "grid_row": null,
            "grid_template_areas": null,
            "grid_template_columns": null,
            "grid_template_rows": null,
            "height": null,
            "justify_content": null,
            "justify_items": null,
            "left": null,
            "margin": null,
            "max_height": null,
            "max_width": null,
            "min_height": null,
            "min_width": null,
            "object_fit": null,
            "object_position": null,
            "order": null,
            "overflow": null,
            "overflow_x": null,
            "overflow_y": null,
            "padding": null,
            "right": null,
            "top": null,
            "visibility": null,
            "width": null
          }
        },
        "17d13a1b2d144c019b804249e0f723ea": {
          "model_module": "@jupyter-widgets/controls",
          "model_name": "ProgressStyleModel",
          "model_module_version": "1.5.0",
          "state": {
            "_model_module": "@jupyter-widgets/controls",
            "_model_module_version": "1.5.0",
            "_model_name": "ProgressStyleModel",
            "_view_count": null,
            "_view_module": "@jupyter-widgets/base",
            "_view_module_version": "1.2.0",
            "_view_name": "StyleView",
            "bar_color": null,
            "description_width": ""
          }
        },
        "eb24a1229eab47bfae8e36f9aab906d5": {
          "model_module": "@jupyter-widgets/base",
          "model_name": "LayoutModel",
          "model_module_version": "1.2.0",
          "state": {
            "_model_module": "@jupyter-widgets/base",
            "_model_module_version": "1.2.0",
            "_model_name": "LayoutModel",
            "_view_count": null,
            "_view_module": "@jupyter-widgets/base",
            "_view_module_version": "1.2.0",
            "_view_name": "LayoutView",
            "align_content": null,
            "align_items": null,
            "align_self": null,
            "border": null,
            "bottom": null,
            "display": null,
            "flex": null,
            "flex_flow": null,
            "grid_area": null,
            "grid_auto_columns": null,
            "grid_auto_flow": null,
            "grid_auto_rows": null,
            "grid_column": null,
            "grid_gap": null,
            "grid_row": null,
            "grid_template_areas": null,
            "grid_template_columns": null,
            "grid_template_rows": null,
            "height": null,
            "justify_content": null,
            "justify_items": null,
            "left": null,
            "margin": null,
            "max_height": null,
            "max_width": null,
            "min_height": null,
            "min_width": null,
            "object_fit": null,
            "object_position": null,
            "order": null,
            "overflow": null,
            "overflow_x": null,
            "overflow_y": null,
            "padding": null,
            "right": null,
            "top": null,
            "visibility": null,
            "width": null
          }
        },
        "e7583b40f2ef43d3a1c4cf40f3f2b70a": {
          "model_module": "@jupyter-widgets/controls",
          "model_name": "DescriptionStyleModel",
          "model_module_version": "1.5.0",
          "state": {
            "_model_module": "@jupyter-widgets/controls",
            "_model_module_version": "1.5.0",
            "_model_name": "DescriptionStyleModel",
            "_view_count": null,
            "_view_module": "@jupyter-widgets/base",
            "_view_module_version": "1.2.0",
            "_view_name": "StyleView",
            "description_width": ""
          }
        },
        "aafc19976a4148e6a3b8b9c4d1ad2412": {
          "model_module": "@jupyter-widgets/controls",
          "model_name": "HBoxModel",
          "model_module_version": "1.5.0",
          "state": {
            "_dom_classes": [],
            "_model_module": "@jupyter-widgets/controls",
            "_model_module_version": "1.5.0",
            "_model_name": "HBoxModel",
            "_view_count": null,
            "_view_module": "@jupyter-widgets/controls",
            "_view_module_version": "1.5.0",
            "_view_name": "HBoxView",
            "box_style": "",
            "children": [
              "IPY_MODEL_38f2032c922842afaf95d1ee6e661994",
              "IPY_MODEL_ba12e6c884b242cfa2c18f828cc4ead0",
              "IPY_MODEL_c5c61d80233843eea744488b6b1b9269"
            ],
            "layout": "IPY_MODEL_f0dcd25c034342bbbd2a1ad0eb2bc4f1"
          }
        },
        "38f2032c922842afaf95d1ee6e661994": {
          "model_module": "@jupyter-widgets/controls",
          "model_name": "HTMLModel",
          "model_module_version": "1.5.0",
          "state": {
            "_dom_classes": [],
            "_model_module": "@jupyter-widgets/controls",
            "_model_module_version": "1.5.0",
            "_model_name": "HTMLModel",
            "_view_count": null,
            "_view_module": "@jupyter-widgets/controls",
            "_view_module_version": "1.5.0",
            "_view_name": "HTMLView",
            "description": "",
            "description_tooltip": null,
            "layout": "IPY_MODEL_2e9b59b68f8a46ae9bc841c568a98e53",
            "placeholder": "​",
            "style": "IPY_MODEL_8f62c501007c434785c37393cbf5f680",
            "value": "100%"
          }
        },
        "ba12e6c884b242cfa2c18f828cc4ead0": {
          "model_module": "@jupyter-widgets/controls",
          "model_name": "FloatProgressModel",
          "model_module_version": "1.5.0",
          "state": {
            "_dom_classes": [],
            "_model_module": "@jupyter-widgets/controls",
            "_model_module_version": "1.5.0",
            "_model_name": "FloatProgressModel",
            "_view_count": null,
            "_view_module": "@jupyter-widgets/controls",
            "_view_module_version": "1.5.0",
            "_view_name": "ProgressView",
            "bar_style": "success",
            "description": "",
            "description_tooltip": null,
            "layout": "IPY_MODEL_e1f663fd39414ecb81b8007246bc2959",
            "max": 20,
            "min": 0,
            "orientation": "horizontal",
            "style": "IPY_MODEL_f286d029dd8341e4abedb5f734abd4ef",
            "value": 20
          }
        },
        "c5c61d80233843eea744488b6b1b9269": {
          "model_module": "@jupyter-widgets/controls",
          "model_name": "HTMLModel",
          "model_module_version": "1.5.0",
          "state": {
            "_dom_classes": [],
            "_model_module": "@jupyter-widgets/controls",
            "_model_module_version": "1.5.0",
            "_model_name": "HTMLModel",
            "_view_count": null,
            "_view_module": "@jupyter-widgets/controls",
            "_view_module_version": "1.5.0",
            "_view_name": "HTMLView",
            "description": "",
            "description_tooltip": null,
            "layout": "IPY_MODEL_5cfed4366fa44bb89b88b05110310641",
            "placeholder": "​",
            "style": "IPY_MODEL_5facf19ee4f74444a2aaa68bf3849e9c",
            "value": " 20/20 [25:53&lt;00:00, 77.73s/it]"
          }
        },
        "f0dcd25c034342bbbd2a1ad0eb2bc4f1": {
          "model_module": "@jupyter-widgets/base",
          "model_name": "LayoutModel",
          "model_module_version": "1.2.0",
          "state": {
            "_model_module": "@jupyter-widgets/base",
            "_model_module_version": "1.2.0",
            "_model_name": "LayoutModel",
            "_view_count": null,
            "_view_module": "@jupyter-widgets/base",
            "_view_module_version": "1.2.0",
            "_view_name": "LayoutView",
            "align_content": null,
            "align_items": null,
            "align_self": null,
            "border": null,
            "bottom": null,
            "display": null,
            "flex": null,
            "flex_flow": null,
            "grid_area": null,
            "grid_auto_columns": null,
            "grid_auto_flow": null,
            "grid_auto_rows": null,
            "grid_column": null,
            "grid_gap": null,
            "grid_row": null,
            "grid_template_areas": null,
            "grid_template_columns": null,
            "grid_template_rows": null,
            "height": null,
            "justify_content": null,
            "justify_items": null,
            "left": null,
            "margin": null,
            "max_height": null,
            "max_width": null,
            "min_height": null,
            "min_width": null,
            "object_fit": null,
            "object_position": null,
            "order": null,
            "overflow": null,
            "overflow_x": null,
            "overflow_y": null,
            "padding": null,
            "right": null,
            "top": null,
            "visibility": null,
            "width": null
          }
        },
        "2e9b59b68f8a46ae9bc841c568a98e53": {
          "model_module": "@jupyter-widgets/base",
          "model_name": "LayoutModel",
          "model_module_version": "1.2.0",
          "state": {
            "_model_module": "@jupyter-widgets/base",
            "_model_module_version": "1.2.0",
            "_model_name": "LayoutModel",
            "_view_count": null,
            "_view_module": "@jupyter-widgets/base",
            "_view_module_version": "1.2.0",
            "_view_name": "LayoutView",
            "align_content": null,
            "align_items": null,
            "align_self": null,
            "border": null,
            "bottom": null,
            "display": null,
            "flex": null,
            "flex_flow": null,
            "grid_area": null,
            "grid_auto_columns": null,
            "grid_auto_flow": null,
            "grid_auto_rows": null,
            "grid_column": null,
            "grid_gap": null,
            "grid_row": null,
            "grid_template_areas": null,
            "grid_template_columns": null,
            "grid_template_rows": null,
            "height": null,
            "justify_content": null,
            "justify_items": null,
            "left": null,
            "margin": null,
            "max_height": null,
            "max_width": null,
            "min_height": null,
            "min_width": null,
            "object_fit": null,
            "object_position": null,
            "order": null,
            "overflow": null,
            "overflow_x": null,
            "overflow_y": null,
            "padding": null,
            "right": null,
            "top": null,
            "visibility": null,
            "width": null
          }
        },
        "8f62c501007c434785c37393cbf5f680": {
          "model_module": "@jupyter-widgets/controls",
          "model_name": "DescriptionStyleModel",
          "model_module_version": "1.5.0",
          "state": {
            "_model_module": "@jupyter-widgets/controls",
            "_model_module_version": "1.5.0",
            "_model_name": "DescriptionStyleModel",
            "_view_count": null,
            "_view_module": "@jupyter-widgets/base",
            "_view_module_version": "1.2.0",
            "_view_name": "StyleView",
            "description_width": ""
          }
        },
        "e1f663fd39414ecb81b8007246bc2959": {
          "model_module": "@jupyter-widgets/base",
          "model_name": "LayoutModel",
          "model_module_version": "1.2.0",
          "state": {
            "_model_module": "@jupyter-widgets/base",
            "_model_module_version": "1.2.0",
            "_model_name": "LayoutModel",
            "_view_count": null,
            "_view_module": "@jupyter-widgets/base",
            "_view_module_version": "1.2.0",
            "_view_name": "LayoutView",
            "align_content": null,
            "align_items": null,
            "align_self": null,
            "border": null,
            "bottom": null,
            "display": null,
            "flex": null,
            "flex_flow": null,
            "grid_area": null,
            "grid_auto_columns": null,
            "grid_auto_flow": null,
            "grid_auto_rows": null,
            "grid_column": null,
            "grid_gap": null,
            "grid_row": null,
            "grid_template_areas": null,
            "grid_template_columns": null,
            "grid_template_rows": null,
            "height": null,
            "justify_content": null,
            "justify_items": null,
            "left": null,
            "margin": null,
            "max_height": null,
            "max_width": null,
            "min_height": null,
            "min_width": null,
            "object_fit": null,
            "object_position": null,
            "order": null,
            "overflow": null,
            "overflow_x": null,
            "overflow_y": null,
            "padding": null,
            "right": null,
            "top": null,
            "visibility": null,
            "width": null
          }
        },
        "f286d029dd8341e4abedb5f734abd4ef": {
          "model_module": "@jupyter-widgets/controls",
          "model_name": "ProgressStyleModel",
          "model_module_version": "1.5.0",
          "state": {
            "_model_module": "@jupyter-widgets/controls",
            "_model_module_version": "1.5.0",
            "_model_name": "ProgressStyleModel",
            "_view_count": null,
            "_view_module": "@jupyter-widgets/base",
            "_view_module_version": "1.2.0",
            "_view_name": "StyleView",
            "bar_color": null,
            "description_width": ""
          }
        },
        "5cfed4366fa44bb89b88b05110310641": {
          "model_module": "@jupyter-widgets/base",
          "model_name": "LayoutModel",
          "model_module_version": "1.2.0",
          "state": {
            "_model_module": "@jupyter-widgets/base",
            "_model_module_version": "1.2.0",
            "_model_name": "LayoutModel",
            "_view_count": null,
            "_view_module": "@jupyter-widgets/base",
            "_view_module_version": "1.2.0",
            "_view_name": "LayoutView",
            "align_content": null,
            "align_items": null,
            "align_self": null,
            "border": null,
            "bottom": null,
            "display": null,
            "flex": null,
            "flex_flow": null,
            "grid_area": null,
            "grid_auto_columns": null,
            "grid_auto_flow": null,
            "grid_auto_rows": null,
            "grid_column": null,
            "grid_gap": null,
            "grid_row": null,
            "grid_template_areas": null,
            "grid_template_columns": null,
            "grid_template_rows": null,
            "height": null,
            "justify_content": null,
            "justify_items": null,
            "left": null,
            "margin": null,
            "max_height": null,
            "max_width": null,
            "min_height": null,
            "min_width": null,
            "object_fit": null,
            "object_position": null,
            "order": null,
            "overflow": null,
            "overflow_x": null,
            "overflow_y": null,
            "padding": null,
            "right": null,
            "top": null,
            "visibility": null,
            "width": null
          }
        },
        "5facf19ee4f74444a2aaa68bf3849e9c": {
          "model_module": "@jupyter-widgets/controls",
          "model_name": "DescriptionStyleModel",
          "model_module_version": "1.5.0",
          "state": {
            "_model_module": "@jupyter-widgets/controls",
            "_model_module_version": "1.5.0",
            "_model_name": "DescriptionStyleModel",
            "_view_count": null,
            "_view_module": "@jupyter-widgets/base",
            "_view_module_version": "1.2.0",
            "_view_name": "StyleView",
            "description_width": ""
          }
        },
        "207ebf956e8e4d58b8242f3b7a63959e": {
          "model_module": "@jupyter-widgets/controls",
          "model_name": "HBoxModel",
          "model_module_version": "1.5.0",
          "state": {
            "_dom_classes": [],
            "_model_module": "@jupyter-widgets/controls",
            "_model_module_version": "1.5.0",
            "_model_name": "HBoxModel",
            "_view_count": null,
            "_view_module": "@jupyter-widgets/controls",
            "_view_module_version": "1.5.0",
            "_view_name": "HBoxView",
            "box_style": "",
            "children": [
              "IPY_MODEL_cf6be9c26a33439babe9597efc896ec1",
              "IPY_MODEL_5cdd0457cb5a4deaa44da395610ce03c",
              "IPY_MODEL_e4f118f68bac4612ae65fbae7bd4f9f3"
            ],
            "layout": "IPY_MODEL_e962495a95be48b6a31778dbee9231c5"
          }
        },
        "cf6be9c26a33439babe9597efc896ec1": {
          "model_module": "@jupyter-widgets/controls",
          "model_name": "HTMLModel",
          "model_module_version": "1.5.0",
          "state": {
            "_dom_classes": [],
            "_model_module": "@jupyter-widgets/controls",
            "_model_module_version": "1.5.0",
            "_model_name": "HTMLModel",
            "_view_count": null,
            "_view_module": "@jupyter-widgets/controls",
            "_view_module_version": "1.5.0",
            "_view_name": "HTMLView",
            "description": "",
            "description_tooltip": null,
            "layout": "IPY_MODEL_b1d86c660a434563ae7c1f949cb9d9ed",
            "placeholder": "​",
            "style": "IPY_MODEL_d9be34d21a644405b6fb4804f046588d",
            "value": "100%"
          }
        },
        "5cdd0457cb5a4deaa44da395610ce03c": {
          "model_module": "@jupyter-widgets/controls",
          "model_name": "FloatProgressModel",
          "model_module_version": "1.5.0",
          "state": {
            "_dom_classes": [],
            "_model_module": "@jupyter-widgets/controls",
            "_model_module_version": "1.5.0",
            "_model_name": "FloatProgressModel",
            "_view_count": null,
            "_view_module": "@jupyter-widgets/controls",
            "_view_module_version": "1.5.0",
            "_view_name": "ProgressView",
            "bar_style": "success",
            "description": "",
            "description_tooltip": null,
            "layout": "IPY_MODEL_2f6fbb1e0b2644eab1a927ed8b9fd4a3",
            "max": 20,
            "min": 0,
            "orientation": "horizontal",
            "style": "IPY_MODEL_201386d76cd14c59b1f1893e76b5546f",
            "value": 20
          }
        },
        "e4f118f68bac4612ae65fbae7bd4f9f3": {
          "model_module": "@jupyter-widgets/controls",
          "model_name": "HTMLModel",
          "model_module_version": "1.5.0",
          "state": {
            "_dom_classes": [],
            "_model_module": "@jupyter-widgets/controls",
            "_model_module_version": "1.5.0",
            "_model_name": "HTMLModel",
            "_view_count": null,
            "_view_module": "@jupyter-widgets/controls",
            "_view_module_version": "1.5.0",
            "_view_name": "HTMLView",
            "description": "",
            "description_tooltip": null,
            "layout": "IPY_MODEL_418174389c8142e3b987ed03bbd11339",
            "placeholder": "​",
            "style": "IPY_MODEL_094b48a589c34b379f49d509760e0e57",
            "value": " 20/20 [25:53&lt;00:00, 77.72s/it]"
          }
        },
        "e962495a95be48b6a31778dbee9231c5": {
          "model_module": "@jupyter-widgets/base",
          "model_name": "LayoutModel",
          "model_module_version": "1.2.0",
          "state": {
            "_model_module": "@jupyter-widgets/base",
            "_model_module_version": "1.2.0",
            "_model_name": "LayoutModel",
            "_view_count": null,
            "_view_module": "@jupyter-widgets/base",
            "_view_module_version": "1.2.0",
            "_view_name": "LayoutView",
            "align_content": null,
            "align_items": null,
            "align_self": null,
            "border": null,
            "bottom": null,
            "display": null,
            "flex": null,
            "flex_flow": null,
            "grid_area": null,
            "grid_auto_columns": null,
            "grid_auto_flow": null,
            "grid_auto_rows": null,
            "grid_column": null,
            "grid_gap": null,
            "grid_row": null,
            "grid_template_areas": null,
            "grid_template_columns": null,
            "grid_template_rows": null,
            "height": null,
            "justify_content": null,
            "justify_items": null,
            "left": null,
            "margin": null,
            "max_height": null,
            "max_width": null,
            "min_height": null,
            "min_width": null,
            "object_fit": null,
            "object_position": null,
            "order": null,
            "overflow": null,
            "overflow_x": null,
            "overflow_y": null,
            "padding": null,
            "right": null,
            "top": null,
            "visibility": null,
            "width": null
          }
        },
        "b1d86c660a434563ae7c1f949cb9d9ed": {
          "model_module": "@jupyter-widgets/base",
          "model_name": "LayoutModel",
          "model_module_version": "1.2.0",
          "state": {
            "_model_module": "@jupyter-widgets/base",
            "_model_module_version": "1.2.0",
            "_model_name": "LayoutModel",
            "_view_count": null,
            "_view_module": "@jupyter-widgets/base",
            "_view_module_version": "1.2.0",
            "_view_name": "LayoutView",
            "align_content": null,
            "align_items": null,
            "align_self": null,
            "border": null,
            "bottom": null,
            "display": null,
            "flex": null,
            "flex_flow": null,
            "grid_area": null,
            "grid_auto_columns": null,
            "grid_auto_flow": null,
            "grid_auto_rows": null,
            "grid_column": null,
            "grid_gap": null,
            "grid_row": null,
            "grid_template_areas": null,
            "grid_template_columns": null,
            "grid_template_rows": null,
            "height": null,
            "justify_content": null,
            "justify_items": null,
            "left": null,
            "margin": null,
            "max_height": null,
            "max_width": null,
            "min_height": null,
            "min_width": null,
            "object_fit": null,
            "object_position": null,
            "order": null,
            "overflow": null,
            "overflow_x": null,
            "overflow_y": null,
            "padding": null,
            "right": null,
            "top": null,
            "visibility": null,
            "width": null
          }
        },
        "d9be34d21a644405b6fb4804f046588d": {
          "model_module": "@jupyter-widgets/controls",
          "model_name": "DescriptionStyleModel",
          "model_module_version": "1.5.0",
          "state": {
            "_model_module": "@jupyter-widgets/controls",
            "_model_module_version": "1.5.0",
            "_model_name": "DescriptionStyleModel",
            "_view_count": null,
            "_view_module": "@jupyter-widgets/base",
            "_view_module_version": "1.2.0",
            "_view_name": "StyleView",
            "description_width": ""
          }
        },
        "2f6fbb1e0b2644eab1a927ed8b9fd4a3": {
          "model_module": "@jupyter-widgets/base",
          "model_name": "LayoutModel",
          "model_module_version": "1.2.0",
          "state": {
            "_model_module": "@jupyter-widgets/base",
            "_model_module_version": "1.2.0",
            "_model_name": "LayoutModel",
            "_view_count": null,
            "_view_module": "@jupyter-widgets/base",
            "_view_module_version": "1.2.0",
            "_view_name": "LayoutView",
            "align_content": null,
            "align_items": null,
            "align_self": null,
            "border": null,
            "bottom": null,
            "display": null,
            "flex": null,
            "flex_flow": null,
            "grid_area": null,
            "grid_auto_columns": null,
            "grid_auto_flow": null,
            "grid_auto_rows": null,
            "grid_column": null,
            "grid_gap": null,
            "grid_row": null,
            "grid_template_areas": null,
            "grid_template_columns": null,
            "grid_template_rows": null,
            "height": null,
            "justify_content": null,
            "justify_items": null,
            "left": null,
            "margin": null,
            "max_height": null,
            "max_width": null,
            "min_height": null,
            "min_width": null,
            "object_fit": null,
            "object_position": null,
            "order": null,
            "overflow": null,
            "overflow_x": null,
            "overflow_y": null,
            "padding": null,
            "right": null,
            "top": null,
            "visibility": null,
            "width": null
          }
        },
        "201386d76cd14c59b1f1893e76b5546f": {
          "model_module": "@jupyter-widgets/controls",
          "model_name": "ProgressStyleModel",
          "model_module_version": "1.5.0",
          "state": {
            "_model_module": "@jupyter-widgets/controls",
            "_model_module_version": "1.5.0",
            "_model_name": "ProgressStyleModel",
            "_view_count": null,
            "_view_module": "@jupyter-widgets/base",
            "_view_module_version": "1.2.0",
            "_view_name": "StyleView",
            "bar_color": null,
            "description_width": ""
          }
        },
        "418174389c8142e3b987ed03bbd11339": {
          "model_module": "@jupyter-widgets/base",
          "model_name": "LayoutModel",
          "model_module_version": "1.2.0",
          "state": {
            "_model_module": "@jupyter-widgets/base",
            "_model_module_version": "1.2.0",
            "_model_name": "LayoutModel",
            "_view_count": null,
            "_view_module": "@jupyter-widgets/base",
            "_view_module_version": "1.2.0",
            "_view_name": "LayoutView",
            "align_content": null,
            "align_items": null,
            "align_self": null,
            "border": null,
            "bottom": null,
            "display": null,
            "flex": null,
            "flex_flow": null,
            "grid_area": null,
            "grid_auto_columns": null,
            "grid_auto_flow": null,
            "grid_auto_rows": null,
            "grid_column": null,
            "grid_gap": null,
            "grid_row": null,
            "grid_template_areas": null,
            "grid_template_columns": null,
            "grid_template_rows": null,
            "height": null,
            "justify_content": null,
            "justify_items": null,
            "left": null,
            "margin": null,
            "max_height": null,
            "max_width": null,
            "min_height": null,
            "min_width": null,
            "object_fit": null,
            "object_position": null,
            "order": null,
            "overflow": null,
            "overflow_x": null,
            "overflow_y": null,
            "padding": null,
            "right": null,
            "top": null,
            "visibility": null,
            "width": null
          }
        },
        "094b48a589c34b379f49d509760e0e57": {
          "model_module": "@jupyter-widgets/controls",
          "model_name": "DescriptionStyleModel",
          "model_module_version": "1.5.0",
          "state": {
            "_model_module": "@jupyter-widgets/controls",
            "_model_module_version": "1.5.0",
            "_model_name": "DescriptionStyleModel",
            "_view_count": null,
            "_view_module": "@jupyter-widgets/base",
            "_view_module_version": "1.2.0",
            "_view_name": "StyleView",
            "description_width": ""
          }
        },
        "02478dca197b4b13b9dd3d7c4bf9cec0": {
          "model_module": "@jupyter-widgets/controls",
          "model_name": "HBoxModel",
          "model_module_version": "1.5.0",
          "state": {
            "_dom_classes": [],
            "_model_module": "@jupyter-widgets/controls",
            "_model_module_version": "1.5.0",
            "_model_name": "HBoxModel",
            "_view_count": null,
            "_view_module": "@jupyter-widgets/controls",
            "_view_module_version": "1.5.0",
            "_view_name": "HBoxView",
            "box_style": "",
            "children": [
              "IPY_MODEL_0666405d74e54418a805723db9da9ce3",
              "IPY_MODEL_736870905dd0457681a7f5a5864af3ab",
              "IPY_MODEL_1b4d9aa402a74534b5693a8eaba4217c"
            ],
            "layout": "IPY_MODEL_7d04b3d35e184515a087edb986af3bd1"
          }
        },
        "0666405d74e54418a805723db9da9ce3": {
          "model_module": "@jupyter-widgets/controls",
          "model_name": "HTMLModel",
          "model_module_version": "1.5.0",
          "state": {
            "_dom_classes": [],
            "_model_module": "@jupyter-widgets/controls",
            "_model_module_version": "1.5.0",
            "_model_name": "HTMLModel",
            "_view_count": null,
            "_view_module": "@jupyter-widgets/controls",
            "_view_module_version": "1.5.0",
            "_view_name": "HTMLView",
            "description": "",
            "description_tooltip": null,
            "layout": "IPY_MODEL_8c701810e43e44579b29ad5acd3fef7b",
            "placeholder": "​",
            "style": "IPY_MODEL_b0b79f5c332e4f67bc0a1a258cd13de2",
            "value": "100%"
          }
        },
        "736870905dd0457681a7f5a5864af3ab": {
          "model_module": "@jupyter-widgets/controls",
          "model_name": "FloatProgressModel",
          "model_module_version": "1.5.0",
          "state": {
            "_dom_classes": [],
            "_model_module": "@jupyter-widgets/controls",
            "_model_module_version": "1.5.0",
            "_model_name": "FloatProgressModel",
            "_view_count": null,
            "_view_module": "@jupyter-widgets/controls",
            "_view_module_version": "1.5.0",
            "_view_name": "ProgressView",
            "bar_style": "success",
            "description": "",
            "description_tooltip": null,
            "layout": "IPY_MODEL_2fda9b58a5664ea4878cc5d1deb81fcb",
            "max": 20,
            "min": 0,
            "orientation": "horizontal",
            "style": "IPY_MODEL_2be8dd00a4fa4ed89a9d8800d2730c67",
            "value": 20
          }
        },
        "1b4d9aa402a74534b5693a8eaba4217c": {
          "model_module": "@jupyter-widgets/controls",
          "model_name": "HTMLModel",
          "model_module_version": "1.5.0",
          "state": {
            "_dom_classes": [],
            "_model_module": "@jupyter-widgets/controls",
            "_model_module_version": "1.5.0",
            "_model_name": "HTMLModel",
            "_view_count": null,
            "_view_module": "@jupyter-widgets/controls",
            "_view_module_version": "1.5.0",
            "_view_name": "HTMLView",
            "description": "",
            "description_tooltip": null,
            "layout": "IPY_MODEL_93241453f059401180cce7c5540202cd",
            "placeholder": "​",
            "style": "IPY_MODEL_e185350df13b49279189ec3212caf268",
            "value": " 20/20 [30:25&lt;00:00, 91.43s/it]"
          }
        },
        "7d04b3d35e184515a087edb986af3bd1": {
          "model_module": "@jupyter-widgets/base",
          "model_name": "LayoutModel",
          "model_module_version": "1.2.0",
          "state": {
            "_model_module": "@jupyter-widgets/base",
            "_model_module_version": "1.2.0",
            "_model_name": "LayoutModel",
            "_view_count": null,
            "_view_module": "@jupyter-widgets/base",
            "_view_module_version": "1.2.0",
            "_view_name": "LayoutView",
            "align_content": null,
            "align_items": null,
            "align_self": null,
            "border": null,
            "bottom": null,
            "display": null,
            "flex": null,
            "flex_flow": null,
            "grid_area": null,
            "grid_auto_columns": null,
            "grid_auto_flow": null,
            "grid_auto_rows": null,
            "grid_column": null,
            "grid_gap": null,
            "grid_row": null,
            "grid_template_areas": null,
            "grid_template_columns": null,
            "grid_template_rows": null,
            "height": null,
            "justify_content": null,
            "justify_items": null,
            "left": null,
            "margin": null,
            "max_height": null,
            "max_width": null,
            "min_height": null,
            "min_width": null,
            "object_fit": null,
            "object_position": null,
            "order": null,
            "overflow": null,
            "overflow_x": null,
            "overflow_y": null,
            "padding": null,
            "right": null,
            "top": null,
            "visibility": null,
            "width": null
          }
        },
        "8c701810e43e44579b29ad5acd3fef7b": {
          "model_module": "@jupyter-widgets/base",
          "model_name": "LayoutModel",
          "model_module_version": "1.2.0",
          "state": {
            "_model_module": "@jupyter-widgets/base",
            "_model_module_version": "1.2.0",
            "_model_name": "LayoutModel",
            "_view_count": null,
            "_view_module": "@jupyter-widgets/base",
            "_view_module_version": "1.2.0",
            "_view_name": "LayoutView",
            "align_content": null,
            "align_items": null,
            "align_self": null,
            "border": null,
            "bottom": null,
            "display": null,
            "flex": null,
            "flex_flow": null,
            "grid_area": null,
            "grid_auto_columns": null,
            "grid_auto_flow": null,
            "grid_auto_rows": null,
            "grid_column": null,
            "grid_gap": null,
            "grid_row": null,
            "grid_template_areas": null,
            "grid_template_columns": null,
            "grid_template_rows": null,
            "height": null,
            "justify_content": null,
            "justify_items": null,
            "left": null,
            "margin": null,
            "max_height": null,
            "max_width": null,
            "min_height": null,
            "min_width": null,
            "object_fit": null,
            "object_position": null,
            "order": null,
            "overflow": null,
            "overflow_x": null,
            "overflow_y": null,
            "padding": null,
            "right": null,
            "top": null,
            "visibility": null,
            "width": null
          }
        },
        "b0b79f5c332e4f67bc0a1a258cd13de2": {
          "model_module": "@jupyter-widgets/controls",
          "model_name": "DescriptionStyleModel",
          "model_module_version": "1.5.0",
          "state": {
            "_model_module": "@jupyter-widgets/controls",
            "_model_module_version": "1.5.0",
            "_model_name": "DescriptionStyleModel",
            "_view_count": null,
            "_view_module": "@jupyter-widgets/base",
            "_view_module_version": "1.2.0",
            "_view_name": "StyleView",
            "description_width": ""
          }
        },
        "2fda9b58a5664ea4878cc5d1deb81fcb": {
          "model_module": "@jupyter-widgets/base",
          "model_name": "LayoutModel",
          "model_module_version": "1.2.0",
          "state": {
            "_model_module": "@jupyter-widgets/base",
            "_model_module_version": "1.2.0",
            "_model_name": "LayoutModel",
            "_view_count": null,
            "_view_module": "@jupyter-widgets/base",
            "_view_module_version": "1.2.0",
            "_view_name": "LayoutView",
            "align_content": null,
            "align_items": null,
            "align_self": null,
            "border": null,
            "bottom": null,
            "display": null,
            "flex": null,
            "flex_flow": null,
            "grid_area": null,
            "grid_auto_columns": null,
            "grid_auto_flow": null,
            "grid_auto_rows": null,
            "grid_column": null,
            "grid_gap": null,
            "grid_row": null,
            "grid_template_areas": null,
            "grid_template_columns": null,
            "grid_template_rows": null,
            "height": null,
            "justify_content": null,
            "justify_items": null,
            "left": null,
            "margin": null,
            "max_height": null,
            "max_width": null,
            "min_height": null,
            "min_width": null,
            "object_fit": null,
            "object_position": null,
            "order": null,
            "overflow": null,
            "overflow_x": null,
            "overflow_y": null,
            "padding": null,
            "right": null,
            "top": null,
            "visibility": null,
            "width": null
          }
        },
        "2be8dd00a4fa4ed89a9d8800d2730c67": {
          "model_module": "@jupyter-widgets/controls",
          "model_name": "ProgressStyleModel",
          "model_module_version": "1.5.0",
          "state": {
            "_model_module": "@jupyter-widgets/controls",
            "_model_module_version": "1.5.0",
            "_model_name": "ProgressStyleModel",
            "_view_count": null,
            "_view_module": "@jupyter-widgets/base",
            "_view_module_version": "1.2.0",
            "_view_name": "StyleView",
            "bar_color": null,
            "description_width": ""
          }
        },
        "93241453f059401180cce7c5540202cd": {
          "model_module": "@jupyter-widgets/base",
          "model_name": "LayoutModel",
          "model_module_version": "1.2.0",
          "state": {
            "_model_module": "@jupyter-widgets/base",
            "_model_module_version": "1.2.0",
            "_model_name": "LayoutModel",
            "_view_count": null,
            "_view_module": "@jupyter-widgets/base",
            "_view_module_version": "1.2.0",
            "_view_name": "LayoutView",
            "align_content": null,
            "align_items": null,
            "align_self": null,
            "border": null,
            "bottom": null,
            "display": null,
            "flex": null,
            "flex_flow": null,
            "grid_area": null,
            "grid_auto_columns": null,
            "grid_auto_flow": null,
            "grid_auto_rows": null,
            "grid_column": null,
            "grid_gap": null,
            "grid_row": null,
            "grid_template_areas": null,
            "grid_template_columns": null,
            "grid_template_rows": null,
            "height": null,
            "justify_content": null,
            "justify_items": null,
            "left": null,
            "margin": null,
            "max_height": null,
            "max_width": null,
            "min_height": null,
            "min_width": null,
            "object_fit": null,
            "object_position": null,
            "order": null,
            "overflow": null,
            "overflow_x": null,
            "overflow_y": null,
            "padding": null,
            "right": null,
            "top": null,
            "visibility": null,
            "width": null
          }
        },
        "e185350df13b49279189ec3212caf268": {
          "model_module": "@jupyter-widgets/controls",
          "model_name": "DescriptionStyleModel",
          "model_module_version": "1.5.0",
          "state": {
            "_model_module": "@jupyter-widgets/controls",
            "_model_module_version": "1.5.0",
            "_model_name": "DescriptionStyleModel",
            "_view_count": null,
            "_view_module": "@jupyter-widgets/base",
            "_view_module_version": "1.2.0",
            "_view_name": "StyleView",
            "description_width": ""
          }
        }
      }
    }
  },
  "cells": [
    {
      "cell_type": "code",
      "execution_count": 1,
      "metadata": {
        "id": "IBtCBlDV7etD"
      },
      "outputs": [],
      "source": [
        "import torch\n",
        "import os\n",
        "import matplotlib.pyplot as plt\n",
        "import imageio\n",
        "from PIL import Image\n",
        "from torch.utils.data import Dataset, DataLoader\n",
        "from torchvision import transforms\n",
        "import numpy as np\n",
        "from tqdm.auto import tqdm\n",
        "import torch.nn.functional as F\n",
        "import torchvision\n",
        "import multiprocessing\n",
        "import torchvision.transforms as T\n",
        "import torch.nn as nn"
      ]
    },
    {
      "cell_type": "code",
      "source": [
        "# Hyperparemeters\n",
        "IMG_SIZE = 128\n",
        "EPOCHS = 20\n",
        "BATCH_SIZE  = 4\n",
        "NUM_WORKERS = int(multiprocessing.cpu_count() / 2)\n",
        "device = 'cuda' if torch.cuda.is_available() else 'cpu'"
      ],
      "metadata": {
        "id": "F3VIogV57ngn"
      },
      "execution_count": 2,
      "outputs": []
    },
    {
      "cell_type": "code",
      "source": [
        "class ContractingBlock(nn.Module):\n",
        "\n",
        "    def __init__(self, in_chs, out_chs, str_conv = False, mp=True):\n",
        "        super(ContractingBlock,self).__init__()\n",
        "\n",
        "        self.conv1 = nn.Conv2d(in_chs,out_chs, kernel_size=3, padding=1)\n",
        "        self.bn1   = nn.BatchNorm2d(out_chs)\n",
        "        self.relu1 = nn.ReLU(inplace=True)\n",
        "\n",
        "        self.conv2 = nn.Conv2d(out_chs,out_chs, kernel_size=3, padding=1)\n",
        "        self.bn2   = nn.BatchNorm2d(out_chs)\n",
        "        self.relu2 = nn.ReLU(inplace=True)\n",
        "\n",
        "        self.maxpool  = nn.MaxPool2d(kernel_size=2,stride=2)\n",
        "        self.str_conv = nn.Conv2d(out_chs, out_chs, kernel_size=2, stride=2)\n",
        "\n",
        "        self.pooling_flag  = mp\n",
        "        self.str_conv_flag  = str_conv\n",
        "\n",
        "    def forward(self,x):\n",
        "        x = self.conv1(x)\n",
        "        x = self.bn1(x)\n",
        "        x = self.relu1(x)\n",
        "\n",
        "        x = self.conv2(x)\n",
        "        x = self.bn2(x)\n",
        "        x = self.relu2(x)\n",
        "\n",
        "        skip = x\n",
        "        if self.pooling_flag:\n",
        "            x = self.maxpool(x)\n",
        "        if self.str_conv_flag:\n",
        "            x = self.str_conv(x)\n",
        "\n",
        "        return x, skip\n",
        "\n",
        "class ExpandingBlock(nn.Module):\n",
        "\n",
        "    def __init__(self, in_chs, out_chs, trans_conv):\n",
        "        super(ExpandingBlock,self).__init__()\n",
        "\n",
        "        self.conv2d_tr = nn.ConvTranspose2d(in_chs, in_chs // 2, kernel_size=2, stride=2)\n",
        "        self.upsample  = nn.Upsample(scale_factor = 2, mode='bilinear') # one of ``'nearest'``,``'linear'``, ``'bilinear'``, ``'bicubic'`` and ``'trilinear'``. Default: ``'nearest'``\n",
        "        self.conv2d    = nn.Conv2d(in_chs, in_chs //2, kernel_size=1) # After upsample only\n",
        "\n",
        "        self.conv1 = nn.Conv2d(in_chs, out_chs,kernel_size=3,padding=1) # 512,256\n",
        "        self.bn1   = nn.BatchNorm2d(out_chs)\n",
        "        self.relu1 = nn.ReLU(inplace=True)\n",
        "\n",
        "        self.conv2 = nn.Conv2d(out_chs, out_chs, kernel_size=3, padding=1) # 256,256\n",
        "        self.bn2   = nn.BatchNorm2d(out_chs)\n",
        "        self.relu2 = nn.ReLU(inplace=True)\n",
        "        self.trans_conv_flag = trans_conv\n",
        "\n",
        "    def forward(self,x,skip):\n",
        "        if self.trans_conv_flag:\n",
        "            x = self.conv2d_tr(x)\n",
        "        else:\n",
        "            x = self.upsample(x)\n",
        "            x = self.conv2d(x)\n",
        "\n",
        "        x = torch.cat((x,skip),dim = 1) # dimension 1 is the channel\n",
        "\n",
        "        x = self.conv1(x)\n",
        "        x = self.bn1(x)\n",
        "        x = self.relu1(x)\n",
        "\n",
        "        x = self.conv2(x)\n",
        "        x = self.bn2(x)\n",
        "        x = self.relu2(x)\n",
        "        return x\n",
        "\n",
        "class CustomUNet(nn.Module):\n",
        "\n",
        "    def __init__(self, in_channels, out_channels, str_conv, trans_conv, mp):\n",
        "        super(CustomUNet,self).__init__()\n",
        "\n",
        "        self.contract1 = ContractingBlock(in_channels,32, str_conv, mp)\n",
        "        self.contract2 = ContractingBlock(32,64, str_conv, mp)\n",
        "        self.contract3 = ContractingBlock(64,128,str_conv, mp)\n",
        "        self.contract4 = ContractingBlock(128,256, str_conv, mp)\n",
        "        self.contract5 = ContractingBlock(256,512, str_conv=False, mp=False)\n",
        "\n",
        "        self.expand1 = ExpandingBlock(512, 256, trans_conv)\n",
        "        self.expand2 = ExpandingBlock(256, 128, trans_conv)\n",
        "        self.expand3 = ExpandingBlock(128, 64, trans_conv)\n",
        "        self.expand4 = ExpandingBlock(64, 32, trans_conv)\n",
        "\n",
        "        self.final_conv = nn.Conv2d(32, out_channels, kernel_size=1)\n",
        "\n",
        "    def forward(self,x):\n",
        "        x,skip1 = self.contract1(x)\n",
        "#         print(\"-->\",x.size(), skip1.size())\n",
        "\n",
        "        x,skip2 = self.contract2(x)\n",
        "#         print(x.size(), skip2.size())\n",
        "\n",
        "        x,skip3 = self.contract3(x)\n",
        "#         print(x.size(), skip3.size())\n",
        "\n",
        "        x,skip4 = self.contract4(x)\n",
        "#         print(x.size(), skip4.size())\n",
        "\n",
        "        x,skip5 = self.contract5(x)\n",
        "#         print(x.size(), skip5.size())\n",
        "\n",
        "        x = self.expand1(x,skip4)\n",
        "#         print(x.size())\n",
        "\n",
        "        x = self.expand2(x,skip3)\n",
        "#         print(x.size())\n",
        "\n",
        "        x = self.expand3(x,skip2)\n",
        "#         print(x.size())\n",
        "\n",
        "        x = self.expand4(x,skip1)\n",
        "#         print(x.size())\n",
        "\n",
        "        x = self.final_conv(x)\n",
        "#         print(x.size())\n",
        "        return x"
      ],
      "metadata": {
        "id": "m7_Ym3Cn7wyn"
      },
      "execution_count": 3,
      "outputs": []
    },
    {
      "cell_type": "code",
      "source": [
        "custom_unet = CustomUNet(in_channels=3, out_channels=3, str_conv=True, trans_conv=False, mp = np.True_)\n",
        "custom_unet"
      ],
      "metadata": {
        "colab": {
          "base_uri": "https://localhost:8080/"
        },
        "id": "THwrj7nz71ZC",
        "outputId": "3b523854-3c21-48f5-aeb9-605dc5228271"
      },
      "execution_count": 4,
      "outputs": [
        {
          "output_type": "execute_result",
          "data": {
            "text/plain": [
              "CustomUNet(\n",
              "  (contract1): ContractingBlock(\n",
              "    (conv1): Conv2d(3, 32, kernel_size=(3, 3), stride=(1, 1), padding=(1, 1))\n",
              "    (bn1): BatchNorm2d(32, eps=1e-05, momentum=0.1, affine=True, track_running_stats=True)\n",
              "    (relu1): ReLU(inplace=True)\n",
              "    (conv2): Conv2d(32, 32, kernel_size=(3, 3), stride=(1, 1), padding=(1, 1))\n",
              "    (bn2): BatchNorm2d(32, eps=1e-05, momentum=0.1, affine=True, track_running_stats=True)\n",
              "    (relu2): ReLU(inplace=True)\n",
              "    (maxpool): MaxPool2d(kernel_size=2, stride=2, padding=0, dilation=1, ceil_mode=False)\n",
              "    (str_conv): Conv2d(32, 32, kernel_size=(2, 2), stride=(2, 2))\n",
              "  )\n",
              "  (contract2): ContractingBlock(\n",
              "    (conv1): Conv2d(32, 64, kernel_size=(3, 3), stride=(1, 1), padding=(1, 1))\n",
              "    (bn1): BatchNorm2d(64, eps=1e-05, momentum=0.1, affine=True, track_running_stats=True)\n",
              "    (relu1): ReLU(inplace=True)\n",
              "    (conv2): Conv2d(64, 64, kernel_size=(3, 3), stride=(1, 1), padding=(1, 1))\n",
              "    (bn2): BatchNorm2d(64, eps=1e-05, momentum=0.1, affine=True, track_running_stats=True)\n",
              "    (relu2): ReLU(inplace=True)\n",
              "    (maxpool): MaxPool2d(kernel_size=2, stride=2, padding=0, dilation=1, ceil_mode=False)\n",
              "    (str_conv): Conv2d(64, 64, kernel_size=(2, 2), stride=(2, 2))\n",
              "  )\n",
              "  (contract3): ContractingBlock(\n",
              "    (conv1): Conv2d(64, 128, kernel_size=(3, 3), stride=(1, 1), padding=(1, 1))\n",
              "    (bn1): BatchNorm2d(128, eps=1e-05, momentum=0.1, affine=True, track_running_stats=True)\n",
              "    (relu1): ReLU(inplace=True)\n",
              "    (conv2): Conv2d(128, 128, kernel_size=(3, 3), stride=(1, 1), padding=(1, 1))\n",
              "    (bn2): BatchNorm2d(128, eps=1e-05, momentum=0.1, affine=True, track_running_stats=True)\n",
              "    (relu2): ReLU(inplace=True)\n",
              "    (maxpool): MaxPool2d(kernel_size=2, stride=2, padding=0, dilation=1, ceil_mode=False)\n",
              "    (str_conv): Conv2d(128, 128, kernel_size=(2, 2), stride=(2, 2))\n",
              "  )\n",
              "  (contract4): ContractingBlock(\n",
              "    (conv1): Conv2d(128, 256, kernel_size=(3, 3), stride=(1, 1), padding=(1, 1))\n",
              "    (bn1): BatchNorm2d(256, eps=1e-05, momentum=0.1, affine=True, track_running_stats=True)\n",
              "    (relu1): ReLU(inplace=True)\n",
              "    (conv2): Conv2d(256, 256, kernel_size=(3, 3), stride=(1, 1), padding=(1, 1))\n",
              "    (bn2): BatchNorm2d(256, eps=1e-05, momentum=0.1, affine=True, track_running_stats=True)\n",
              "    (relu2): ReLU(inplace=True)\n",
              "    (maxpool): MaxPool2d(kernel_size=2, stride=2, padding=0, dilation=1, ceil_mode=False)\n",
              "    (str_conv): Conv2d(256, 256, kernel_size=(2, 2), stride=(2, 2))\n",
              "  )\n",
              "  (contract5): ContractingBlock(\n",
              "    (conv1): Conv2d(256, 512, kernel_size=(3, 3), stride=(1, 1), padding=(1, 1))\n",
              "    (bn1): BatchNorm2d(512, eps=1e-05, momentum=0.1, affine=True, track_running_stats=True)\n",
              "    (relu1): ReLU(inplace=True)\n",
              "    (conv2): Conv2d(512, 512, kernel_size=(3, 3), stride=(1, 1), padding=(1, 1))\n",
              "    (bn2): BatchNorm2d(512, eps=1e-05, momentum=0.1, affine=True, track_running_stats=True)\n",
              "    (relu2): ReLU(inplace=True)\n",
              "    (maxpool): MaxPool2d(kernel_size=2, stride=2, padding=0, dilation=1, ceil_mode=False)\n",
              "    (str_conv): Conv2d(512, 512, kernel_size=(2, 2), stride=(2, 2))\n",
              "  )\n",
              "  (expand1): ExpandingBlock(\n",
              "    (conv2d_tr): ConvTranspose2d(512, 256, kernel_size=(2, 2), stride=(2, 2))\n",
              "    (upsample): Upsample(scale_factor=2.0, mode='bilinear')\n",
              "    (conv2d): Conv2d(512, 256, kernel_size=(1, 1), stride=(1, 1))\n",
              "    (conv1): Conv2d(512, 256, kernel_size=(3, 3), stride=(1, 1), padding=(1, 1))\n",
              "    (bn1): BatchNorm2d(256, eps=1e-05, momentum=0.1, affine=True, track_running_stats=True)\n",
              "    (relu1): ReLU(inplace=True)\n",
              "    (conv2): Conv2d(256, 256, kernel_size=(3, 3), stride=(1, 1), padding=(1, 1))\n",
              "    (bn2): BatchNorm2d(256, eps=1e-05, momentum=0.1, affine=True, track_running_stats=True)\n",
              "    (relu2): ReLU(inplace=True)\n",
              "  )\n",
              "  (expand2): ExpandingBlock(\n",
              "    (conv2d_tr): ConvTranspose2d(256, 128, kernel_size=(2, 2), stride=(2, 2))\n",
              "    (upsample): Upsample(scale_factor=2.0, mode='bilinear')\n",
              "    (conv2d): Conv2d(256, 128, kernel_size=(1, 1), stride=(1, 1))\n",
              "    (conv1): Conv2d(256, 128, kernel_size=(3, 3), stride=(1, 1), padding=(1, 1))\n",
              "    (bn1): BatchNorm2d(128, eps=1e-05, momentum=0.1, affine=True, track_running_stats=True)\n",
              "    (relu1): ReLU(inplace=True)\n",
              "    (conv2): Conv2d(128, 128, kernel_size=(3, 3), stride=(1, 1), padding=(1, 1))\n",
              "    (bn2): BatchNorm2d(128, eps=1e-05, momentum=0.1, affine=True, track_running_stats=True)\n",
              "    (relu2): ReLU(inplace=True)\n",
              "  )\n",
              "  (expand3): ExpandingBlock(\n",
              "    (conv2d_tr): ConvTranspose2d(128, 64, kernel_size=(2, 2), stride=(2, 2))\n",
              "    (upsample): Upsample(scale_factor=2.0, mode='bilinear')\n",
              "    (conv2d): Conv2d(128, 64, kernel_size=(1, 1), stride=(1, 1))\n",
              "    (conv1): Conv2d(128, 64, kernel_size=(3, 3), stride=(1, 1), padding=(1, 1))\n",
              "    (bn1): BatchNorm2d(64, eps=1e-05, momentum=0.1, affine=True, track_running_stats=True)\n",
              "    (relu1): ReLU(inplace=True)\n",
              "    (conv2): Conv2d(64, 64, kernel_size=(3, 3), stride=(1, 1), padding=(1, 1))\n",
              "    (bn2): BatchNorm2d(64, eps=1e-05, momentum=0.1, affine=True, track_running_stats=True)\n",
              "    (relu2): ReLU(inplace=True)\n",
              "  )\n",
              "  (expand4): ExpandingBlock(\n",
              "    (conv2d_tr): ConvTranspose2d(64, 32, kernel_size=(2, 2), stride=(2, 2))\n",
              "    (upsample): Upsample(scale_factor=2.0, mode='bilinear')\n",
              "    (conv2d): Conv2d(64, 32, kernel_size=(1, 1), stride=(1, 1))\n",
              "    (conv1): Conv2d(64, 32, kernel_size=(3, 3), stride=(1, 1), padding=(1, 1))\n",
              "    (bn1): BatchNorm2d(32, eps=1e-05, momentum=0.1, affine=True, track_running_stats=True)\n",
              "    (relu1): ReLU(inplace=True)\n",
              "    (conv2): Conv2d(32, 32, kernel_size=(3, 3), stride=(1, 1), padding=(1, 1))\n",
              "    (bn2): BatchNorm2d(32, eps=1e-05, momentum=0.1, affine=True, track_running_stats=True)\n",
              "    (relu2): ReLU(inplace=True)\n",
              "  )\n",
              "  (final_conv): Conv2d(32, 3, kernel_size=(1, 1), stride=(1, 1))\n",
              ")"
            ]
          },
          "metadata": {},
          "execution_count": 4
        }
      ]
    },
    {
      "cell_type": "code",
      "source": [
        "working_dir = r'./'\n",
        "\n",
        "trans = transforms.Compose([\n",
        "    transforms.Resize((IMG_SIZE,IMG_SIZE), interpolation=T.InterpolationMode.BICUBIC),\n",
        "    transforms.ToTensor()\n",
        "])\n",
        "\n",
        "# Oxford IIIT Pets Segmentation dataset loaded via torchvision.\n",
        "pets_path_train = os.path.join(working_dir, 'OxfordPets', 'train')\n",
        "pets_path_test = os.path.join(working_dir, 'OxfordPets', 'test')\n",
        "pets_train = torchvision.datasets.OxfordIIITPet(root=pets_path_train, split=\"trainval\", target_types=\"segmentation\", transform= trans,download=True)\n",
        "pets_test = torchvision.datasets.OxfordIIITPet(root=pets_path_test, split=\"test\", target_types=\"segmentation\",transform=trans, download=True)"
      ],
      "metadata": {
        "colab": {
          "base_uri": "https://localhost:8080/"
        },
        "id": "WNSC9Upo76WK",
        "outputId": "e0a30171-aaf0-4c9b-aa3c-5d717993b3ff"
      },
      "execution_count": 5,
      "outputs": [
        {
          "output_type": "stream",
          "name": "stdout",
          "text": [
            "Downloading https://thor.robots.ox.ac.uk/datasets/pets/images.tar.gz to OxfordPets/train/oxford-iiit-pet/images.tar.gz\n"
          ]
        },
        {
          "output_type": "stream",
          "name": "stderr",
          "text": [
            "100%|██████████| 791918971/791918971 [00:47<00:00, 16523073.70it/s]\n"
          ]
        },
        {
          "output_type": "stream",
          "name": "stdout",
          "text": [
            "Extracting OxfordPets/train/oxford-iiit-pet/images.tar.gz to OxfordPets/train/oxford-iiit-pet\n",
            "Downloading https://thor.robots.ox.ac.uk/datasets/pets/annotations.tar.gz to OxfordPets/train/oxford-iiit-pet/annotations.tar.gz\n"
          ]
        },
        {
          "output_type": "stream",
          "name": "stderr",
          "text": [
            "100%|██████████| 19173078/19173078 [00:02<00:00, 8525455.84it/s] \n"
          ]
        },
        {
          "output_type": "stream",
          "name": "stdout",
          "text": [
            "Extracting OxfordPets/train/oxford-iiit-pet/annotations.tar.gz to OxfordPets/train/oxford-iiit-pet\n",
            "Downloading https://thor.robots.ox.ac.uk/datasets/pets/images.tar.gz to OxfordPets/test/oxford-iiit-pet/images.tar.gz\n"
          ]
        },
        {
          "output_type": "stream",
          "name": "stderr",
          "text": [
            "100%|██████████| 791918971/791918971 [00:47<00:00, 16789749.62it/s]\n"
          ]
        },
        {
          "output_type": "stream",
          "name": "stdout",
          "text": [
            "Extracting OxfordPets/test/oxford-iiit-pet/images.tar.gz to OxfordPets/test/oxford-iiit-pet\n",
            "Downloading https://thor.robots.ox.ac.uk/datasets/pets/annotations.tar.gz to OxfordPets/test/oxford-iiit-pet/annotations.tar.gz\n"
          ]
        },
        {
          "output_type": "stream",
          "name": "stderr",
          "text": [
            "100%|██████████| 19173078/19173078 [00:02<00:00, 8661249.45it/s] \n"
          ]
        },
        {
          "output_type": "stream",
          "name": "stdout",
          "text": [
            "Extracting OxfordPets/test/oxford-iiit-pet/annotations.tar.gz to OxfordPets/test/oxford-iiit-pet\n"
          ]
        }
      ]
    },
    {
      "cell_type": "code",
      "source": [
        "from enum import IntEnum\n",
        "class TrimapClasses(IntEnum):\n",
        "    PET = 0\n",
        "    BACKGROUND = 1\n",
        "    BORDER = 2\n",
        "# Convert a float trimap ({1, 2, 3} / 255.0) into a float tensor with\n",
        "# pixel values in the range 0.0 to 1.0 so that the border pixels\n",
        "# can be properly displayed.\n",
        "def trimap2f(trimap):\n",
        "    return (img2t(trimap) * 255.0 - 1) / 2\n",
        "\n",
        "\n",
        "class OxfordIIITPetsAugmented(torchvision.datasets.OxfordIIITPet):\n",
        "    def __init__(\n",
        "        self,\n",
        "        root: str,\n",
        "        split: str,\n",
        "        target_types=\"segmentation\",\n",
        "        download=False,\n",
        "        pre_transform=None,\n",
        "        post_transform=None,\n",
        "        pre_target_transform=None,\n",
        "        post_target_transform=None,\n",
        "        common_transform=None,\n",
        "    ):\n",
        "        super().__init__(\n",
        "            root=root,\n",
        "            split=split,\n",
        "            target_types=target_types,\n",
        "            download=download,\n",
        "            transform=pre_transform,\n",
        "            target_transform=pre_target_transform,\n",
        "        )\n",
        "        self.post_transform = post_transform\n",
        "        self.post_target_transform = post_target_transform\n",
        "        self.common_transform = common_transform\n",
        "\n",
        "    def __len__(self):\n",
        "        return super().__len__()\n",
        "\n",
        "    def __getitem__(self, idx):\n",
        "        (input, target) = super().__getitem__(idx)\n",
        "\n",
        "        # Common transforms are performed on both the input and the labels\n",
        "        # by creating a 4 channel image and running the transform on both.\n",
        "        # Then the segmentation mask (4th channel) is separated out.\n",
        "        if self.common_transform is not None:\n",
        "            both = torch.cat([input, target], dim=0)\n",
        "            both = self.common_transform(both)\n",
        "            (input, target) = torch.split(both, 3, dim=0)\n",
        "        # end if\n",
        "\n",
        "        if self.post_transform is not None:\n",
        "            input = self.post_transform(input)\n",
        "        if self.post_target_transform is not None:\n",
        "            target = self.post_target_transform(target)\n",
        "\n",
        "        return (input, target)"
      ],
      "metadata": {
        "id": "LR_rFDTz8Ck3"
      },
      "execution_count": 6,
      "outputs": []
    },
    {
      "cell_type": "code",
      "source": [
        "class ToDevice(torch.nn.Module):\n",
        "    \"\"\"\n",
        "    Sends the input object to the device specified in the\n",
        "    object's constructor by calling .to(device) on the object.\n",
        "    \"\"\"\n",
        "    def __init__(self, device):\n",
        "        super().__init__()\n",
        "        self.device = device\n",
        "\n",
        "    def forward(self, img):\n",
        "        return img.to(self.device)\n",
        "\n",
        "    def __repr__(self) -> str:\n",
        "        return f\"{self.__class__.__name__}(device={device})\"\n",
        "\n",
        "\n",
        "def tensor_trimap(t):\n",
        "    x = t * 255\n",
        "    x = x.to(torch.long)\n",
        "    x = x - 1\n",
        "    return x\n",
        "\n",
        "def args_to_dict(**kwargs):\n",
        "    return kwargs\n",
        "\n",
        "transform_dict = args_to_dict(\n",
        "    pre_transform=T.ToTensor(),\n",
        "    pre_target_transform=T.ToTensor(),\n",
        "    common_transform=T.Compose([\n",
        "        ToDevice(device),\n",
        "        T.Resize((128, 128), interpolation=T.InterpolationMode.NEAREST),\n",
        "    ]),\n",
        "    post_transform=T.Compose([\n",
        "        T.ColorJitter(contrast=0.3),\n",
        "    ]),\n",
        "    post_target_transform=T.Compose([\n",
        "        T.Lambda(tensor_trimap),\n",
        "    ]),\n",
        ")\n",
        "\n",
        "pets_train = OxfordIIITPetsAugmented(\n",
        "    root=pets_path_train,\n",
        "    split=\"trainval\",\n",
        "    target_types=\"segmentation\",\n",
        "    download=False,\n",
        "    **transform_dict,\n",
        ")\n",
        "pets_test = OxfordIIITPetsAugmented(\n",
        "    root=pets_path_test,\n",
        "    split=\"test\",\n",
        "    target_types=\"segmentation\",\n",
        "    download=False,\n",
        "    **transform_dict,\n",
        ")\n",
        "\n",
        "pets_train_loader = torch.utils.data.DataLoader(\n",
        "    pets_train,\n",
        "    batch_size=BATCH_SIZE,\n",
        "    shuffle=True,\n",
        ")\n",
        "pets_test_loader = torch.utils.data.DataLoader(\n",
        "    pets_test,\n",
        "    batch_size=BATCH_SIZE,\n",
        "    shuffle=False,\n",
        ")\n",
        "\n",
        "(train_pets_inputs, train_pets_targets) = next(iter(pets_train_loader))\n",
        "(test_pets_inputs, test_pets_targets) = next(iter(pets_test_loader))\n",
        "train_pets_inputs.shape, train_pets_targets.shape"
      ],
      "metadata": {
        "colab": {
          "base_uri": "https://localhost:8080/"
        },
        "id": "d5-pxFI68B8O",
        "outputId": "30e990ed-0d95-42f0-9202-11ca361deb53"
      },
      "execution_count": 7,
      "outputs": [
        {
          "output_type": "execute_result",
          "data": {
            "text/plain": [
              "(torch.Size([4, 3, 128, 128]), torch.Size([4, 1, 128, 128]))"
            ]
          },
          "metadata": {},
          "execution_count": 7
        }
      ]
    },
    {
      "cell_type": "code",
      "source": [
        "from torch.cuda.amp import autocast, GradScaler\n",
        "from torch.optim.lr_scheduler import OneCycleLR\n",
        "def train_unet(epochs, unet, loss_fn, device, train_dataloader, test_dataloader):\n",
        "    train_losses,test_losses = [],[]\n",
        "\n",
        "    # scaler = GradScaler()\n",
        "    optimizer = torch.optim.Adam(unet.parameters(), lr=1e-2, eps=1e-09)\n",
        "    lr_scheduler = OneCycleLR(optimizer, max_lr=1e-2, total_steps=epochs * len(train_dataloader), pct_start=5 / epochs ,anneal_strategy=\"linear\", div_factor=100.0, final_div_factor=100.0, three_phase=True)\n",
        "\n",
        "\n",
        "    for epoch in tqdm(range(epochs)):\n",
        "\n",
        "        unet.train()\n",
        "        train_loss = 0\n",
        "        for batch, (X,y) in enumerate(train_dataloader):\n",
        "            # with autocast():\n",
        "            x,y = X.to(device), y.to(device)\n",
        "            y_pred = unet(X)\n",
        "\n",
        "            loss = loss_fn(y_pred,y.squeeze(1))\n",
        "            train_loss += loss.item()\n",
        "\n",
        "            optimizer.zero_grad()\n",
        "            # scaler.scale(loss).backward()\n",
        "            loss.backward()\n",
        "            optimizer.step()\n",
        "            lr_scheduler.step()\n",
        "        train_loss = train_loss / len(train_dataloader)\n",
        "\n",
        "        # test model\n",
        "        unet.eval()\n",
        "        test_loss = 0\n",
        "\n",
        "        with torch.inference_mode():\n",
        "            for batch, (X,y) in enumerate(test_dataloader):\n",
        "                X,y = X.to(device), y.to(device)\n",
        "                y_pred = unet(X)\n",
        "\n",
        "                loss = loss_fn(y_pred,y.squeeze(1))\n",
        "                test_loss += loss.item()\n",
        "\n",
        "            test_loss = test_loss / len(test_dataloader)\n",
        "\n",
        "        print(f\"Epoch: {epoch+1} train_loss: {train_loss}  test_loss: {test_loss} \")\n",
        "        train_losses.append(train_loss)\n",
        "        test_losses.append(test_loss)\n",
        "\n",
        "    return train_losses, test_losses"
      ],
      "metadata": {
        "id": "XjEmvPcc8osO"
      },
      "execution_count": 8,
      "outputs": []
    },
    {
      "cell_type": "code",
      "source": [
        "# define losses\n",
        "cross_entropy_fn = nn.CrossEntropyLoss()\n",
        "\n",
        "def dice_loss_fn(pred,target,n_classes=3):\n",
        "    smooth = 0.001\n",
        "    pred = F.softmax(pred,dim=1).float().flatten(0,1)\n",
        "    target = F.one_hot(target, n_classes).squeeze(1).permute(0, 3, 1, 2).float().flatten(0,1)\n",
        "    assert pred.size() == pred.size(), \"sizes do not match\"\n",
        "\n",
        "    intersection = 2 * (pred * target).sum(dim=(-1, -2))\n",
        "    union = pred.sum(dim=(-1, -2)) + target.sum(dim=(-1, -2))\n",
        "    dice = (intersection + smooth) / ( union + smooth)\n",
        "\n",
        "    return 1 - dice.mean()"
      ],
      "metadata": {
        "id": "kUOe9-Gu8tft"
      },
      "execution_count": 9,
      "outputs": []
    },
    {
      "cell_type": "markdown",
      "source": [
        "**MP(MaxPooling) + CR (CRoss Entropy) + Tr(Transposed Convolution)**"
      ],
      "metadata": {
        "id": "1ecXgXcK88er"
      }
    },
    {
      "cell_type": "code",
      "source": [
        "unet = CustomUNet(in_channels=3, out_channels=3, str_conv=False, trans_conv=True, mp = True).to(device)\n",
        "\n",
        "train_losses,test_losses = train_unet(EPOCHS, unet, cross_entropy_fn, device, train_dataloader = pets_train_loader,test_dataloader = pets_test_loader)"
      ],
      "metadata": {
        "colab": {
          "base_uri": "https://localhost:8080/",
          "height": 396,
          "referenced_widgets": [
            "a106b342aeeb4b8ba3d3072b4d54ed6f",
            "bd8de41f63494117873b8f9fe1831300",
            "4ffddd92c2614eca908903ae822b63a5",
            "eeb9c3227667436997369c1612bec086",
            "27834903c386480490f106b820d0c0b4",
            "8b96f945361c45dda774f86fc8b2013d",
            "b378904fa1504fe9a7d9939055738d02",
            "107dcdea431c4e24be83407864efca2f",
            "17d13a1b2d144c019b804249e0f723ea",
            "eb24a1229eab47bfae8e36f9aab906d5",
            "e7583b40f2ef43d3a1c4cf40f3f2b70a"
          ]
        },
        "id": "990TahD38zYe",
        "outputId": "9810d4b8-8725-446b-a981-0a5adf0f2987"
      },
      "execution_count": 10,
      "outputs": [
        {
          "output_type": "display_data",
          "data": {
            "text/plain": [
              "  0%|          | 0/20 [00:00<?, ?it/s]"
            ],
            "application/vnd.jupyter.widget-view+json": {
              "version_major": 2,
              "version_minor": 0,
              "model_id": "a106b342aeeb4b8ba3d3072b4d54ed6f"
            }
          },
          "metadata": {}
        },
        {
          "output_type": "stream",
          "name": "stdout",
          "text": [
            "Epoch: 1 train_loss: 0.6611229756280131  test_loss: 0.5704013193127636 \n",
            "Epoch: 2 train_loss: 0.5291907374301682  test_loss: 0.6097954501416168 \n",
            "Epoch: 3 train_loss: 0.4693559521890205  test_loss: 0.4962507870397277 \n",
            "Epoch: 4 train_loss: 0.44435688542283097  test_loss: 0.467545586993232 \n",
            "Epoch: 5 train_loss: 0.4162201541921367  test_loss: 0.42048435989353394 \n",
            "Epoch: 6 train_loss: 0.3931655659785737  test_loss: 0.3579298325840684 \n",
            "Epoch: 7 train_loss: 0.35350523385340754  test_loss: 0.34567756392467514 \n",
            "Epoch: 8 train_loss: 0.3176203616125428  test_loss: 0.3222105841199038 \n",
            "Epoch: 9 train_loss: 0.2834202462564344  test_loss: 0.2978128388864932 \n",
            "Epoch: 10 train_loss: 0.24521161537293507  test_loss: 0.2812589292530141 \n",
            "Epoch: 11 train_loss: 0.22836059250099502  test_loss: 0.2840429239039977 \n",
            "Epoch: 12 train_loss: 0.22578058787014174  test_loss: 0.2811717228854404 \n",
            "Epoch: 13 train_loss: 0.2250942568173227  test_loss: 0.28023000543608384 \n",
            "Epoch: 14 train_loss: 0.22218906272850605  test_loss: 0.2838253389013229 \n",
            "Epoch: 15 train_loss: 0.22280183823212332  test_loss: 0.28379771716421986 \n",
            "Epoch: 16 train_loss: 0.2217054863338885  test_loss: 0.2829326122577154 \n",
            "Epoch: 17 train_loss: 0.21972062478408866  test_loss: 0.2835870167009192 \n",
            "Epoch: 18 train_loss: 0.21958045211985058  test_loss: 0.28209438125454783 \n",
            "Epoch: 19 train_loss: 0.21928293356752915  test_loss: 0.2863698487529178 \n",
            "Epoch: 20 train_loss: 0.21827720321876848  test_loss: 0.28261739288280213 \n"
          ]
        }
      ]
    },
    {
      "cell_type": "code",
      "source": [
        "import matplotlib.pyplot as plt\n",
        "\n",
        "def plot_losses(train_losses, test_losses):\n",
        "    epochs = range(1, len(train_losses) + 1)\n",
        "\n",
        "    # Set a larger figure size\n",
        "    plt.figure(figsize=(12, 6))  # Adjust the width and height as needed\n",
        "\n",
        "    # Plot train losses\n",
        "    plt.subplot(1, 2, 1)\n",
        "    plt.plot(epochs, train_losses, label='Train Loss')\n",
        "    plt.title('Train Loss')\n",
        "    plt.xlabel('Epoch')\n",
        "    plt.ylabel('Loss')\n",
        "    plt.legend()\n",
        "\n",
        "    # Plot test losses\n",
        "    plt.subplot(1, 2, 2)\n",
        "    plt.plot(epochs, test_losses, label='Test Loss', color='orange')\n",
        "    plt.title('Test Loss')\n",
        "    plt.xlabel('Epoch')\n",
        "    plt.ylabel('Loss')\n",
        "    plt.legend()\n",
        "\n",
        "    # Adjust layout to prevent clipping of titles\n",
        "    plt.tight_layout()\n",
        "\n",
        "    # Show the plot\n",
        "    plt.show()\n"
      ],
      "metadata": {
        "id": "efZaTlkw-Uss"
      },
      "execution_count": 12,
      "outputs": []
    },
    {
      "cell_type": "code",
      "source": [
        "plot_losses(train_losses, test_losses)"
      ],
      "metadata": {
        "colab": {
          "base_uri": "https://localhost:8080/",
          "height": 484
        },
        "id": "mE_qw9dt-Upn",
        "outputId": "922a7f1b-7429-419c-aa6e-f3ae3f8c7a7b"
      },
      "execution_count": 12,
      "outputs": [
        {
          "output_type": "display_data",
          "data": {
            "text/plain": [
              "<Figure size 1200x600 with 2 Axes>"
            ],
            "image/png": "[encoded data removed]"
          },
          "metadata": {}
        }
      ]
    },
    {
      "cell_type": "markdown",
      "source": [
        "**MP(MaxPooling) + DL (Dice Loss) + Tr(Transposed Convolution)**"
      ],
      "metadata": {
        "id": "nki9w0qd_mI-"
      }
    },
    {
      "cell_type": "code",
      "source": [
        "unet = CustomUNet(in_channels=3, out_channels=3, str_conv=False, trans_conv=True, mp = True).to(device)\n",
        "\n",
        "train_losses,test_losses = train_unet(EPOCHS, unet, dice_loss_fn, device, train_dataloader = pets_train_loader,test_dataloader = pets_test_loader)"
      ],
      "metadata": {
        "colab": {
          "base_uri": "https://localhost:8080/",
          "height": 396,
          "referenced_widgets": [
            "aafc19976a4148e6a3b8b9c4d1ad2412",
            "38f2032c922842afaf95d1ee6e661994",
            "ba12e6c884b242cfa2c18f828cc4ead0",
            "c5c61d80233843eea744488b6b1b9269",
            "f0dcd25c034342bbbd2a1ad0eb2bc4f1",
            "2e9b59b68f8a46ae9bc841c568a98e53",
            "8f62c501007c434785c37393cbf5f680",
            "e1f663fd39414ecb81b8007246bc2959",
            "f286d029dd8341e4abedb5f734abd4ef",
            "5cfed4366fa44bb89b88b05110310641",
            "5facf19ee4f74444a2aaa68bf3849e9c"
          ]
        },
        "id": "vWZACA_8-Umv",
        "outputId": "07cb9472-0967-4027-d299-f668c0ba8260"
      },
      "execution_count": 13,
      "outputs": [
        {
          "output_type": "display_data",
          "data": {
            "text/plain": [
              "  0%|          | 0/20 [00:00<?, ?it/s]"
            ],
            "application/vnd.jupyter.widget-view+json": {
              "version_major": 2,
              "version_minor": 0,
              "model_id": "aafc19976a4148e6a3b8b9c4d1ad2412"
            }
          },
          "metadata": {}
        },
        {
          "output_type": "stream",
          "name": "stdout",
          "text": [
            "Epoch: 1 train_loss: 0.3798566615451937  test_loss: 0.37132979744400074 \n",
            "Epoch: 2 train_loss: 0.30160413682460785  test_loss: 0.3115563866619451 \n",
            "Epoch: 3 train_loss: 0.283949683541837  test_loss: 0.2625698512805573 \n",
            "Epoch: 4 train_loss: 0.278678024009518  test_loss: 0.2833584958691483 \n",
            "Epoch: 5 train_loss: 0.26896305349857913  test_loss: 0.2642441903583884 \n",
            "Epoch: 6 train_loss: 0.2547768364781919  test_loss: 0.22768906395160035 \n",
            "Epoch: 7 train_loss: 0.23584686867568805  test_loss: 0.22783582019650078 \n",
            "Epoch: 8 train_loss: 0.2204397725670234  test_loss: 0.2050382898134344 \n",
            "Epoch: 9 train_loss: 0.20410125255584716  test_loss: 0.2002520189176198 \n",
            "Epoch: 10 train_loss: 0.18674141039019046  test_loss: 0.18337927638575402 \n",
            "Epoch: 11 train_loss: 0.1789198081130567  test_loss: 0.18112158619500454 \n",
            "Epoch: 12 train_loss: 0.17784029336079307  test_loss: 0.1797888536079257 \n",
            "Epoch: 13 train_loss: 0.17738503761913466  test_loss: 0.18095869364821573 \n",
            "Epoch: 14 train_loss: 0.17604086010352424  test_loss: 0.17948126234519976 \n",
            "Epoch: 15 train_loss: 0.17574765708135523  test_loss: 0.18119066155034733 \n",
            "Epoch: 16 train_loss: 0.174876541417578  test_loss: 0.17999793144352816 \n",
            "Epoch: 17 train_loss: 0.17428459998058235  test_loss: 0.17933526998771301 \n",
            "Epoch: 18 train_loss: 0.17403499484062196  test_loss: 0.18064868060591954 \n",
            "Epoch: 19 train_loss: 0.17373388940873352  test_loss: 0.17888937750932699 \n",
            "Epoch: 20 train_loss: 0.17408839807562207  test_loss: 0.1789816690685962 \n"
          ]
        }
      ]
    },
    {
      "cell_type": "code",
      "source": [
        "plot_losses(train_losses, test_losses)"
      ],
      "metadata": {
        "colab": {
          "base_uri": "https://localhost:8080/",
          "height": 484
        },
        "id": "cRRrlLmi-Uk6",
        "outputId": "078805c2-a5af-458d-c166-13e7c0de4f84"
      },
      "execution_count": 14,
      "outputs": [
        {
          "output_type": "display_data",
          "data": {
            "text/plain": [
              "<Figure size 1200x600 with 2 Axes>"
            ],
            "image/png": "[encoded data removed]"
          },
          "metadata": {}
        }
      ]
    },
    {
      "cell_type": "markdown",
      "source": [
        "**StrConv(Strided Convolution) + CL (Cross Entropy Loss) + Tr(Transposed Convolution)**"
      ],
      "metadata": {
        "id": "H0EyLo-nACKE"
      }
    },
    {
      "cell_type": "code",
      "source": [
        "unet = CustomUNet(in_channels=3, out_channels=3, str_conv=True, trans_conv=True, mp = False).to(device)\n",
        "\n",
        "train_losses,test_losses = train_unet(EPOCHS, unet, cross_entropy_fn, device, train_dataloader = pets_train_loader,test_dataloader = pets_test_loader)"
      ],
      "metadata": {
        "colab": {
          "base_uri": "https://localhost:8080/",
          "height": 396,
          "referenced_widgets": [
            "207ebf956e8e4d58b8242f3b7a63959e",
            "cf6be9c26a33439babe9597efc896ec1",
            "5cdd0457cb5a4deaa44da395610ce03c",
            "e4f118f68bac4612ae65fbae7bd4f9f3",
            "e962495a95be48b6a31778dbee9231c5",
            "b1d86c660a434563ae7c1f949cb9d9ed",
            "d9be34d21a644405b6fb4804f046588d",
            "2f6fbb1e0b2644eab1a927ed8b9fd4a3",
            "201386d76cd14c59b1f1893e76b5546f",
            "418174389c8142e3b987ed03bbd11339",
            "094b48a589c34b379f49d509760e0e57"
          ]
        },
        "id": "P7PKEQfw-Uiw",
        "outputId": "04fa3985-fe0b-4bd9-d29e-cc92a4744038"
      },
      "execution_count": 15,
      "outputs": [
        {
          "output_type": "display_data",
          "data": {
            "text/plain": [
              "  0%|          | 0/20 [00:00<?, ?it/s]"
            ],
            "application/vnd.jupyter.widget-view+json": {
              "version_major": 2,
              "version_minor": 0,
              "model_id": "207ebf956e8e4d58b8242f3b7a63959e"
            }
          },
          "metadata": {}
        },
        {
          "output_type": "stream",
          "name": "stdout",
          "text": [
            "Epoch: 1 train_loss: 0.6675550589418929  test_loss: 0.60880528135562 \n",
            "Epoch: 2 train_loss: 0.5454201046215451  test_loss: 0.5303197684241276 \n",
            "Epoch: 3 train_loss: 0.5062045363952284  test_loss: 0.5288633848652081 \n",
            "Epoch: 4 train_loss: 0.4733613993162694  test_loss: 0.48906411035777697 \n",
            "Epoch: 5 train_loss: 0.4474350932013729  test_loss: 0.6507809456916676 \n",
            "Epoch: 6 train_loss: 0.4193981905346331  test_loss: 0.45910260910756706 \n",
            "Epoch: 7 train_loss: 0.3826625333370074  test_loss: 0.3940116048086443 \n",
            "Epoch: 8 train_loss: 0.3485008587817783  test_loss: 0.3510395188558206 \n",
            "Epoch: 9 train_loss: 0.31739263944327833  test_loss: 0.30508273709281336 \n",
            "Epoch: 10 train_loss: 0.2778669691361163  test_loss: 0.29193387235756274 \n",
            "Epoch: 11 train_loss: 0.257475351623219  test_loss: 0.29187177244192375 \n",
            "Epoch: 12 train_loss: 0.255981056926691  test_loss: 0.293306654388154 \n",
            "Epoch: 13 train_loss: 0.252828027162215  test_loss: 0.2905135626350743 \n",
            "Epoch: 14 train_loss: 0.2530765497895039  test_loss: 0.29100971308603785 \n",
            "Epoch: 15 train_loss: 0.2503672932315132  test_loss: 0.2926897954009067 \n",
            "Epoch: 16 train_loss: 0.24983880665639172  test_loss: 0.29240345741441565 \n",
            "Epoch: 17 train_loss: 0.2493239375722149  test_loss: 0.29345845838517665 \n",
            "Epoch: 18 train_loss: 0.24979322376134602  test_loss: 0.29069986646438994 \n",
            "Epoch: 19 train_loss: 0.24892579427231912  test_loss: 0.2902554163307536 \n",
            "Epoch: 20 train_loss: 0.24826911443277547  test_loss: 0.29202273356563907 \n"
          ]
        }
      ]
    },
    {
      "cell_type": "code",
      "source": [
        "plot_losses(train_losses, test_losses)"
      ],
      "metadata": {
        "colab": {
          "base_uri": "https://localhost:8080/",
          "height": 484
        },
        "id": "486m5j_f-UgA",
        "outputId": "e1c3722e-bbd2-494f-880f-cbd6f687f60c"
      },
      "execution_count": 16,
      "outputs": [
        {
          "output_type": "display_data",
          "data": {
            "text/plain": [
              "<Figure size 1200x600 with 2 Axes>"
            ],
            "image/png": "[encoded data removed]"
          },
          "metadata": {}
        }
      ]
    },
    {
      "cell_type": "markdown",
      "source": [
        "**StrConv(Strided Convolution) + DL (Dice Entropy Loss) + Up(Up Sampling)**"
      ],
      "metadata": {
        "id": "tjSRHb0bBr7M"
      }
    },
    {
      "cell_type": "code",
      "source": [
        "unet = CustomUNet(in_channels=3, out_channels=3, str_conv=True, trans_conv=False, mp = False).to(device)\n",
        "\n",
        "train_losses,test_losses = train_unet(EPOCHS, unet, dice_loss_fn, device, train_dataloader = pets_train_loader,test_dataloader = pets_test_loader)"
      ],
      "metadata": {
        "colab": {
          "base_uri": "https://localhost:8080/",
          "height": 396,
          "referenced_widgets": [
            "02478dca197b4b13b9dd3d7c4bf9cec0",
            "0666405d74e54418a805723db9da9ce3",
            "736870905dd0457681a7f5a5864af3ab",
            "1b4d9aa402a74534b5693a8eaba4217c",
            "7d04b3d35e184515a087edb986af3bd1",
            "8c701810e43e44579b29ad5acd3fef7b",
            "b0b79f5c332e4f67bc0a1a258cd13de2",
            "2fda9b58a5664ea4878cc5d1deb81fcb",
            "2be8dd00a4fa4ed89a9d8800d2730c67",
            "93241453f059401180cce7c5540202cd",
            "e185350df13b49279189ec3212caf268"
          ]
        },
        "id": "3rIbTyeG-UdO",
        "outputId": "3b9d5836-ec45-4f7c-f242-7041ea6ffcae"
      },
      "execution_count": 10,
      "outputs": [
        {
          "output_type": "display_data",
          "data": {
            "text/plain": [
              "  0%|          | 0/20 [00:00<?, ?it/s]"
            ],
            "application/vnd.jupyter.widget-view+json": {
              "version_major": 2,
              "version_minor": 0,
              "model_id": "02478dca197b4b13b9dd3d7c4bf9cec0"
            }
          },
          "metadata": {}
        },
        {
          "output_type": "stream",
          "name": "stdout",
          "text": [
            "Epoch: 1 train_loss: 0.39003261392531186  test_loss: 0.42392307954935726 \n",
            "Epoch: 2 train_loss: 0.3113824318284574  test_loss: 0.30883965227339005 \n",
            "Epoch: 3 train_loss: 0.2978960363113362  test_loss: 0.2896622095362553 \n",
            "Epoch: 4 train_loss: 0.28454231127448704  test_loss: 0.28966195085988844 \n",
            "Epoch: 5 train_loss: 0.2809768697489863  test_loss: 0.2676447016351363 \n",
            "Epoch: 6 train_loss: 0.2651003741699716  test_loss: 0.23884220690768787 \n",
            "Epoch: 7 train_loss: 0.24867805916330088  test_loss: 0.22392985880504765 \n",
            "Epoch: 8 train_loss: 0.23210258075724477  test_loss: 0.221700194094955 \n",
            "Epoch: 9 train_loss: 0.2189521654792454  test_loss: 0.21446105182041011 \n",
            "Epoch: 10 train_loss: 0.19903542140255803  test_loss: 0.19128483352058592 \n",
            "Epoch: 11 train_loss: 0.18854633161555165  test_loss: 0.18950975895707123 \n",
            "Epoch: 12 train_loss: 0.18687704276779424  test_loss: 0.18722889249361158 \n",
            "Epoch: 13 train_loss: 0.18625012053095777  test_loss: 0.18834818383447485 \n",
            "Epoch: 14 train_loss: 0.18508830711893412  test_loss: 0.18874773571434103 \n",
            "Epoch: 15 train_loss: 0.1843346937842991  test_loss: 0.1882887404728559 \n",
            "Epoch: 16 train_loss: 0.18383535723323408  test_loss: 0.18782700452150083 \n",
            "Epoch: 17 train_loss: 0.18400257184453633  test_loss: 0.18757836316146104 \n",
            "Epoch: 18 train_loss: 0.18411619280991348  test_loss: 0.1872094172927549 \n",
            "Epoch: 19 train_loss: 0.18320064693689347  test_loss: 0.18623073493213696 \n",
            "Epoch: 20 train_loss: 0.18377119302749634  test_loss: 0.1870007718830067 \n"
          ]
        }
      ]
    },
    {
      "cell_type": "code",
      "source": [
        "plot_losses(train_losses, test_losses)"
      ],
      "metadata": {
        "colab": {
          "base_uri": "https://localhost:8080/",
          "height": 484
        },
        "id": "k9SI87X4-UbV",
        "outputId": "8f125ed1-f32d-4b4f-952c-eb53d2b9f610"
      },
      "execution_count": 13,
      "outputs": [
        {
          "output_type": "display_data",
          "data": {
            "text/plain": [
              "<Figure size 1200x600 with 2 Axes>"
            ],
            "image/png": "[encoded data removed]"
          },
          "metadata": {}
        }
      ]
    },
    {
      "cell_type": "code",
      "source": [],
      "metadata": {
        "id": "jFNU4t1gzYiV"
      },
      "execution_count": null,
      "outputs": []
    }
  ]
}