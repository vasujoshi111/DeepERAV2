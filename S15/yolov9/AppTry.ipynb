{
 "cells": [
  {
   "cell_type": "code",
   "execution_count": 1,
   "id": "5dad6165",
   "metadata": {},
   "outputs": [
    {
     "name": "stderr",
     "output_type": "stream",
     "text": [
      "C:\\Users\\H504171\\Anaconda\\envs\\torch_vasu\\lib\\site-packages\\tqdm\\auto.py:21: TqdmWarning: IProgress not found. Please update jupyter and ipywidgets. See https://ipywidgets.readthedocs.io/en/stable/user_install.html\n",
      "  from .autonotebook import tqdm as notebook_tqdm\n"
     ]
    }
   ],
   "source": [
    "import cv2, os\n",
    "import gradio as gr\n",
    "import numpy as np\n",
    "import torch"
   ]
  },
  {
   "cell_type": "code",
   "execution_count": 2,
   "id": "de57210f",
   "metadata": {},
   "outputs": [],
   "source": [
    "from models.common import DetectMultiBackend\n",
    "from utils.augmentations import letterbox\n",
    "from utils.general import non_max_suppression, scale_boxes\n",
    "from utils.plots import Annotator, colors, save_one_box\n",
    "from utils.torch_utils import select_device"
   ]
  },
  {
   "cell_type": "code",
   "execution_count": 3,
   "id": "e1bd968d",
   "metadata": {},
   "outputs": [],
   "source": [
    "img_size = 640\n",
    "stride = 32\n",
    "auto = True\n",
    "max_det=1000\n",
    "classes = None\n",
    "agnostic_nms = False\n",
    "line_thickness = 3"
   ]
  },
  {
   "cell_type": "code",
   "execution_count": 4,
   "id": "135320e4",
   "metadata": {},
   "outputs": [
    {
     "name": "stderr",
     "output_type": "stream",
     "text": [
      "YOLOv5  1e33dbb Python-3.10.13 torch-2.2.1+cpu CPU\n",
      "\n",
      "Fusing layers... \n",
      "gelan-c summary: 467 layers, 25411731 parameters, 0 gradients, 102.5 GFLOPs\n"
     ]
    }
   ],
   "source": [
    "# Load model\n",
    "device = select_device('cpu')\n",
    "dnn =False\n",
    "data = r\"data/custom_data.yaml\"\n",
    "weights = r\"yolov9/best.pt\"\n",
    "model = DetectMultiBackend(weights, device=device, dnn=dnn, data=data, fp16=False)"
   ]
  },
  {
   "cell_type": "code",
   "execution_count": 5,
   "id": "b044962b",
   "metadata": {},
   "outputs": [],
   "source": [
    "# im0 = cv2.imread(path)  # BGR\n",
    "# im = letterbox(im0, img_size, stride=stride, auto=auto)[0]  # padded resize\n",
    "# im = im.transpose((2, 0, 1))[::-1]  # HWC to CHW, BGR to RGB\n",
    "# im = np.ascontiguousarray(im)  # contiguous\n",
    "# im = torch.from_numpy(im).to(model.device)\n",
    "# im = im.half() if model.fp16 else im.float()  # uint8 to fp16/32\n",
    "# im /= 255  # 0 - 255 to 0.0 - 1.0\n",
    "# if len(im.shape) == 3:\n",
    "#     im = im[None]\n",
    "# im.shape"
   ]
  },
  {
   "cell_type": "code",
   "execution_count": 6,
   "id": "076b9a17",
   "metadata": {},
   "outputs": [],
   "source": [
    "# pred = model(im, augment=False, visualize=False)"
   ]
  },
  {
   "cell_type": "code",
   "execution_count": null,
   "id": "9f2e3f95",
   "metadata": {},
   "outputs": [],
   "source": []
  },
  {
   "cell_type": "code",
   "execution_count": 7,
   "id": "1ae05b5e",
   "metadata": {},
   "outputs": [],
   "source": [
    "# pred = pred[0][1] if isinstance(pred[0], list) else pred[0]\n",
    "# pred = non_max_suppression(pred, conf_thres, iou_thres, classes, agnostic_nms, max_det=max_det)\n"
   ]
  },
  {
   "cell_type": "code",
   "execution_count": null,
   "id": "569565de",
   "metadata": {},
   "outputs": [],
   "source": []
  },
  {
   "cell_type": "code",
   "execution_count": 8,
   "id": "4a1aaf7d",
   "metadata": {},
   "outputs": [],
   "source": [
    "# \n",
    "# names = {0: 'buffalo'}"
   ]
  },
  {
   "cell_type": "code",
   "execution_count": 9,
   "id": "eb45e3b6",
   "metadata": {},
   "outputs": [],
   "source": [
    "# # Process predictions\n",
    "# for i, det in enumerate(pred):  # per image\n",
    "#     gn = torch.tensor(im0.shape)[[1, 0, 1, 0]]  # normalization gain whwh\n",
    "#     imc = im0.copy()\n",
    "#     annotator = Annotator(im0, line_width=line_thickness, example=str(names))\n",
    "#     if len(det):\n",
    "#         # Rescale boxes from img_size to im0 size\n",
    "#         det[:, :4] = scale_boxes(im.shape[2:], det[:, :4], im0.shape).round()\n",
    "\n",
    "#         # Print results\n",
    "#         for c in det[:, 5].unique():\n",
    "#             n = (det[:, 5] == c).sum()  # detections per class\n",
    "\n",
    "#         # Write results\n",
    "#         for *xyxy, conf, cls in reversed(det):\n",
    "#             c = int(cls)  # integer class\n",
    "#             label = 'buffalo'\n",
    "#             annotator.box_label(xyxy, label, color=colors(c, True))\n",
    "#     # Stream results\n",
    "#     im0 = annotator.result()"
   ]
  },
  {
   "cell_type": "code",
   "execution_count": 10,
   "id": "215dc7a2",
   "metadata": {},
   "outputs": [],
   "source": [
    "# cv2.imwrite(\"testttt.jpg\",im0)"
   ]
  },
  {
   "cell_type": "code",
   "execution_count": 16,
   "id": "8392c150",
   "metadata": {},
   "outputs": [],
   "source": [
    "def inference(image, iou_thres, conf_thres):\n",
    "    im = letterbox(image, img_size, stride=stride, auto=auto)[0]  # padded resize\n",
    "    im = im.transpose((2, 0, 1))[::-1]  # HWC to CHW, BGR to RGB\n",
    "    im = np.ascontiguousarray(im)  # contiguous\n",
    "    im = torch.from_numpy(im).to(model.device)\n",
    "    im = im.half() if model.fp16 else im.float()  # uint8 to fp16/32\n",
    "    im /= 255  # 0 - 255 to 0.0 - 1.0\n",
    "    if len(im.shape) == 3:\n",
    "        im = im[None]\n",
    "    pred = model(im, augment=False, visualize=False)\n",
    "    pred = pred[0][1] if isinstance(pred[0], list) else pred[0]\n",
    "    pred = non_max_suppression(pred, conf_thres, iou_thres, None, agnostic_nms, max_det=max_det)\n",
    "    \n",
    "        # Process predictions\n",
    "    for i, det in enumerate(pred):  # per image\n",
    "        gn = torch.tensor(image.shape)[[1, 0, 1, 0]]  # normalization gain whwh\n",
    "        imc = image.copy()\n",
    "        annotator = Annotator(image, line_width=line_thickness, example=str({0:'buffalo'}))\n",
    "        if len(det):\n",
    "            # Rescale boxes from img_size to im0 size\n",
    "            det[:, :4] = scale_boxes(im.shape[2:], det[:, :4], image.shape).round()\n",
    "\n",
    "            # Print results\n",
    "            for c in det[:, 5].unique():\n",
    "                n = (det[:, 5] == c).sum()  # detections per class\n",
    "\n",
    "            # Write results\n",
    "            for *xyxy, conf, cls in reversed(det):\n",
    "                c = int(cls)  # integer class\n",
    "                label = 'buffalo'\n",
    "                annotator.box_label(xyxy, label, color=colors(c, True))\n",
    "        # Stream results\n",
    "        im0 = annotator.result()\n",
    "    return im0"
   ]
  },
  {
   "cell_type": "code",
   "execution_count": 17,
   "id": "fa5e95ec",
   "metadata": {},
   "outputs": [
    {
     "name": "stdout",
     "output_type": "stream",
     "text": [
      "Running on local URL:  http://127.0.0.1:7862\n",
      "\n",
      "To create a public link, set `share=True` in `launch()`.\n"
     ]
    },
    {
     "data": {
      "text/html": [
       "<div><iframe src=\"http://127.0.0.1:7862/\" width=\"100%\" height=\"500\" allow=\"autoplay; camera; microphone; clipboard-read; clipboard-write;\" frameborder=\"0\" allowfullscreen></iframe></div>"
      ],
      "text/plain": [
       "<IPython.core.display.HTML object>"
      ]
     },
     "metadata": {},
     "output_type": "display_data"
    },
    {
     "data": {
      "text/plain": []
     },
     "execution_count": 17,
     "metadata": {},
     "output_type": "execute_result"
    }
   ],
   "source": [
    "title = \"YOLO V9 trained on Custom Dataset\"\n",
    "description = \"Gradio interface to show yoloV9 object detection.\"\n",
    "examples = [[f'examples/{i}'] for i in os.listdir(\"examples\")]\n",
    "demo = gr.Interface(\n",
    "    inference, \n",
    "    inputs = [gr.Image(height=640, width = 640, label=\"Input Image\"), gr.Slider(0, 1, value = 0.5, label=\"IOU Value\"), gr.Slider(0, 1, value = 0.5, label=\"Threshold Value\")], \n",
    "    outputs = [gr.Image(label=\"YoloV9 Output\", height=640, width = 640)],\n",
    "    title = title,\n",
    "    description = description,\n",
    "    examples = examples,\n",
    ")\n",
    "demo.launch()"
   ]
  },
  {
   "cell_type": "code",
   "execution_count": null,
   "id": "dd43fa91",
   "metadata": {},
   "outputs": [],
   "source": []
  }
 ],
 "metadata": {
  "kernelspec": {
   "display_name": "torch_vasu",
   "language": "python",
   "name": "torch_vasu"
  },
  "language_info": {
   "codemirror_mode": {
    "name": "ipython",
    "version": 3
   },
   "file_extension": ".py",
   "mimetype": "text/x-python",
   "name": "python",
   "nbconvert_exporter": "python",
   "pygments_lexer": "ipython3",
   "version": "3.10.13"
  }
 },
 "nbformat": 4,
 "nbformat_minor": 5
}
