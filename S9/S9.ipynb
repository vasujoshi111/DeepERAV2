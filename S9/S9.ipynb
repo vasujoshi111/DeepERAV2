{
  "cells": [
    {
      "attachments": {},
      "cell_type": "markdown",
      "metadata": {
        "id": "aO-7t1Y7-hV4"
      },
      "source": [
        "# Import Libraries"
      ]
    },
    {
      "cell_type": "code",
      "execution_count": null,
      "metadata": {
        "id": "8kH16rnZ7wt_"
      },
      "outputs": [],
      "source": [
        "import matplotlib.pyplot as plt\n",
        "from torchsummary import summary\n",
        "from dataloader import get_data_loader\n",
        "from utils import get_train_parameters, get_misclassified, classes_dict\n",
        "from train import train, train_losses, train_acc\n",
        "from test import test, test_losses, test_acc\n",
        "import numpy as np"
      ]
    },
    {
      "cell_type": "code",
      "execution_count": null,
      "metadata": {
        "id": "YtssFUKb-jqx"
      },
      "outputs": [],
      "source": [
        "num_epochs = 200\n",
        "batch_size = 128\n",
        "train_loader, test_loader = get_data_loader(batch_size)"
      ]
    },
    {
      "cell_type": "code",
      "execution_count": null,
      "metadata": {
        "colab": {
          "base_uri": "https://localhost:8080/"
        },
        "id": "5skB97zIJQQe",
        "outputId": "fbbf5f18-4d65-41e2-e4c4-92decd4f1a97"
      },
      "outputs": [
        {
          "name": "stdout",
          "output_type": "stream",
          "text": [
            "Requirement already satisfied: torchsummary in /usr/local/lib/python3.10/dist-packages (1.5.1)\n",
            "cuda\n",
            "----------------------------------------------------------------\n",
            "        Layer (type)               Output Shape         Param #\n",
            "================================================================\n",
            "            Conv2d-1           [-1, 32, 32, 32]             864\n",
            "              ReLU-2           [-1, 32, 32, 32]               0\n",
            "       BatchNorm2d-3           [-1, 32, 32, 32]              64\n",
            "           Dropout-4           [-1, 32, 32, 32]               0\n",
            "            Conv2d-5           [-1, 32, 32, 32]           9,216\n",
            "              ReLU-6           [-1, 32, 32, 32]               0\n",
            "       BatchNorm2d-7           [-1, 32, 32, 32]              64\n",
            "           Dropout-8           [-1, 32, 32, 32]               0\n",
            "            Conv2d-9           [-1, 32, 28, 28]           9,216\n",
            "             ReLU-10           [-1, 32, 28, 28]               0\n",
            "      BatchNorm2d-11           [-1, 32, 28, 28]              64\n",
            "          Dropout-12           [-1, 32, 28, 28]               0\n",
            "           Conv2d-13           [-1, 32, 28, 28]           9,216\n",
            "             ReLU-14           [-1, 32, 28, 28]               0\n",
            "      BatchNorm2d-15           [-1, 32, 28, 28]              64\n",
            "          Dropout-16           [-1, 32, 28, 28]               0\n",
            "           Conv2d-17           [-1, 32, 28, 28]             288\n",
            "             ReLU-18           [-1, 32, 28, 28]               0\n",
            "      BatchNorm2d-19           [-1, 32, 28, 28]              64\n",
            "          Dropout-20           [-1, 32, 28, 28]               0\n",
            "           Conv2d-21           [-1, 32, 28, 28]           1,024\n",
            "             ReLU-22           [-1, 32, 28, 28]               0\n",
            "      BatchNorm2d-23           [-1, 32, 28, 28]              64\n",
            "          Dropout-24           [-1, 32, 28, 28]               0\n",
            "           Conv2d-25           [-1, 32, 28, 28]           9,216\n",
            "             ReLU-26           [-1, 32, 28, 28]               0\n",
            "      BatchNorm2d-27           [-1, 32, 28, 28]              64\n",
            "          Dropout-28           [-1, 32, 28, 28]               0\n",
            "           Conv2d-29           [-1, 64, 28, 28]          18,432\n",
            "             ReLU-30           [-1, 64, 28, 28]               0\n",
            "      BatchNorm2d-31           [-1, 64, 28, 28]             128\n",
            "          Dropout-32           [-1, 64, 28, 28]               0\n",
            "           Conv2d-33           [-1, 32, 13, 13]          18,432\n",
            "             ReLU-34           [-1, 32, 13, 13]               0\n",
            "      BatchNorm2d-35           [-1, 32, 13, 13]              64\n",
            "          Dropout-36           [-1, 32, 13, 13]               0\n",
            "           Conv2d-37           [-1, 64, 13, 13]          18,432\n",
            "             ReLU-38           [-1, 64, 13, 13]               0\n",
            "      BatchNorm2d-39           [-1, 64, 13, 13]             128\n",
            "          Dropout-40           [-1, 64, 13, 13]               0\n",
            "           Conv2d-41           [-1, 64, 13, 13]          36,864\n",
            "             ReLU-42           [-1, 64, 13, 13]               0\n",
            "      BatchNorm2d-43           [-1, 64, 13, 13]             128\n",
            "          Dropout-44           [-1, 64, 13, 13]               0\n",
            "           Conv2d-45           [-1, 64, 11, 11]          36,864\n",
            "             ReLU-46           [-1, 64, 11, 11]               0\n",
            "      BatchNorm2d-47           [-1, 64, 11, 11]             128\n",
            "          Dropout-48           [-1, 64, 11, 11]               0\n",
            "AdaptiveAvgPool2d-49             [-1, 64, 1, 1]               0\n",
            "           Conv2d-50             [-1, 10, 1, 1]             640\n",
            "================================================================\n",
            "Total params: 169,728\n",
            "Trainable params: 169,728\n",
            "Non-trainable params: 0\n",
            "----------------------------------------------------------------\n",
            "Input size (MB): 0.01\n",
            "Forward/backward pass size (MB): 8.42\n",
            "Params size (MB): 0.65\n",
            "Estimated Total Size (MB): 9.08\n",
            "----------------------------------------------------------------\n"
          ]
        }
      ],
      "source": [
        "model, device, optimizer, scheduler, criterion = get_train_parameters(train_loader, num_epochs)\n",
        "summary(model, input_size=(3, 32, 32))"
      ]
    },
    {
      "cell_type": "code",
      "execution_count": null,
      "metadata": {
        "colab": {
          "base_uri": "https://localhost:8080/"
        },
        "id": "aE5Le6FYHhc8",
        "outputId": "e045dba4-a3c4-40fa-b528-130387c40a34"
      },
      "outputs": [
        {
          "name": "stdout",
          "output_type": "stream",
          "text": [
            "EPOCH: 0\n"
          ]
        },
        {
          "name": "stderr",
          "output_type": "stream",
          "text": [
            "Loss=1.7271534204483032 Batch_id=390 Accuracy=26.15: 100%|██████████| 391/391 [00:32<00:00, 12.02it/s]\n"
          ]
        },
        {
          "name": "stdout",
          "output_type": "stream",
          "text": [
            "\n",
            "Test set: Average loss: 2.2840, Accuracy: 2600/10000 (26.00%)\n",
            "\n",
            "EPOCH: 1\n"
          ]
        },
        {
          "name": "stderr",
          "output_type": "stream",
          "text": [
            "Loss=1.437084436416626 Batch_id=390 Accuracy=38.54: 100%|██████████| 391/391 [00:26<00:00, 14.83it/s]\n"
          ]
        },
        {
          "name": "stdout",
          "output_type": "stream",
          "text": [
            "\n",
            "Test set: Average loss: 1.6386, Accuracy: 4197/10000 (41.97%)\n",
            "\n",
            "EPOCH: 2\n"
          ]
        },
        {
          "name": "stderr",
          "output_type": "stream",
          "text": [
            "Loss=1.3458962440490723 Batch_id=390 Accuracy=44.63: 100%|██████████| 391/391 [00:24<00:00, 15.91it/s]\n"
          ]
        },
        {
          "name": "stdout",
          "output_type": "stream",
          "text": [
            "\n",
            "Test set: Average loss: 1.4274, Accuracy: 4975/10000 (49.75%)\n",
            "\n",
            "EPOCH: 3\n"
          ]
        },
        {
          "name": "stderr",
          "output_type": "stream",
          "text": [
            "Loss=1.2066739797592163 Batch_id=390 Accuracy=48.62: 100%|██████████| 391/391 [00:24<00:00, 15.96it/s]\n"
          ]
        },
        {
          "name": "stdout",
          "output_type": "stream",
          "text": [
            "\n",
            "Test set: Average loss: 1.5675, Accuracy: 4717/10000 (47.17%)\n",
            "\n",
            "EPOCH: 4\n"
          ]
        },
        {
          "name": "stderr",
          "output_type": "stream",
          "text": [
            "Loss=1.303053617477417 Batch_id=390 Accuracy=51.76: 100%|██████████| 391/391 [00:25<00:00, 15.32it/s]\n"
          ]
        },
        {
          "name": "stdout",
          "output_type": "stream",
          "text": [
            "\n",
            "Test set: Average loss: 1.4441, Accuracy: 5151/10000 (51.51%)\n",
            "\n",
            "EPOCH: 5\n"
          ]
        },
        {
          "name": "stderr",
          "output_type": "stream",
          "text": [
            "Loss=1.1672186851501465 Batch_id=390 Accuracy=54.22: 100%|██████████| 391/391 [00:24<00:00, 15.97it/s]\n"
          ]
        },
        {
          "name": "stdout",
          "output_type": "stream",
          "text": [
            "\n",
            "Test set: Average loss: 1.1285, Accuracy: 6019/10000 (60.19%)\n",
            "\n",
            "EPOCH: 6\n"
          ]
        },
        {
          "name": "stderr",
          "output_type": "stream",
          "text": [
            "Loss=1.1811280250549316 Batch_id=390 Accuracy=55.72: 100%|██████████| 391/391 [00:24<00:00, 15.83it/s]\n"
          ]
        },
        {
          "name": "stdout",
          "output_type": "stream",
          "text": [
            "\n",
            "Test set: Average loss: 1.0391, Accuracy: 6263/10000 (62.63%)\n",
            "\n",
            "EPOCH: 7\n"
          ]
        },
        {
          "name": "stderr",
          "output_type": "stream",
          "text": [
            "Loss=1.4488180875778198 Batch_id=390 Accuracy=57.29: 100%|██████████| 391/391 [00:24<00:00, 15.91it/s]\n"
          ]
        },
        {
          "name": "stdout",
          "output_type": "stream",
          "text": [
            "\n",
            "Test set: Average loss: 0.9792, Accuracy: 6516/10000 (65.16%)\n",
            "\n",
            "EPOCH: 8\n"
          ]
        },
        {
          "name": "stderr",
          "output_type": "stream",
          "text": [
            "Loss=1.1834676265716553 Batch_id=390 Accuracy=58.28: 100%|██████████| 391/391 [00:24<00:00, 15.66it/s]\n"
          ]
        },
        {
          "name": "stdout",
          "output_type": "stream",
          "text": [
            "\n",
            "Test set: Average loss: 1.1001, Accuracy: 6135/10000 (61.35%)\n",
            "\n",
            "EPOCH: 9\n"
          ]
        },
        {
          "name": "stderr",
          "output_type": "stream",
          "text": [
            "Loss=1.2226635217666626 Batch_id=390 Accuracy=59.37: 100%|██████████| 391/391 [00:24<00:00, 15.73it/s]\n"
          ]
        },
        {
          "name": "stdout",
          "output_type": "stream",
          "text": [
            "\n",
            "Test set: Average loss: 1.0575, Accuracy: 6201/10000 (62.01%)\n",
            "\n",
            "EPOCH: 10\n"
          ]
        },
        {
          "name": "stderr",
          "output_type": "stream",
          "text": [
            "Loss=1.0551881790161133 Batch_id=390 Accuracy=60.02: 100%|██████████| 391/391 [00:24<00:00, 15.91it/s]\n"
          ]
        },
        {
          "name": "stdout",
          "output_type": "stream",
          "text": [
            "\n",
            "Test set: Average loss: 0.9410, Accuracy: 6624/10000 (66.24%)\n",
            "\n",
            "EPOCH: 11\n"
          ]
        },
        {
          "name": "stderr",
          "output_type": "stream",
          "text": [
            "Loss=1.175939679145813 Batch_id=390 Accuracy=60.75: 100%|██████████| 391/391 [00:24<00:00, 15.87it/s]\n"
          ]
        },
        {
          "name": "stdout",
          "output_type": "stream",
          "text": [
            "\n",
            "Test set: Average loss: 0.9405, Accuracy: 6676/10000 (66.76%)\n",
            "\n",
            "EPOCH: 12\n"
          ]
        },
        {
          "name": "stderr",
          "output_type": "stream",
          "text": [
            "Loss=1.0793707370758057 Batch_id=390 Accuracy=61.33: 100%|██████████| 391/391 [00:24<00:00, 16.01it/s]\n"
          ]
        },
        {
          "name": "stdout",
          "output_type": "stream",
          "text": [
            "\n",
            "Test set: Average loss: 0.8859, Accuracy: 6832/10000 (68.32%)\n",
            "\n",
            "EPOCH: 13\n"
          ]
        },
        {
          "name": "stderr",
          "output_type": "stream",
          "text": [
            "Loss=1.2214646339416504 Batch_id=390 Accuracy=62.04: 100%|██████████| 391/391 [00:24<00:00, 16.01it/s]\n"
          ]
        },
        {
          "name": "stdout",
          "output_type": "stream",
          "text": [
            "\n",
            "Test set: Average loss: 0.9313, Accuracy: 6708/10000 (67.08%)\n",
            "\n",
            "EPOCH: 14\n"
          ]
        },
        {
          "name": "stderr",
          "output_type": "stream",
          "text": [
            "Loss=1.008169174194336 Batch_id=390 Accuracy=62.36: 100%|██████████| 391/391 [00:23<00:00, 16.42it/s]\n"
          ]
        },
        {
          "name": "stdout",
          "output_type": "stream",
          "text": [
            "\n",
            "Test set: Average loss: 0.9190, Accuracy: 6770/10000 (67.70%)\n",
            "\n",
            "EPOCH: 15\n"
          ]
        },
        {
          "name": "stderr",
          "output_type": "stream",
          "text": [
            "Loss=0.8393675684928894 Batch_id=390 Accuracy=63.00: 100%|██████████| 391/391 [00:24<00:00, 16.04it/s]\n"
          ]
        },
        {
          "name": "stdout",
          "output_type": "stream",
          "text": [
            "\n",
            "Test set: Average loss: 0.8424, Accuracy: 7046/10000 (70.46%)\n",
            "\n",
            "EPOCH: 16\n"
          ]
        },
        {
          "name": "stderr",
          "output_type": "stream",
          "text": [
            "Loss=0.8602245450019836 Batch_id=390 Accuracy=63.85: 100%|██████████| 391/391 [00:24<00:00, 16.02it/s]\n"
          ]
        },
        {
          "name": "stdout",
          "output_type": "stream",
          "text": [
            "\n",
            "Test set: Average loss: 0.8188, Accuracy: 7176/10000 (71.76%)\n",
            "\n",
            "EPOCH: 17\n"
          ]
        },
        {
          "name": "stderr",
          "output_type": "stream",
          "text": [
            "Loss=1.0417425632476807 Batch_id=390 Accuracy=63.83: 100%|██████████| 391/391 [00:24<00:00, 16.02it/s]\n"
          ]
        },
        {
          "name": "stdout",
          "output_type": "stream",
          "text": [
            "\n",
            "Test set: Average loss: 0.8368, Accuracy: 7077/10000 (70.77%)\n",
            "\n",
            "EPOCH: 18\n"
          ]
        },
        {
          "name": "stderr",
          "output_type": "stream",
          "text": [
            "Loss=1.1075745820999146 Batch_id=390 Accuracy=64.28: 100%|██████████| 391/391 [00:24<00:00, 16.03it/s]\n"
          ]
        },
        {
          "name": "stdout",
          "output_type": "stream",
          "text": [
            "\n",
            "Test set: Average loss: 0.7796, Accuracy: 7214/10000 (72.14%)\n",
            "\n",
            "EPOCH: 19\n"
          ]
        },
        {
          "name": "stderr",
          "output_type": "stream",
          "text": [
            "Loss=0.8433234095573425 Batch_id=390 Accuracy=64.68: 100%|██████████| 391/391 [00:24<00:00, 15.93it/s]\n"
          ]
        },
        {
          "name": "stdout",
          "output_type": "stream",
          "text": [
            "\n",
            "Test set: Average loss: 0.7674, Accuracy: 7313/10000 (73.13%)\n",
            "\n",
            "EPOCH: 20\n"
          ]
        },
        {
          "name": "stderr",
          "output_type": "stream",
          "text": [
            "Loss=0.9256865382194519 Batch_id=390 Accuracy=64.93: 100%|██████████| 391/391 [00:24<00:00, 15.89it/s]\n"
          ]
        },
        {
          "name": "stdout",
          "output_type": "stream",
          "text": [
            "\n",
            "Test set: Average loss: 0.7828, Accuracy: 7268/10000 (72.68%)\n",
            "\n",
            "EPOCH: 21\n"
          ]
        },
        {
          "name": "stderr",
          "output_type": "stream",
          "text": [
            "Loss=0.7525404095649719 Batch_id=390 Accuracy=65.08: 100%|██████████| 391/391 [00:24<00:00, 15.98it/s]\n"
          ]
        },
        {
          "name": "stdout",
          "output_type": "stream",
          "text": [
            "\n",
            "Test set: Average loss: 0.7392, Accuracy: 7393/10000 (73.93%)\n",
            "\n",
            "EPOCH: 22\n"
          ]
        },
        {
          "name": "stderr",
          "output_type": "stream",
          "text": [
            "Loss=0.7685801982879639 Batch_id=390 Accuracy=65.57: 100%|██████████| 391/391 [00:24<00:00, 16.06it/s]\n"
          ]
        },
        {
          "name": "stdout",
          "output_type": "stream",
          "text": [
            "\n",
            "Test set: Average loss: 0.7652, Accuracy: 7299/10000 (72.99%)\n",
            "\n",
            "EPOCH: 23\n"
          ]
        },
        {
          "name": "stderr",
          "output_type": "stream",
          "text": [
            "Loss=0.94129878282547 Batch_id=390 Accuracy=66.05: 100%|██████████| 391/391 [00:24<00:00, 16.04it/s]\n"
          ]
        },
        {
          "name": "stdout",
          "output_type": "stream",
          "text": [
            "\n",
            "Test set: Average loss: 0.7160, Accuracy: 7465/10000 (74.65%)\n",
            "\n",
            "EPOCH: 24\n"
          ]
        },
        {
          "name": "stderr",
          "output_type": "stream",
          "text": [
            "Loss=0.8829034566879272 Batch_id=390 Accuracy=66.23: 100%|██████████| 391/391 [00:24<00:00, 16.08it/s]\n"
          ]
        },
        {
          "name": "stdout",
          "output_type": "stream",
          "text": [
            "\n",
            "Test set: Average loss: 0.6921, Accuracy: 7554/10000 (75.54%)\n",
            "\n",
            "EPOCH: 25\n"
          ]
        },
        {
          "name": "stderr",
          "output_type": "stream",
          "text": [
            "Loss=1.056481957435608 Batch_id=390 Accuracy=66.22: 100%|██████████| 391/391 [00:24<00:00, 16.01it/s]\n"
          ]
        },
        {
          "name": "stdout",
          "output_type": "stream",
          "text": [
            "\n",
            "Test set: Average loss: 0.6996, Accuracy: 7550/10000 (75.50%)\n",
            "\n",
            "EPOCH: 26\n"
          ]
        },
        {
          "name": "stderr",
          "output_type": "stream",
          "text": [
            "Loss=1.1348844766616821 Batch_id=390 Accuracy=66.56: 100%|██████████| 391/391 [00:24<00:00, 15.69it/s]\n"
          ]
        },
        {
          "name": "stdout",
          "output_type": "stream",
          "text": [
            "\n",
            "Test set: Average loss: 0.6955, Accuracy: 7607/10000 (76.07%)\n",
            "\n",
            "EPOCH: 27\n"
          ]
        },
        {
          "name": "stderr",
          "output_type": "stream",
          "text": [
            "Loss=0.8821820020675659 Batch_id=390 Accuracy=66.70: 100%|██████████| 391/391 [00:24<00:00, 15.99it/s]\n"
          ]
        },
        {
          "name": "stdout",
          "output_type": "stream",
          "text": [
            "\n",
            "Test set: Average loss: 0.7816, Accuracy: 7329/10000 (73.29%)\n",
            "\n",
            "EPOCH: 28\n"
          ]
        },
        {
          "name": "stderr",
          "output_type": "stream",
          "text": [
            "Loss=1.0171973705291748 Batch_id=390 Accuracy=67.20: 100%|██████████| 391/391 [00:24<00:00, 15.89it/s]\n"
          ]
        },
        {
          "name": "stdout",
          "output_type": "stream",
          "text": [
            "\n",
            "Test set: Average loss: 0.7199, Accuracy: 7506/10000 (75.06%)\n",
            "\n",
            "EPOCH: 29\n"
          ]
        },
        {
          "name": "stderr",
          "output_type": "stream",
          "text": [
            "Loss=1.0452724695205688 Batch_id=390 Accuracy=67.38: 100%|██████████| 391/391 [00:24<00:00, 16.05it/s]\n"
          ]
        },
        {
          "name": "stdout",
          "output_type": "stream",
          "text": [
            "\n",
            "Test set: Average loss: 0.7467, Accuracy: 7374/10000 (73.74%)\n",
            "\n",
            "EPOCH: 30\n"
          ]
        },
        {
          "name": "stderr",
          "output_type": "stream",
          "text": [
            "Loss=0.8460984230041504 Batch_id=390 Accuracy=67.31: 100%|██████████| 391/391 [00:24<00:00, 15.90it/s]\n"
          ]
        },
        {
          "name": "stdout",
          "output_type": "stream",
          "text": [
            "\n",
            "Test set: Average loss: 0.6774, Accuracy: 7600/10000 (76.00%)\n",
            "\n",
            "EPOCH: 31\n"
          ]
        },
        {
          "name": "stderr",
          "output_type": "stream",
          "text": [
            "Loss=0.8581175804138184 Batch_id=390 Accuracy=67.76: 100%|██████████| 391/391 [00:24<00:00, 15.75it/s]\n"
          ]
        },
        {
          "name": "stdout",
          "output_type": "stream",
          "text": [
            "\n",
            "Test set: Average loss: 0.6645, Accuracy: 7683/10000 (76.83%)\n",
            "\n",
            "EPOCH: 32\n"
          ]
        },
        {
          "name": "stderr",
          "output_type": "stream",
          "text": [
            "Loss=0.8764442205429077 Batch_id=390 Accuracy=67.96: 100%|██████████| 391/391 [00:24<00:00, 15.80it/s]\n"
          ]
        },
        {
          "name": "stdout",
          "output_type": "stream",
          "text": [
            "\n",
            "Test set: Average loss: 0.6828, Accuracy: 7631/10000 (76.31%)\n",
            "\n",
            "EPOCH: 33\n"
          ]
        },
        {
          "name": "stderr",
          "output_type": "stream",
          "text": [
            "Loss=0.9469590187072754 Batch_id=390 Accuracy=68.26: 100%|██████████| 391/391 [00:24<00:00, 15.92it/s]\n"
          ]
        },
        {
          "name": "stdout",
          "output_type": "stream",
          "text": [
            "\n",
            "Test set: Average loss: 0.6646, Accuracy: 7656/10000 (76.56%)\n",
            "\n",
            "EPOCH: 34\n"
          ]
        },
        {
          "name": "stderr",
          "output_type": "stream",
          "text": [
            "Loss=0.749886155128479 Batch_id=390 Accuracy=68.05: 100%|██████████| 391/391 [00:24<00:00, 15.89it/s]\n"
          ]
        },
        {
          "name": "stdout",
          "output_type": "stream",
          "text": [
            "\n",
            "Test set: Average loss: 0.6323, Accuracy: 7792/10000 (77.92%)\n",
            "\n",
            "EPOCH: 35\n"
          ]
        },
        {
          "name": "stderr",
          "output_type": "stream",
          "text": [
            "Loss=1.1451507806777954 Batch_id=390 Accuracy=68.42: 100%|██████████| 391/391 [00:24<00:00, 16.00it/s]\n"
          ]
        },
        {
          "name": "stdout",
          "output_type": "stream",
          "text": [
            "\n",
            "Test set: Average loss: 0.6953, Accuracy: 7609/10000 (76.09%)\n",
            "\n",
            "EPOCH: 36\n"
          ]
        },
        {
          "name": "stderr",
          "output_type": "stream",
          "text": [
            "Loss=0.9579826593399048 Batch_id=390 Accuracy=68.64: 100%|██████████| 391/391 [00:24<00:00, 15.89it/s]\n"
          ]
        },
        {
          "name": "stdout",
          "output_type": "stream",
          "text": [
            "\n",
            "Test set: Average loss: 0.6184, Accuracy: 7864/10000 (78.64%)\n",
            "\n",
            "EPOCH: 37\n"
          ]
        },
        {
          "name": "stderr",
          "output_type": "stream",
          "text": [
            "Loss=1.112969160079956 Batch_id=390 Accuracy=68.70: 100%|██████████| 391/391 [00:24<00:00, 15.88it/s]\n"
          ]
        },
        {
          "name": "stdout",
          "output_type": "stream",
          "text": [
            "\n",
            "Test set: Average loss: 0.6101, Accuracy: 7925/10000 (79.25%)\n",
            "\n",
            "EPOCH: 38\n"
          ]
        },
        {
          "name": "stderr",
          "output_type": "stream",
          "text": [
            "Loss=0.7192322611808777 Batch_id=390 Accuracy=68.73: 100%|██████████| 391/391 [00:24<00:00, 15.91it/s]\n"
          ]
        },
        {
          "name": "stdout",
          "output_type": "stream",
          "text": [
            "\n",
            "Test set: Average loss: 0.6224, Accuracy: 7830/10000 (78.30%)\n",
            "\n",
            "EPOCH: 39\n"
          ]
        },
        {
          "name": "stderr",
          "output_type": "stream",
          "text": [
            "Loss=0.7099084854125977 Batch_id=390 Accuracy=69.12: 100%|██████████| 391/391 [00:25<00:00, 15.56it/s]\n"
          ]
        },
        {
          "name": "stdout",
          "output_type": "stream",
          "text": [
            "\n",
            "Test set: Average loss: 0.6225, Accuracy: 7877/10000 (78.77%)\n",
            "\n",
            "EPOCH: 40\n"
          ]
        },
        {
          "name": "stderr",
          "output_type": "stream",
          "text": [
            "Loss=0.9162149429321289 Batch_id=390 Accuracy=69.17: 100%|██████████| 391/391 [00:24<00:00, 15.77it/s]\n"
          ]
        },
        {
          "name": "stdout",
          "output_type": "stream",
          "text": [
            "\n",
            "Test set: Average loss: 0.6194, Accuracy: 7858/10000 (78.58%)\n",
            "\n",
            "EPOCH: 41\n"
          ]
        },
        {
          "name": "stderr",
          "output_type": "stream",
          "text": [
            "Loss=0.9536665678024292 Batch_id=390 Accuracy=69.20: 100%|██████████| 391/391 [00:24<00:00, 15.84it/s]\n"
          ]
        },
        {
          "name": "stdout",
          "output_type": "stream",
          "text": [
            "\n",
            "Test set: Average loss: 0.6478, Accuracy: 7747/10000 (77.47%)\n",
            "\n",
            "EPOCH: 42\n"
          ]
        },
        {
          "name": "stderr",
          "output_type": "stream",
          "text": [
            "Loss=0.9936615824699402 Batch_id=390 Accuracy=69.24: 100%|██████████| 391/391 [00:24<00:00, 15.86it/s]\n"
          ]
        },
        {
          "name": "stdout",
          "output_type": "stream",
          "text": [
            "\n",
            "Test set: Average loss: 0.6703, Accuracy: 7682/10000 (76.82%)\n",
            "\n",
            "EPOCH: 43\n"
          ]
        },
        {
          "name": "stderr",
          "output_type": "stream",
          "text": [
            "Loss=0.8850663304328918 Batch_id=390 Accuracy=69.65: 100%|██████████| 391/391 [00:24<00:00, 15.87it/s]\n"
          ]
        },
        {
          "name": "stdout",
          "output_type": "stream",
          "text": [
            "\n",
            "Test set: Average loss: 0.6010, Accuracy: 7912/10000 (79.12%)\n",
            "\n",
            "EPOCH: 44\n"
          ]
        },
        {
          "name": "stderr",
          "output_type": "stream",
          "text": [
            "Loss=0.7865208387374878 Batch_id=390 Accuracy=69.48: 100%|██████████| 391/391 [00:24<00:00, 15.82it/s]\n"
          ]
        },
        {
          "name": "stdout",
          "output_type": "stream",
          "text": [
            "\n",
            "Test set: Average loss: 0.6250, Accuracy: 7848/10000 (78.48%)\n",
            "\n",
            "EPOCH: 45\n"
          ]
        },
        {
          "name": "stderr",
          "output_type": "stream",
          "text": [
            "Loss=0.963404655456543 Batch_id=390 Accuracy=69.79: 100%|██████████| 391/391 [00:24<00:00, 15.79it/s]\n"
          ]
        },
        {
          "name": "stdout",
          "output_type": "stream",
          "text": [
            "\n",
            "Test set: Average loss: 0.5843, Accuracy: 7988/10000 (79.88%)\n",
            "\n",
            "EPOCH: 46\n"
          ]
        },
        {
          "name": "stderr",
          "output_type": "stream",
          "text": [
            "Loss=0.8702950477600098 Batch_id=390 Accuracy=69.61: 100%|██████████| 391/391 [00:24<00:00, 15.92it/s]\n"
          ]
        },
        {
          "name": "stdout",
          "output_type": "stream",
          "text": [
            "\n",
            "Test set: Average loss: 0.6115, Accuracy: 7882/10000 (78.82%)\n",
            "\n",
            "EPOCH: 47\n"
          ]
        },
        {
          "name": "stderr",
          "output_type": "stream",
          "text": [
            "Loss=0.6960216760635376 Batch_id=390 Accuracy=70.12: 100%|██████████| 391/391 [00:24<00:00, 15.77it/s]\n"
          ]
        },
        {
          "name": "stdout",
          "output_type": "stream",
          "text": [
            "\n",
            "Test set: Average loss: 0.6225, Accuracy: 7833/10000 (78.33%)\n",
            "\n",
            "EPOCH: 48\n"
          ]
        },
        {
          "name": "stderr",
          "output_type": "stream",
          "text": [
            "Loss=0.7737663984298706 Batch_id=390 Accuracy=69.86: 100%|██████████| 391/391 [00:25<00:00, 15.47it/s]\n"
          ]
        },
        {
          "name": "stdout",
          "output_type": "stream",
          "text": [
            "\n",
            "Test set: Average loss: 0.6172, Accuracy: 7879/10000 (78.79%)\n",
            "\n",
            "EPOCH: 49\n"
          ]
        },
        {
          "name": "stderr",
          "output_type": "stream",
          "text": [
            "Loss=0.6871406435966492 Batch_id=390 Accuracy=70.22: 100%|██████████| 391/391 [00:24<00:00, 15.75it/s]\n"
          ]
        },
        {
          "name": "stdout",
          "output_type": "stream",
          "text": [
            "\n",
            "Test set: Average loss: 0.6030, Accuracy: 7931/10000 (79.31%)\n",
            "\n",
            "EPOCH: 50\n"
          ]
        },
        {
          "name": "stderr",
          "output_type": "stream",
          "text": [
            "Loss=0.7704605460166931 Batch_id=390 Accuracy=70.36: 100%|██████████| 391/391 [00:24<00:00, 15.95it/s]\n"
          ]
        },
        {
          "name": "stdout",
          "output_type": "stream",
          "text": [
            "\n",
            "Test set: Average loss: 0.6390, Accuracy: 7860/10000 (78.60%)\n",
            "\n",
            "EPOCH: 51\n"
          ]
        },
        {
          "name": "stderr",
          "output_type": "stream",
          "text": [
            "Loss=0.9071561098098755 Batch_id=390 Accuracy=70.23: 100%|██████████| 391/391 [00:26<00:00, 14.88it/s]\n"
          ]
        },
        {
          "name": "stdout",
          "output_type": "stream",
          "text": [
            "\n",
            "Test set: Average loss: 0.6065, Accuracy: 7930/10000 (79.30%)\n",
            "\n",
            "EPOCH: 52\n"
          ]
        },
        {
          "name": "stderr",
          "output_type": "stream",
          "text": [
            "Loss=0.9270725250244141 Batch_id=390 Accuracy=70.56: 100%|██████████| 391/391 [00:24<00:00, 15.86it/s]\n"
          ]
        },
        {
          "name": "stdout",
          "output_type": "stream",
          "text": [
            "\n",
            "Test set: Average loss: 0.5903, Accuracy: 7980/10000 (79.80%)\n",
            "\n",
            "EPOCH: 53\n"
          ]
        },
        {
          "name": "stderr",
          "output_type": "stream",
          "text": [
            "Loss=0.6629601120948792 Batch_id=390 Accuracy=70.55: 100%|██████████| 391/391 [00:24<00:00, 15.65it/s]\n"
          ]
        },
        {
          "name": "stdout",
          "output_type": "stream",
          "text": [
            "\n",
            "Test set: Average loss: 0.6093, Accuracy: 7906/10000 (79.06%)\n",
            "\n",
            "EPOCH: 54\n"
          ]
        },
        {
          "name": "stderr",
          "output_type": "stream",
          "text": [
            "Loss=0.8094429969787598 Batch_id=390 Accuracy=70.76: 100%|██████████| 391/391 [00:24<00:00, 15.77it/s]\n"
          ]
        },
        {
          "name": "stdout",
          "output_type": "stream",
          "text": [
            "\n",
            "Test set: Average loss: 0.6262, Accuracy: 7847/10000 (78.47%)\n",
            "\n",
            "EPOCH: 55\n"
          ]
        },
        {
          "name": "stderr",
          "output_type": "stream",
          "text": [
            "Loss=0.8088388442993164 Batch_id=390 Accuracy=70.98: 100%|██████████| 391/391 [00:24<00:00, 15.96it/s]\n"
          ]
        },
        {
          "name": "stdout",
          "output_type": "stream",
          "text": [
            "\n",
            "Test set: Average loss: 0.5619, Accuracy: 8093/10000 (80.93%)\n",
            "\n",
            "EPOCH: 56\n"
          ]
        },
        {
          "name": "stderr",
          "output_type": "stream",
          "text": [
            "Loss=0.7761222720146179 Batch_id=390 Accuracy=70.94: 100%|██████████| 391/391 [00:24<00:00, 15.67it/s]\n"
          ]
        },
        {
          "name": "stdout",
          "output_type": "stream",
          "text": [
            "\n",
            "Test set: Average loss: 0.5723, Accuracy: 8060/10000 (80.60%)\n",
            "\n",
            "EPOCH: 57\n"
          ]
        },
        {
          "name": "stderr",
          "output_type": "stream",
          "text": [
            "Loss=0.762178897857666 Batch_id=390 Accuracy=70.95: 100%|██████████| 391/391 [00:26<00:00, 14.82it/s]\n"
          ]
        },
        {
          "name": "stdout",
          "output_type": "stream",
          "text": [
            "\n",
            "Test set: Average loss: 0.5949, Accuracy: 7976/10000 (79.76%)\n",
            "\n",
            "EPOCH: 58\n"
          ]
        },
        {
          "name": "stderr",
          "output_type": "stream",
          "text": [
            "Loss=0.9703946113586426 Batch_id=390 Accuracy=70.81: 100%|██████████| 391/391 [00:24<00:00, 16.18it/s]\n"
          ]
        },
        {
          "name": "stdout",
          "output_type": "stream",
          "text": [
            "\n",
            "Test set: Average loss: 0.5973, Accuracy: 7956/10000 (79.56%)\n",
            "\n",
            "EPOCH: 59\n"
          ]
        },
        {
          "name": "stderr",
          "output_type": "stream",
          "text": [
            "Loss=0.7309614419937134 Batch_id=390 Accuracy=71.02: 100%|██████████| 391/391 [00:24<00:00, 15.96it/s]\n"
          ]
        },
        {
          "name": "stdout",
          "output_type": "stream",
          "text": [
            "\n",
            "Test set: Average loss: 0.5770, Accuracy: 8045/10000 (80.45%)\n",
            "\n",
            "EPOCH: 60\n"
          ]
        },
        {
          "name": "stderr",
          "output_type": "stream",
          "text": [
            "Loss=0.724577784538269 Batch_id=390 Accuracy=71.25: 100%|██████████| 391/391 [00:23<00:00, 16.40it/s]\n"
          ]
        },
        {
          "name": "stdout",
          "output_type": "stream",
          "text": [
            "\n",
            "Test set: Average loss: 0.5808, Accuracy: 8047/10000 (80.47%)\n",
            "\n",
            "EPOCH: 61\n"
          ]
        },
        {
          "name": "stderr",
          "output_type": "stream",
          "text": [
            "Loss=0.8954032063484192 Batch_id=390 Accuracy=71.15: 100%|██████████| 391/391 [00:24<00:00, 16.19it/s]\n"
          ]
        },
        {
          "name": "stdout",
          "output_type": "stream",
          "text": [
            "\n",
            "Test set: Average loss: 0.5544, Accuracy: 8098/10000 (80.98%)\n",
            "\n",
            "EPOCH: 62\n"
          ]
        },
        {
          "name": "stderr",
          "output_type": "stream",
          "text": [
            "Loss=1.026620626449585 Batch_id=390 Accuracy=71.22: 100%|██████████| 391/391 [00:24<00:00, 16.05it/s]\n"
          ]
        },
        {
          "name": "stdout",
          "output_type": "stream",
          "text": [
            "\n",
            "Test set: Average loss: 0.5433, Accuracy: 8118/10000 (81.18%)\n",
            "\n",
            "EPOCH: 63\n"
          ]
        },
        {
          "name": "stderr",
          "output_type": "stream",
          "text": [
            "Loss=0.8291863203048706 Batch_id=390 Accuracy=71.38: 100%|██████████| 391/391 [00:24<00:00, 15.66it/s]\n"
          ]
        },
        {
          "name": "stdout",
          "output_type": "stream",
          "text": [
            "\n",
            "Test set: Average loss: 0.5649, Accuracy: 8081/10000 (80.81%)\n",
            "\n",
            "EPOCH: 64\n"
          ]
        },
        {
          "name": "stderr",
          "output_type": "stream",
          "text": [
            "Loss=0.9073052406311035 Batch_id=390 Accuracy=71.68: 100%|██████████| 391/391 [00:25<00:00, 15.50it/s]\n"
          ]
        },
        {
          "name": "stdout",
          "output_type": "stream",
          "text": [
            "\n",
            "Test set: Average loss: 0.5629, Accuracy: 8111/10000 (81.11%)\n",
            "\n",
            "EPOCH: 65\n"
          ]
        },
        {
          "name": "stderr",
          "output_type": "stream",
          "text": [
            "Loss=0.8559455871582031 Batch_id=390 Accuracy=71.80: 100%|██████████| 391/391 [00:25<00:00, 15.57it/s]\n"
          ]
        },
        {
          "name": "stdout",
          "output_type": "stream",
          "text": [
            "\n",
            "Test set: Average loss: 0.5765, Accuracy: 8079/10000 (80.79%)\n",
            "\n",
            "EPOCH: 66\n"
          ]
        },
        {
          "name": "stderr",
          "output_type": "stream",
          "text": [
            "Loss=0.8210393190383911 Batch_id=390 Accuracy=71.81: 100%|██████████| 391/391 [00:25<00:00, 15.59it/s]\n"
          ]
        },
        {
          "name": "stdout",
          "output_type": "stream",
          "text": [
            "\n",
            "Test set: Average loss: 0.5396, Accuracy: 8216/10000 (82.16%)\n",
            "\n",
            "EPOCH: 67\n"
          ]
        },
        {
          "name": "stderr",
          "output_type": "stream",
          "text": [
            "Loss=0.7046502828598022 Batch_id=390 Accuracy=71.46: 100%|██████████| 391/391 [00:24<00:00, 15.65it/s]\n"
          ]
        },
        {
          "name": "stdout",
          "output_type": "stream",
          "text": [
            "\n",
            "Test set: Average loss: 0.5447, Accuracy: 8166/10000 (81.66%)\n",
            "\n",
            "EPOCH: 68\n"
          ]
        },
        {
          "name": "stderr",
          "output_type": "stream",
          "text": [
            "Loss=0.8559755086898804 Batch_id=390 Accuracy=71.63: 100%|██████████| 391/391 [00:24<00:00, 15.71it/s]\n"
          ]
        },
        {
          "name": "stdout",
          "output_type": "stream",
          "text": [
            "\n",
            "Test set: Average loss: 0.5307, Accuracy: 8174/10000 (81.74%)\n",
            "\n",
            "EPOCH: 69\n"
          ]
        },
        {
          "name": "stderr",
          "output_type": "stream",
          "text": [
            "Loss=0.8122917413711548 Batch_id=390 Accuracy=71.70: 100%|██████████| 391/391 [00:24<00:00, 15.74it/s]\n"
          ]
        },
        {
          "name": "stdout",
          "output_type": "stream",
          "text": [
            "\n",
            "Test set: Average loss: 0.5412, Accuracy: 8153/10000 (81.53%)\n",
            "\n",
            "EPOCH: 70\n"
          ]
        },
        {
          "name": "stderr",
          "output_type": "stream",
          "text": [
            "Loss=0.661328136920929 Batch_id=390 Accuracy=71.72: 100%|██████████| 391/391 [00:25<00:00, 15.52it/s]\n"
          ]
        },
        {
          "name": "stdout",
          "output_type": "stream",
          "text": [
            "\n",
            "Test set: Average loss: 0.5643, Accuracy: 8128/10000 (81.28%)\n",
            "\n",
            "EPOCH: 71\n"
          ]
        },
        {
          "name": "stderr",
          "output_type": "stream",
          "text": [
            "Loss=0.8296791315078735 Batch_id=390 Accuracy=72.00: 100%|██████████| 391/391 [00:25<00:00, 15.63it/s]\n"
          ]
        },
        {
          "name": "stdout",
          "output_type": "stream",
          "text": [
            "\n",
            "Test set: Average loss: 0.5398, Accuracy: 8190/10000 (81.90%)\n",
            "\n",
            "EPOCH: 72\n"
          ]
        },
        {
          "name": "stderr",
          "output_type": "stream",
          "text": [
            "Loss=0.8151272535324097 Batch_id=390 Accuracy=71.89: 100%|██████████| 391/391 [00:25<00:00, 15.62it/s]\n"
          ]
        },
        {
          "name": "stdout",
          "output_type": "stream",
          "text": [
            "\n",
            "Test set: Average loss: 0.5331, Accuracy: 8185/10000 (81.85%)\n",
            "\n",
            "EPOCH: 73\n"
          ]
        },
        {
          "name": "stderr",
          "output_type": "stream",
          "text": [
            "Loss=0.7014198899269104 Batch_id=390 Accuracy=72.00: 100%|██████████| 391/391 [00:25<00:00, 15.40it/s]\n"
          ]
        },
        {
          "name": "stdout",
          "output_type": "stream",
          "text": [
            "\n",
            "Test set: Average loss: 0.5376, Accuracy: 8206/10000 (82.06%)\n",
            "\n",
            "EPOCH: 74\n"
          ]
        },
        {
          "name": "stderr",
          "output_type": "stream",
          "text": [
            "Loss=0.8147934675216675 Batch_id=390 Accuracy=72.03: 100%|██████████| 391/391 [00:25<00:00, 15.38it/s]\n"
          ]
        },
        {
          "name": "stdout",
          "output_type": "stream",
          "text": [
            "\n",
            "Test set: Average loss: 0.5527, Accuracy: 8142/10000 (81.42%)\n",
            "\n",
            "EPOCH: 75\n"
          ]
        },
        {
          "name": "stderr",
          "output_type": "stream",
          "text": [
            "Loss=0.7630099058151245 Batch_id=390 Accuracy=72.11: 100%|██████████| 391/391 [00:25<00:00, 15.47it/s]\n"
          ]
        },
        {
          "name": "stdout",
          "output_type": "stream",
          "text": [
            "\n",
            "Test set: Average loss: 0.5479, Accuracy: 8150/10000 (81.50%)\n",
            "\n",
            "EPOCH: 76\n"
          ]
        },
        {
          "name": "stderr",
          "output_type": "stream",
          "text": [
            "Loss=0.9647800326347351 Batch_id=390 Accuracy=72.17: 100%|██████████| 391/391 [00:25<00:00, 15.30it/s]\n"
          ]
        },
        {
          "name": "stdout",
          "output_type": "stream",
          "text": [
            "\n",
            "Test set: Average loss: 0.5367, Accuracy: 8200/10000 (82.00%)\n",
            "\n",
            "EPOCH: 77\n"
          ]
        },
        {
          "name": "stderr",
          "output_type": "stream",
          "text": [
            "Loss=0.9239096641540527 Batch_id=390 Accuracy=71.95: 100%|██████████| 391/391 [00:25<00:00, 15.30it/s]\n"
          ]
        },
        {
          "name": "stdout",
          "output_type": "stream",
          "text": [
            "\n",
            "Test set: Average loss: 0.5129, Accuracy: 8251/10000 (82.51%)\n",
            "\n",
            "EPOCH: 78\n"
          ]
        },
        {
          "name": "stderr",
          "output_type": "stream",
          "text": [
            "Loss=0.900297999382019 Batch_id=390 Accuracy=72.62: 100%|██████████| 391/391 [00:25<00:00, 15.52it/s]\n"
          ]
        },
        {
          "name": "stdout",
          "output_type": "stream",
          "text": [
            "\n",
            "Test set: Average loss: 0.5557, Accuracy: 8139/10000 (81.39%)\n",
            "\n",
            "EPOCH: 79\n"
          ]
        },
        {
          "name": "stderr",
          "output_type": "stream",
          "text": [
            "Loss=0.8020961880683899 Batch_id=390 Accuracy=72.38: 100%|██████████| 391/391 [00:25<00:00, 15.40it/s]\n"
          ]
        },
        {
          "name": "stdout",
          "output_type": "stream",
          "text": [
            "\n",
            "Test set: Average loss: 0.5295, Accuracy: 8207/10000 (82.07%)\n",
            "\n",
            "EPOCH: 80\n"
          ]
        },
        {
          "name": "stderr",
          "output_type": "stream",
          "text": [
            "Loss=0.8159714937210083 Batch_id=390 Accuracy=72.44: 100%|██████████| 391/391 [00:25<00:00, 15.62it/s]\n"
          ]
        },
        {
          "name": "stdout",
          "output_type": "stream",
          "text": [
            "\n",
            "Test set: Average loss: 0.5346, Accuracy: 8209/10000 (82.09%)\n",
            "\n",
            "EPOCH: 81\n"
          ]
        },
        {
          "name": "stderr",
          "output_type": "stream",
          "text": [
            "Loss=0.6764369010925293 Batch_id=390 Accuracy=72.54: 100%|██████████| 391/391 [00:24<00:00, 16.02it/s]\n"
          ]
        },
        {
          "name": "stdout",
          "output_type": "stream",
          "text": [
            "\n",
            "Test set: Average loss: 0.5493, Accuracy: 8176/10000 (81.76%)\n",
            "\n",
            "EPOCH: 82\n"
          ]
        },
        {
          "name": "stderr",
          "output_type": "stream",
          "text": [
            "Loss=0.663309633731842 Batch_id=390 Accuracy=72.27: 100%|██████████| 391/391 [00:24<00:00, 16.26it/s]\n"
          ]
        },
        {
          "name": "stdout",
          "output_type": "stream",
          "text": [
            "\n",
            "Test set: Average loss: 0.5028, Accuracy: 8283/10000 (82.83%)\n",
            "\n",
            "EPOCH: 83\n"
          ]
        },
        {
          "name": "stderr",
          "output_type": "stream",
          "text": [
            "Loss=0.7014302015304565 Batch_id=390 Accuracy=72.50: 100%|██████████| 391/391 [00:23<00:00, 16.30it/s]\n"
          ]
        },
        {
          "name": "stdout",
          "output_type": "stream",
          "text": [
            "\n",
            "Test set: Average loss: 0.5167, Accuracy: 8258/10000 (82.58%)\n",
            "\n",
            "EPOCH: 84\n"
          ]
        },
        {
          "name": "stderr",
          "output_type": "stream",
          "text": [
            "Loss=0.7137269377708435 Batch_id=390 Accuracy=72.43: 100%|██████████| 391/391 [00:25<00:00, 15.41it/s]\n"
          ]
        },
        {
          "name": "stdout",
          "output_type": "stream",
          "text": [
            "\n",
            "Test set: Average loss: 0.5248, Accuracy: 8243/10000 (82.43%)\n",
            "\n",
            "EPOCH: 85\n"
          ]
        },
        {
          "name": "stderr",
          "output_type": "stream",
          "text": [
            "Loss=0.7232685089111328 Batch_id=390 Accuracy=72.86: 100%|██████████| 391/391 [00:25<00:00, 15.12it/s]\n"
          ]
        },
        {
          "name": "stdout",
          "output_type": "stream",
          "text": [
            "\n",
            "Test set: Average loss: 0.5068, Accuracy: 8317/10000 (83.17%)\n",
            "\n",
            "EPOCH: 86\n"
          ]
        },
        {
          "name": "stderr",
          "output_type": "stream",
          "text": [
            "Loss=0.9036146998405457 Batch_id=390 Accuracy=72.82: 100%|██████████| 391/391 [00:24<00:00, 15.69it/s]\n"
          ]
        },
        {
          "name": "stdout",
          "output_type": "stream",
          "text": [
            "\n",
            "Test set: Average loss: 0.5184, Accuracy: 8246/10000 (82.46%)\n",
            "\n",
            "EPOCH: 87\n"
          ]
        },
        {
          "name": "stderr",
          "output_type": "stream",
          "text": [
            "Loss=0.7310130000114441 Batch_id=390 Accuracy=72.96: 100%|██████████| 391/391 [00:24<00:00, 15.71it/s]\n"
          ]
        },
        {
          "name": "stdout",
          "output_type": "stream",
          "text": [
            "\n",
            "Test set: Average loss: 0.5487, Accuracy: 8152/10000 (81.52%)\n",
            "\n",
            "EPOCH: 88\n"
          ]
        },
        {
          "name": "stderr",
          "output_type": "stream",
          "text": [
            "Loss=0.8331030011177063 Batch_id=390 Accuracy=72.76: 100%|██████████| 391/391 [00:25<00:00, 15.25it/s]\n"
          ]
        },
        {
          "name": "stdout",
          "output_type": "stream",
          "text": [
            "\n",
            "Test set: Average loss: 0.5001, Accuracy: 8268/10000 (82.68%)\n",
            "\n",
            "EPOCH: 89\n"
          ]
        },
        {
          "name": "stderr",
          "output_type": "stream",
          "text": [
            "Loss=0.914019763469696 Batch_id=390 Accuracy=72.82: 100%|██████████| 391/391 [00:25<00:00, 15.29it/s]\n"
          ]
        },
        {
          "name": "stdout",
          "output_type": "stream",
          "text": [
            "\n",
            "Test set: Average loss: 0.5150, Accuracy: 8256/10000 (82.56%)\n",
            "\n",
            "EPOCH: 90\n"
          ]
        },
        {
          "name": "stderr",
          "output_type": "stream",
          "text": [
            "Loss=0.9217662811279297 Batch_id=390 Accuracy=72.83: 100%|██████████| 391/391 [00:24<00:00, 15.66it/s]\n"
          ]
        },
        {
          "name": "stdout",
          "output_type": "stream",
          "text": [
            "\n",
            "Test set: Average loss: 0.5072, Accuracy: 8285/10000 (82.85%)\n",
            "\n",
            "EPOCH: 91\n"
          ]
        },
        {
          "name": "stderr",
          "output_type": "stream",
          "text": [
            "Loss=0.6599118709564209 Batch_id=390 Accuracy=72.92: 100%|██████████| 391/391 [00:24<00:00, 15.79it/s]\n"
          ]
        },
        {
          "name": "stdout",
          "output_type": "stream",
          "text": [
            "\n",
            "Test set: Average loss: 0.5059, Accuracy: 8279/10000 (82.79%)\n",
            "\n",
            "EPOCH: 92\n"
          ]
        },
        {
          "name": "stderr",
          "output_type": "stream",
          "text": [
            "Loss=0.8439637422561646 Batch_id=390 Accuracy=72.81: 100%|██████████| 391/391 [00:24<00:00, 15.75it/s]\n"
          ]
        },
        {
          "name": "stdout",
          "output_type": "stream",
          "text": [
            "\n",
            "Test set: Average loss: 0.5132, Accuracy: 8265/10000 (82.65%)\n",
            "\n",
            "EPOCH: 93\n"
          ]
        },
        {
          "name": "stderr",
          "output_type": "stream",
          "text": [
            "Loss=0.7340651154518127 Batch_id=390 Accuracy=72.94: 100%|██████████| 391/391 [00:24<00:00, 15.80it/s]\n"
          ]
        },
        {
          "name": "stdout",
          "output_type": "stream",
          "text": [
            "\n",
            "Test set: Average loss: 0.5131, Accuracy: 8252/10000 (82.52%)\n",
            "\n",
            "EPOCH: 94\n"
          ]
        },
        {
          "name": "stderr",
          "output_type": "stream",
          "text": [
            "Loss=0.7883818745613098 Batch_id=390 Accuracy=73.28: 100%|██████████| 391/391 [00:24<00:00, 15.75it/s]\n"
          ]
        },
        {
          "name": "stdout",
          "output_type": "stream",
          "text": [
            "\n",
            "Test set: Average loss: 0.5308, Accuracy: 8201/10000 (82.01%)\n",
            "\n",
            "EPOCH: 95\n"
          ]
        },
        {
          "name": "stderr",
          "output_type": "stream",
          "text": [
            "Loss=0.9667184948921204 Batch_id=390 Accuracy=73.25: 100%|██████████| 391/391 [00:24<00:00, 15.86it/s]\n"
          ]
        },
        {
          "name": "stdout",
          "output_type": "stream",
          "text": [
            "\n",
            "Test set: Average loss: 0.5143, Accuracy: 8262/10000 (82.62%)\n",
            "\n",
            "EPOCH: 96\n"
          ]
        },
        {
          "name": "stderr",
          "output_type": "stream",
          "text": [
            "Loss=0.7247588634490967 Batch_id=390 Accuracy=73.39: 100%|██████████| 391/391 [00:24<00:00, 15.94it/s]\n"
          ]
        },
        {
          "name": "stdout",
          "output_type": "stream",
          "text": [
            "\n",
            "Test set: Average loss: 0.5084, Accuracy: 8298/10000 (82.98%)\n",
            "\n",
            "EPOCH: 97\n"
          ]
        },
        {
          "name": "stderr",
          "output_type": "stream",
          "text": [
            "Loss=0.9991354942321777 Batch_id=390 Accuracy=73.29: 100%|██████████| 391/391 [00:25<00:00, 15.61it/s]\n"
          ]
        },
        {
          "name": "stdout",
          "output_type": "stream",
          "text": [
            "\n",
            "Test set: Average loss: 0.5019, Accuracy: 8285/10000 (82.85%)\n",
            "\n",
            "EPOCH: 98\n"
          ]
        },
        {
          "name": "stderr",
          "output_type": "stream",
          "text": [
            "Loss=0.9590201377868652 Batch_id=390 Accuracy=73.11: 100%|██████████| 391/391 [00:25<00:00, 15.54it/s]\n"
          ]
        },
        {
          "name": "stdout",
          "output_type": "stream",
          "text": [
            "\n",
            "Test set: Average loss: 0.5068, Accuracy: 8298/10000 (82.98%)\n",
            "\n",
            "EPOCH: 99\n"
          ]
        },
        {
          "name": "stderr",
          "output_type": "stream",
          "text": [
            "Loss=0.8301469683647156 Batch_id=390 Accuracy=73.41: 100%|██████████| 391/391 [00:25<00:00, 15.30it/s]\n"
          ]
        },
        {
          "name": "stdout",
          "output_type": "stream",
          "text": [
            "\n",
            "Test set: Average loss: 0.4953, Accuracy: 8318/10000 (83.18%)\n",
            "\n",
            "EPOCH: 100\n"
          ]
        },
        {
          "name": "stderr",
          "output_type": "stream",
          "text": [
            "Loss=0.776160478591919 Batch_id=390 Accuracy=73.03: 100%|██████████| 391/391 [00:25<00:00, 15.40it/s]\n"
          ]
        },
        {
          "name": "stdout",
          "output_type": "stream",
          "text": [
            "\n",
            "Test set: Average loss: 0.4970, Accuracy: 8331/10000 (83.31%)\n",
            "\n",
            "EPOCH: 101\n"
          ]
        },
        {
          "name": "stderr",
          "output_type": "stream",
          "text": [
            "Loss=0.7382076978683472 Batch_id=390 Accuracy=73.14: 100%|██████████| 391/391 [00:25<00:00, 15.64it/s]\n"
          ]
        },
        {
          "name": "stdout",
          "output_type": "stream",
          "text": [
            "\n",
            "Test set: Average loss: 0.4994, Accuracy: 8300/10000 (83.00%)\n",
            "\n",
            "EPOCH: 102\n"
          ]
        },
        {
          "name": "stderr",
          "output_type": "stream",
          "text": [
            "Loss=0.7026785612106323 Batch_id=390 Accuracy=73.60: 100%|██████████| 391/391 [00:24<00:00, 15.66it/s]\n"
          ]
        },
        {
          "name": "stdout",
          "output_type": "stream",
          "text": [
            "\n",
            "Test set: Average loss: 0.4928, Accuracy: 8300/10000 (83.00%)\n",
            "\n",
            "EPOCH: 103\n"
          ]
        },
        {
          "name": "stderr",
          "output_type": "stream",
          "text": [
            "Loss=0.7709041833877563 Batch_id=390 Accuracy=73.55: 100%|██████████| 391/391 [00:25<00:00, 15.47it/s]\n"
          ]
        },
        {
          "name": "stdout",
          "output_type": "stream",
          "text": [
            "\n",
            "Test set: Average loss: 0.5041, Accuracy: 8314/10000 (83.14%)\n",
            "\n",
            "EPOCH: 104\n"
          ]
        },
        {
          "name": "stderr",
          "output_type": "stream",
          "text": [
            "Loss=0.9980632066726685 Batch_id=390 Accuracy=73.42: 100%|██████████| 391/391 [00:25<00:00, 15.61it/s]\n"
          ]
        },
        {
          "name": "stdout",
          "output_type": "stream",
          "text": [
            "\n",
            "Test set: Average loss: 0.4888, Accuracy: 8365/10000 (83.65%)\n",
            "\n",
            "EPOCH: 105\n"
          ]
        },
        {
          "name": "stderr",
          "output_type": "stream",
          "text": [
            "Loss=0.8038603067398071 Batch_id=390 Accuracy=73.49: 100%|██████████| 391/391 [00:25<00:00, 15.42it/s]\n"
          ]
        },
        {
          "name": "stdout",
          "output_type": "stream",
          "text": [
            "\n",
            "Test set: Average loss: 0.5173, Accuracy: 8261/10000 (82.61%)\n",
            "\n",
            "EPOCH: 106\n"
          ]
        },
        {
          "name": "stderr",
          "output_type": "stream",
          "text": [
            "Loss=0.7234827280044556 Batch_id=390 Accuracy=73.67: 100%|██████████| 391/391 [00:26<00:00, 14.97it/s]\n"
          ]
        },
        {
          "name": "stdout",
          "output_type": "stream",
          "text": [
            "\n",
            "Test set: Average loss: 0.5151, Accuracy: 8246/10000 (82.46%)\n",
            "\n",
            "EPOCH: 107\n"
          ]
        },
        {
          "name": "stderr",
          "output_type": "stream",
          "text": [
            "Loss=0.5717503428459167 Batch_id=390 Accuracy=73.75: 100%|██████████| 391/391 [00:25<00:00, 15.23it/s]\n"
          ]
        },
        {
          "name": "stdout",
          "output_type": "stream",
          "text": [
            "\n",
            "Test set: Average loss: 0.4818, Accuracy: 8388/10000 (83.88%)\n",
            "\n",
            "EPOCH: 108\n"
          ]
        },
        {
          "name": "stderr",
          "output_type": "stream",
          "text": [
            "Loss=0.7741116285324097 Batch_id=390 Accuracy=73.48: 100%|██████████| 391/391 [00:25<00:00, 15.27it/s]\n"
          ]
        },
        {
          "name": "stdout",
          "output_type": "stream",
          "text": [
            "\n",
            "Test set: Average loss: 0.4960, Accuracy: 8344/10000 (83.44%)\n",
            "\n",
            "EPOCH: 109\n"
          ]
        },
        {
          "name": "stderr",
          "output_type": "stream",
          "text": [
            "Loss=0.7832294702529907 Batch_id=390 Accuracy=73.71: 100%|██████████| 391/391 [00:25<00:00, 15.04it/s]\n"
          ]
        },
        {
          "name": "stdout",
          "output_type": "stream",
          "text": [
            "\n",
            "Test set: Average loss: 0.4911, Accuracy: 8334/10000 (83.34%)\n",
            "\n",
            "EPOCH: 110\n"
          ]
        },
        {
          "name": "stderr",
          "output_type": "stream",
          "text": [
            "Loss=0.7797702550888062 Batch_id=390 Accuracy=73.50: 100%|██████████| 391/391 [00:25<00:00, 15.26it/s]\n"
          ]
        },
        {
          "name": "stdout",
          "output_type": "stream",
          "text": [
            "\n",
            "Test set: Average loss: 0.4893, Accuracy: 8359/10000 (83.59%)\n",
            "\n",
            "EPOCH: 111\n"
          ]
        },
        {
          "name": "stderr",
          "output_type": "stream",
          "text": [
            "Loss=0.5167715549468994 Batch_id=390 Accuracy=73.81: 100%|██████████| 391/391 [00:25<00:00, 15.30it/s]\n"
          ]
        },
        {
          "name": "stdout",
          "output_type": "stream",
          "text": [
            "\n",
            "Test set: Average loss: 0.4990, Accuracy: 8342/10000 (83.42%)\n",
            "\n",
            "EPOCH: 112\n"
          ]
        },
        {
          "name": "stderr",
          "output_type": "stream",
          "text": [
            "Loss=0.7709049582481384 Batch_id=390 Accuracy=73.66: 100%|██████████| 391/391 [00:25<00:00, 15.06it/s]\n"
          ]
        },
        {
          "name": "stdout",
          "output_type": "stream",
          "text": [
            "\n",
            "Test set: Average loss: 0.5158, Accuracy: 8274/10000 (82.74%)\n",
            "\n",
            "EPOCH: 113\n"
          ]
        },
        {
          "name": "stderr",
          "output_type": "stream",
          "text": [
            "Loss=0.7304123640060425 Batch_id=390 Accuracy=73.90: 100%|██████████| 391/391 [00:25<00:00, 15.22it/s]\n"
          ]
        },
        {
          "name": "stdout",
          "output_type": "stream",
          "text": [
            "\n",
            "Test set: Average loss: 0.5004, Accuracy: 8340/10000 (83.40%)\n",
            "\n",
            "EPOCH: 114\n"
          ]
        },
        {
          "name": "stderr",
          "output_type": "stream",
          "text": [
            "Loss=0.8196771740913391 Batch_id=390 Accuracy=73.87: 100%|██████████| 391/391 [00:25<00:00, 15.10it/s]\n"
          ]
        },
        {
          "name": "stdout",
          "output_type": "stream",
          "text": [
            "\n",
            "Test set: Average loss: 0.4904, Accuracy: 8359/10000 (83.59%)\n",
            "\n",
            "EPOCH: 115\n"
          ]
        },
        {
          "name": "stderr",
          "output_type": "stream",
          "text": [
            "Loss=0.5548714399337769 Batch_id=390 Accuracy=73.60: 100%|██████████| 391/391 [00:25<00:00, 15.07it/s]\n"
          ]
        },
        {
          "name": "stdout",
          "output_type": "stream",
          "text": [
            "\n",
            "Test set: Average loss: 0.4688, Accuracy: 8455/10000 (84.55%)\n",
            "\n",
            "EPOCH: 116\n"
          ]
        },
        {
          "name": "stderr",
          "output_type": "stream",
          "text": [
            "Loss=0.5061095952987671 Batch_id=390 Accuracy=73.80: 100%|██████████| 391/391 [00:26<00:00, 14.96it/s]\n"
          ]
        },
        {
          "name": "stdout",
          "output_type": "stream",
          "text": [
            "\n",
            "Test set: Average loss: 0.4863, Accuracy: 8374/10000 (83.74%)\n",
            "\n",
            "EPOCH: 117\n"
          ]
        },
        {
          "name": "stderr",
          "output_type": "stream",
          "text": [
            "Loss=0.7388342022895813 Batch_id=390 Accuracy=73.98: 100%|██████████| 391/391 [00:25<00:00, 15.25it/s]\n"
          ]
        },
        {
          "name": "stdout",
          "output_type": "stream",
          "text": [
            "\n",
            "Test set: Average loss: 0.5127, Accuracy: 8301/10000 (83.01%)\n",
            "\n",
            "EPOCH: 118\n"
          ]
        },
        {
          "name": "stderr",
          "output_type": "stream",
          "text": [
            "Loss=0.983995795249939 Batch_id=390 Accuracy=74.08: 100%|██████████| 391/391 [00:25<00:00, 15.29it/s]\n"
          ]
        },
        {
          "name": "stdout",
          "output_type": "stream",
          "text": [
            "\n",
            "Test set: Average loss: 0.5148, Accuracy: 8260/10000 (82.60%)\n",
            "\n",
            "EPOCH: 119\n"
          ]
        },
        {
          "name": "stderr",
          "output_type": "stream",
          "text": [
            "Loss=0.5159148573875427 Batch_id=390 Accuracy=73.96: 100%|██████████| 391/391 [00:25<00:00, 15.48it/s]\n"
          ]
        },
        {
          "name": "stdout",
          "output_type": "stream",
          "text": [
            "\n",
            "Test set: Average loss: 0.5129, Accuracy: 8309/10000 (83.09%)\n",
            "\n",
            "EPOCH: 120\n"
          ]
        },
        {
          "name": "stderr",
          "output_type": "stream",
          "text": [
            "Loss=0.6065636277198792 Batch_id=390 Accuracy=74.27: 100%|██████████| 391/391 [00:25<00:00, 15.26it/s]\n"
          ]
        },
        {
          "name": "stdout",
          "output_type": "stream",
          "text": [
            "\n",
            "Test set: Average loss: 0.4836, Accuracy: 8378/10000 (83.78%)\n",
            "\n",
            "EPOCH: 121\n"
          ]
        },
        {
          "name": "stderr",
          "output_type": "stream",
          "text": [
            "Loss=0.6224104166030884 Batch_id=390 Accuracy=74.02: 100%|██████████| 391/391 [00:25<00:00, 15.42it/s]\n"
          ]
        },
        {
          "name": "stdout",
          "output_type": "stream",
          "text": [
            "\n",
            "Test set: Average loss: 0.4712, Accuracy: 8393/10000 (83.93%)\n",
            "\n",
            "EPOCH: 122\n"
          ]
        },
        {
          "name": "stderr",
          "output_type": "stream",
          "text": [
            "Loss=0.6322022676467896 Batch_id=390 Accuracy=74.19: 100%|██████████| 391/391 [00:25<00:00, 15.38it/s]\n"
          ]
        },
        {
          "name": "stdout",
          "output_type": "stream",
          "text": [
            "\n",
            "Test set: Average loss: 0.4672, Accuracy: 8425/10000 (84.25%)\n",
            "\n",
            "EPOCH: 123\n"
          ]
        },
        {
          "name": "stderr",
          "output_type": "stream",
          "text": [
            "Loss=0.5265494585037231 Batch_id=390 Accuracy=74.33: 100%|██████████| 391/391 [00:25<00:00, 15.32it/s]\n"
          ]
        },
        {
          "name": "stdout",
          "output_type": "stream",
          "text": [
            "\n",
            "Test set: Average loss: 0.4834, Accuracy: 8416/10000 (84.16%)\n",
            "\n",
            "EPOCH: 124\n"
          ]
        },
        {
          "name": "stderr",
          "output_type": "stream",
          "text": [
            "Loss=0.653033435344696 Batch_id=390 Accuracy=74.28: 100%|██████████| 391/391 [00:25<00:00, 15.17it/s]\n"
          ]
        },
        {
          "name": "stdout",
          "output_type": "stream",
          "text": [
            "\n",
            "Test set: Average loss: 0.4814, Accuracy: 8412/10000 (84.12%)\n",
            "\n",
            "EPOCH: 125\n"
          ]
        },
        {
          "name": "stderr",
          "output_type": "stream",
          "text": [
            "Loss=0.600601851940155 Batch_id=390 Accuracy=74.12: 100%|██████████| 391/391 [00:25<00:00, 15.35it/s]\n"
          ]
        },
        {
          "name": "stdout",
          "output_type": "stream",
          "text": [
            "\n",
            "Test set: Average loss: 0.4700, Accuracy: 8427/10000 (84.27%)\n",
            "\n",
            "EPOCH: 126\n"
          ]
        },
        {
          "name": "stderr",
          "output_type": "stream",
          "text": [
            "Loss=0.838418185710907 Batch_id=390 Accuracy=74.32: 100%|██████████| 391/391 [00:25<00:00, 15.13it/s]\n"
          ]
        },
        {
          "name": "stdout",
          "output_type": "stream",
          "text": [
            "\n",
            "Test set: Average loss: 0.4790, Accuracy: 8368/10000 (83.68%)\n",
            "\n",
            "EPOCH: 127\n"
          ]
        },
        {
          "name": "stderr",
          "output_type": "stream",
          "text": [
            "Loss=0.9365232586860657 Batch_id=390 Accuracy=74.22: 100%|██████████| 391/391 [00:25<00:00, 15.34it/s]\n"
          ]
        },
        {
          "name": "stdout",
          "output_type": "stream",
          "text": [
            "\n",
            "Test set: Average loss: 0.4818, Accuracy: 8398/10000 (83.98%)\n",
            "\n",
            "EPOCH: 128\n"
          ]
        },
        {
          "name": "stderr",
          "output_type": "stream",
          "text": [
            "Loss=0.6648320555686951 Batch_id=390 Accuracy=74.40: 100%|██████████| 391/391 [00:25<00:00, 15.33it/s]\n"
          ]
        },
        {
          "name": "stdout",
          "output_type": "stream",
          "text": [
            "\n",
            "Test set: Average loss: 0.4787, Accuracy: 8430/10000 (84.30%)\n",
            "\n",
            "EPOCH: 129\n"
          ]
        },
        {
          "name": "stderr",
          "output_type": "stream",
          "text": [
            "Loss=0.685357928276062 Batch_id=390 Accuracy=74.46: 100%|██████████| 391/391 [00:25<00:00, 15.45it/s]\n"
          ]
        },
        {
          "name": "stdout",
          "output_type": "stream",
          "text": [
            "\n",
            "Test set: Average loss: 0.4911, Accuracy: 8351/10000 (83.51%)\n",
            "\n",
            "EPOCH: 130\n"
          ]
        },
        {
          "name": "stderr",
          "output_type": "stream",
          "text": [
            "Loss=0.46890655159950256 Batch_id=390 Accuracy=74.10: 100%|██████████| 391/391 [00:25<00:00, 15.47it/s]\n"
          ]
        },
        {
          "name": "stdout",
          "output_type": "stream",
          "text": [
            "\n",
            "Test set: Average loss: 0.4767, Accuracy: 8351/10000 (83.51%)\n",
            "\n",
            "EPOCH: 131\n"
          ]
        },
        {
          "name": "stderr",
          "output_type": "stream",
          "text": [
            "Loss=0.5890547037124634 Batch_id=390 Accuracy=74.38: 100%|██████████| 391/391 [00:25<00:00, 15.39it/s]\n"
          ]
        },
        {
          "name": "stdout",
          "output_type": "stream",
          "text": [
            "\n",
            "Test set: Average loss: 0.4911, Accuracy: 8352/10000 (83.52%)\n",
            "\n",
            "EPOCH: 132\n"
          ]
        },
        {
          "name": "stderr",
          "output_type": "stream",
          "text": [
            "Loss=0.7877411246299744 Batch_id=390 Accuracy=74.34: 100%|██████████| 391/391 [00:25<00:00, 15.52it/s]\n"
          ]
        },
        {
          "name": "stdout",
          "output_type": "stream",
          "text": [
            "\n",
            "Test set: Average loss: 0.4789, Accuracy: 8398/10000 (83.98%)\n",
            "\n",
            "EPOCH: 133\n"
          ]
        },
        {
          "name": "stderr",
          "output_type": "stream",
          "text": [
            "Loss=0.7466478943824768 Batch_id=390 Accuracy=74.58: 100%|██████████| 391/391 [00:25<00:00, 15.24it/s]\n"
          ]
        },
        {
          "name": "stdout",
          "output_type": "stream",
          "text": [
            "\n",
            "Test set: Average loss: 0.4673, Accuracy: 8443/10000 (84.43%)\n",
            "\n",
            "EPOCH: 134\n"
          ]
        },
        {
          "name": "stderr",
          "output_type": "stream",
          "text": [
            "Loss=0.7609498500823975 Batch_id=390 Accuracy=74.34: 100%|██████████| 391/391 [00:25<00:00, 15.25it/s]\n"
          ]
        },
        {
          "name": "stdout",
          "output_type": "stream",
          "text": [
            "\n",
            "Test set: Average loss: 0.4620, Accuracy: 8425/10000 (84.25%)\n",
            "\n",
            "EPOCH: 135\n"
          ]
        },
        {
          "name": "stderr",
          "output_type": "stream",
          "text": [
            "Loss=0.8265826106071472 Batch_id=390 Accuracy=74.56: 100%|██████████| 391/391 [00:25<00:00, 15.51it/s]\n"
          ]
        },
        {
          "name": "stdout",
          "output_type": "stream",
          "text": [
            "\n",
            "Test set: Average loss: 0.4724, Accuracy: 8388/10000 (83.88%)\n",
            "\n",
            "EPOCH: 136\n"
          ]
        },
        {
          "name": "stderr",
          "output_type": "stream",
          "text": [
            "Loss=0.6337016224861145 Batch_id=390 Accuracy=74.66: 100%|██████████| 391/391 [00:25<00:00, 15.50it/s]\n"
          ]
        },
        {
          "name": "stdout",
          "output_type": "stream",
          "text": [
            "\n",
            "Test set: Average loss: 0.4859, Accuracy: 8377/10000 (83.77%)\n",
            "\n",
            "EPOCH: 137\n"
          ]
        },
        {
          "name": "stderr",
          "output_type": "stream",
          "text": [
            "Loss=0.9013131856918335 Batch_id=390 Accuracy=74.31: 100%|██████████| 391/391 [00:25<00:00, 15.43it/s]\n"
          ]
        },
        {
          "name": "stdout",
          "output_type": "stream",
          "text": [
            "\n",
            "Test set: Average loss: 0.4523, Accuracy: 8474/10000 (84.74%)\n",
            "\n",
            "EPOCH: 138\n"
          ]
        },
        {
          "name": "stderr",
          "output_type": "stream",
          "text": [
            "Loss=0.6660569310188293 Batch_id=390 Accuracy=74.56: 100%|██████████| 391/391 [00:25<00:00, 15.34it/s]\n"
          ]
        },
        {
          "name": "stdout",
          "output_type": "stream",
          "text": [
            "\n",
            "Test set: Average loss: 0.4886, Accuracy: 8337/10000 (83.37%)\n",
            "\n",
            "EPOCH: 139\n"
          ]
        },
        {
          "name": "stderr",
          "output_type": "stream",
          "text": [
            "Loss=0.7223849892616272 Batch_id=390 Accuracy=74.85: 100%|██████████| 391/391 [00:25<00:00, 15.59it/s]\n"
          ]
        },
        {
          "name": "stdout",
          "output_type": "stream",
          "text": [
            "\n",
            "Test set: Average loss: 0.4680, Accuracy: 8417/10000 (84.17%)\n",
            "\n",
            "EPOCH: 140\n"
          ]
        },
        {
          "name": "stderr",
          "output_type": "stream",
          "text": [
            "Loss=0.6681509017944336 Batch_id=390 Accuracy=74.61: 100%|██████████| 391/391 [00:25<00:00, 15.64it/s]\n"
          ]
        },
        {
          "name": "stdout",
          "output_type": "stream",
          "text": [
            "\n",
            "Test set: Average loss: 0.4705, Accuracy: 8411/10000 (84.11%)\n",
            "\n",
            "EPOCH: 141\n"
          ]
        },
        {
          "name": "stderr",
          "output_type": "stream",
          "text": [
            "Loss=0.6027315855026245 Batch_id=390 Accuracy=74.74: 100%|██████████| 391/391 [00:25<00:00, 15.52it/s]\n"
          ]
        },
        {
          "name": "stdout",
          "output_type": "stream",
          "text": [
            "\n",
            "Test set: Average loss: 0.4558, Accuracy: 8457/10000 (84.57%)\n",
            "\n",
            "EPOCH: 142\n"
          ]
        },
        {
          "name": "stderr",
          "output_type": "stream",
          "text": [
            "Loss=0.754705548286438 Batch_id=390 Accuracy=74.89: 100%|██████████| 391/391 [00:25<00:00, 15.54it/s]\n"
          ]
        },
        {
          "name": "stdout",
          "output_type": "stream",
          "text": [
            "\n",
            "Test set: Average loss: 0.4634, Accuracy: 8458/10000 (84.58%)\n",
            "\n",
            "EPOCH: 143\n"
          ]
        },
        {
          "name": "stderr",
          "output_type": "stream",
          "text": [
            "Loss=0.9360173344612122 Batch_id=390 Accuracy=74.64: 100%|██████████| 391/391 [00:25<00:00, 15.35it/s]\n"
          ]
        },
        {
          "name": "stdout",
          "output_type": "stream",
          "text": [
            "\n",
            "Test set: Average loss: 0.4511, Accuracy: 8475/10000 (84.75%)\n",
            "\n",
            "EPOCH: 144\n"
          ]
        },
        {
          "name": "stderr",
          "output_type": "stream",
          "text": [
            "Loss=0.7888196110725403 Batch_id=390 Accuracy=74.92: 100%|██████████| 391/391 [00:25<00:00, 15.27it/s]\n"
          ]
        },
        {
          "name": "stdout",
          "output_type": "stream",
          "text": [
            "\n",
            "Test set: Average loss: 0.4704, Accuracy: 8422/10000 (84.22%)\n",
            "\n",
            "EPOCH: 145\n"
          ]
        },
        {
          "name": "stderr",
          "output_type": "stream",
          "text": [
            "Loss=0.7657197713851929 Batch_id=390 Accuracy=74.61: 100%|██████████| 391/391 [00:25<00:00, 15.33it/s]\n"
          ]
        },
        {
          "name": "stdout",
          "output_type": "stream",
          "text": [
            "\n",
            "Test set: Average loss: 0.4804, Accuracy: 8390/10000 (83.90%)\n",
            "\n",
            "EPOCH: 146\n"
          ]
        },
        {
          "name": "stderr",
          "output_type": "stream",
          "text": [
            "Loss=0.7008668184280396 Batch_id=390 Accuracy=75.16: 100%|██████████| 391/391 [00:25<00:00, 15.49it/s]\n"
          ]
        },
        {
          "name": "stdout",
          "output_type": "stream",
          "text": [
            "\n",
            "Test set: Average loss: 0.4587, Accuracy: 8467/10000 (84.67%)\n",
            "\n",
            "EPOCH: 147\n"
          ]
        },
        {
          "name": "stderr",
          "output_type": "stream",
          "text": [
            "Loss=0.8189748525619507 Batch_id=390 Accuracy=74.78: 100%|██████████| 391/391 [00:25<00:00, 15.39it/s]\n"
          ]
        },
        {
          "name": "stdout",
          "output_type": "stream",
          "text": [
            "\n",
            "Test set: Average loss: 0.4705, Accuracy: 8455/10000 (84.55%)\n",
            "\n",
            "EPOCH: 148\n"
          ]
        },
        {
          "name": "stderr",
          "output_type": "stream",
          "text": [
            "Loss=0.9308002591133118 Batch_id=390 Accuracy=74.95: 100%|██████████| 391/391 [00:25<00:00, 15.24it/s]\n"
          ]
        },
        {
          "name": "stdout",
          "output_type": "stream",
          "text": [
            "\n",
            "Test set: Average loss: 0.4638, Accuracy: 8452/10000 (84.52%)\n",
            "\n",
            "EPOCH: 149\n"
          ]
        },
        {
          "name": "stderr",
          "output_type": "stream",
          "text": [
            "Loss=0.5422106981277466 Batch_id=390 Accuracy=75.22: 100%|██████████| 391/391 [00:25<00:00, 15.34it/s]\n"
          ]
        },
        {
          "name": "stdout",
          "output_type": "stream",
          "text": [
            "\n",
            "Test set: Average loss: 0.4557, Accuracy: 8471/10000 (84.71%)\n",
            "\n",
            "EPOCH: 150\n"
          ]
        },
        {
          "name": "stderr",
          "output_type": "stream",
          "text": [
            "Loss=0.9321178197860718 Batch_id=390 Accuracy=75.14: 100%|██████████| 391/391 [00:25<00:00, 15.19it/s]\n"
          ]
        },
        {
          "name": "stdout",
          "output_type": "stream",
          "text": [
            "\n",
            "Test set: Average loss: 0.4606, Accuracy: 8460/10000 (84.60%)\n",
            "\n",
            "EPOCH: 151\n"
          ]
        },
        {
          "name": "stderr",
          "output_type": "stream",
          "text": [
            "Loss=0.7687584161758423 Batch_id=390 Accuracy=74.89: 100%|██████████| 391/391 [00:25<00:00, 15.28it/s]\n"
          ]
        },
        {
          "name": "stdout",
          "output_type": "stream",
          "text": [
            "\n",
            "Test set: Average loss: 0.4517, Accuracy: 8504/10000 (85.04%)\n",
            "\n",
            "EPOCH: 152\n"
          ]
        },
        {
          "name": "stderr",
          "output_type": "stream",
          "text": [
            "Loss=0.6101844310760498 Batch_id=390 Accuracy=75.18: 100%|██████████| 391/391 [00:25<00:00, 15.35it/s]\n"
          ]
        },
        {
          "name": "stdout",
          "output_type": "stream",
          "text": [
            "\n",
            "Test set: Average loss: 0.4675, Accuracy: 8445/10000 (84.45%)\n",
            "\n",
            "EPOCH: 153\n"
          ]
        },
        {
          "name": "stderr",
          "output_type": "stream",
          "text": [
            "Loss=0.7283505797386169 Batch_id=390 Accuracy=75.25: 100%|██████████| 391/391 [00:25<00:00, 15.24it/s]\n"
          ]
        },
        {
          "name": "stdout",
          "output_type": "stream",
          "text": [
            "\n",
            "Test set: Average loss: 0.4458, Accuracy: 8511/10000 (85.11%)\n",
            "\n",
            "EPOCH: 154\n"
          ]
        },
        {
          "name": "stderr",
          "output_type": "stream",
          "text": [
            "Loss=0.6830374002456665 Batch_id=390 Accuracy=75.16: 100%|██████████| 391/391 [00:25<00:00, 15.25it/s]\n"
          ]
        },
        {
          "name": "stdout",
          "output_type": "stream",
          "text": [
            "\n",
            "Test set: Average loss: 0.4697, Accuracy: 8430/10000 (84.30%)\n",
            "\n",
            "EPOCH: 155\n"
          ]
        },
        {
          "name": "stderr",
          "output_type": "stream",
          "text": [
            "Loss=0.6456995010375977 Batch_id=390 Accuracy=75.50: 100%|██████████| 391/391 [00:25<00:00, 15.05it/s]\n"
          ]
        },
        {
          "name": "stdout",
          "output_type": "stream",
          "text": [
            "\n",
            "Test set: Average loss: 0.4476, Accuracy: 8486/10000 (84.86%)\n",
            "\n",
            "EPOCH: 156\n"
          ]
        },
        {
          "name": "stderr",
          "output_type": "stream",
          "text": [
            "Loss=0.6500837206840515 Batch_id=390 Accuracy=74.99: 100%|██████████| 391/391 [00:25<00:00, 15.16it/s]\n"
          ]
        },
        {
          "name": "stdout",
          "output_type": "stream",
          "text": [
            "\n",
            "Test set: Average loss: 0.4612, Accuracy: 8449/10000 (84.49%)\n",
            "\n",
            "EPOCH: 157\n"
          ]
        },
        {
          "name": "stderr",
          "output_type": "stream",
          "text": [
            "Loss=0.6680834889411926 Batch_id=390 Accuracy=75.13: 100%|██████████| 391/391 [00:25<00:00, 15.22it/s]\n"
          ]
        },
        {
          "name": "stdout",
          "output_type": "stream",
          "text": [
            "\n",
            "Test set: Average loss: 0.4625, Accuracy: 8470/10000 (84.70%)\n",
            "\n",
            "EPOCH: 158\n"
          ]
        },
        {
          "name": "stderr",
          "output_type": "stream",
          "text": [
            "Loss=0.6298615336418152 Batch_id=390 Accuracy=75.32: 100%|██████████| 391/391 [00:25<00:00, 15.25it/s]\n"
          ]
        },
        {
          "name": "stdout",
          "output_type": "stream",
          "text": [
            "\n",
            "Test set: Average loss: 0.4455, Accuracy: 8500/10000 (85.00%)\n",
            "\n",
            "EPOCH: 159\n"
          ]
        },
        {
          "name": "stderr",
          "output_type": "stream",
          "text": [
            "Loss=0.6357276439666748 Batch_id=390 Accuracy=75.10: 100%|██████████| 391/391 [00:25<00:00, 15.37it/s]\n"
          ]
        },
        {
          "name": "stdout",
          "output_type": "stream",
          "text": [
            "\n",
            "Test set: Average loss: 0.4551, Accuracy: 8473/10000 (84.73%)\n",
            "\n",
            "EPOCH: 160\n"
          ]
        },
        {
          "name": "stderr",
          "output_type": "stream",
          "text": [
            "Loss=0.5579027533531189 Batch_id=390 Accuracy=75.58: 100%|██████████| 391/391 [00:25<00:00, 15.40it/s]\n"
          ]
        },
        {
          "name": "stdout",
          "output_type": "stream",
          "text": [
            "\n",
            "Test set: Average loss: 0.4447, Accuracy: 8515/10000 (85.15%)\n",
            "\n",
            "EPOCH: 161\n"
          ]
        },
        {
          "name": "stderr",
          "output_type": "stream",
          "text": [
            "Loss=0.6223506331443787 Batch_id=390 Accuracy=75.34: 100%|██████████| 391/391 [00:25<00:00, 15.09it/s]\n"
          ]
        },
        {
          "name": "stdout",
          "output_type": "stream",
          "text": [
            "\n",
            "Test set: Average loss: 0.4559, Accuracy: 8464/10000 (84.64%)\n",
            "\n",
            "EPOCH: 162\n"
          ]
        },
        {
          "name": "stderr",
          "output_type": "stream",
          "text": [
            "Loss=0.8615723848342896 Batch_id=390 Accuracy=75.25: 100%|██████████| 391/391 [00:26<00:00, 14.80it/s]\n"
          ]
        },
        {
          "name": "stdout",
          "output_type": "stream",
          "text": [
            "\n",
            "Test set: Average loss: 0.4360, Accuracy: 8543/10000 (85.43%)\n",
            "\n",
            "EPOCH: 163\n"
          ]
        },
        {
          "name": "stderr",
          "output_type": "stream",
          "text": [
            "Loss=0.8809313774108887 Batch_id=390 Accuracy=75.69: 100%|██████████| 391/391 [00:26<00:00, 14.85it/s]\n"
          ]
        },
        {
          "name": "stdout",
          "output_type": "stream",
          "text": [
            "\n",
            "Test set: Average loss: 0.4643, Accuracy: 8440/10000 (84.40%)\n",
            "\n",
            "EPOCH: 164\n"
          ]
        },
        {
          "name": "stderr",
          "output_type": "stream",
          "text": [
            "Loss=0.6748237609863281 Batch_id=390 Accuracy=75.58: 100%|██████████| 391/391 [00:26<00:00, 14.79it/s]\n"
          ]
        },
        {
          "name": "stdout",
          "output_type": "stream",
          "text": [
            "\n",
            "Test set: Average loss: 0.4500, Accuracy: 8487/10000 (84.87%)\n",
            "\n",
            "EPOCH: 165\n"
          ]
        },
        {
          "name": "stderr",
          "output_type": "stream",
          "text": [
            "Loss=0.652995228767395 Batch_id=390 Accuracy=75.23: 100%|██████████| 391/391 [00:27<00:00, 14.39it/s]\n"
          ]
        },
        {
          "name": "stdout",
          "output_type": "stream",
          "text": [
            "\n",
            "Test set: Average loss: 0.4590, Accuracy: 8452/10000 (84.52%)\n",
            "\n",
            "EPOCH: 166\n"
          ]
        },
        {
          "name": "stderr",
          "output_type": "stream",
          "text": [
            "Loss=0.7452709674835205 Batch_id=390 Accuracy=75.38: 100%|██████████| 391/391 [00:26<00:00, 14.58it/s]\n"
          ]
        },
        {
          "name": "stdout",
          "output_type": "stream",
          "text": [
            "\n",
            "Test set: Average loss: 0.4496, Accuracy: 8493/10000 (84.93%)\n",
            "\n",
            "EPOCH: 167\n"
          ]
        },
        {
          "name": "stderr",
          "output_type": "stream",
          "text": [
            "Loss=0.9446753263473511 Batch_id=390 Accuracy=75.61: 100%|██████████| 391/391 [00:26<00:00, 14.55it/s]\n"
          ]
        },
        {
          "name": "stdout",
          "output_type": "stream",
          "text": [
            "\n",
            "Test set: Average loss: 0.4456, Accuracy: 8498/10000 (84.98%)\n",
            "\n",
            "EPOCH: 168\n"
          ]
        },
        {
          "name": "stderr",
          "output_type": "stream",
          "text": [
            "Loss=0.7895854711532593 Batch_id=390 Accuracy=75.53: 100%|██████████| 391/391 [00:26<00:00, 14.66it/s]\n"
          ]
        },
        {
          "name": "stdout",
          "output_type": "stream",
          "text": [
            "\n",
            "Test set: Average loss: 0.4612, Accuracy: 8453/10000 (84.53%)\n",
            "\n",
            "EPOCH: 169\n"
          ]
        },
        {
          "name": "stderr",
          "output_type": "stream",
          "text": [
            "Loss=0.64838707447052 Batch_id=390 Accuracy=75.66: 100%|██████████| 391/391 [00:27<00:00, 14.38it/s]\n"
          ]
        },
        {
          "name": "stdout",
          "output_type": "stream",
          "text": [
            "\n",
            "Test set: Average loss: 0.4493, Accuracy: 8506/10000 (85.06%)\n",
            "\n",
            "EPOCH: 170\n"
          ]
        },
        {
          "name": "stderr",
          "output_type": "stream",
          "text": [
            "Loss=0.6860070824623108 Batch_id=390 Accuracy=75.75: 100%|██████████| 391/391 [00:27<00:00, 14.46it/s]\n"
          ]
        },
        {
          "name": "stdout",
          "output_type": "stream",
          "text": [
            "\n",
            "Test set: Average loss: 0.4410, Accuracy: 8524/10000 (85.24%)\n",
            "\n",
            "EPOCH: 171\n"
          ]
        },
        {
          "name": "stderr",
          "output_type": "stream",
          "text": [
            "Loss=0.608964204788208 Batch_id=390 Accuracy=75.80: 100%|██████████| 391/391 [00:26<00:00, 14.66it/s]\n"
          ]
        },
        {
          "name": "stdout",
          "output_type": "stream",
          "text": [
            "\n",
            "Test set: Average loss: 0.4369, Accuracy: 8556/10000 (85.56%)\n",
            "\n",
            "EPOCH: 172\n"
          ]
        },
        {
          "name": "stderr",
          "output_type": "stream",
          "text": [
            "Loss=0.6017603874206543 Batch_id=390 Accuracy=75.50: 100%|██████████| 391/391 [00:27<00:00, 14.38it/s]\n"
          ]
        },
        {
          "name": "stdout",
          "output_type": "stream",
          "text": [
            "\n",
            "Test set: Average loss: 0.4633, Accuracy: 8446/10000 (84.46%)\n",
            "\n",
            "EPOCH: 173\n"
          ]
        },
        {
          "name": "stderr",
          "output_type": "stream",
          "text": [
            "Loss=0.5800312757492065 Batch_id=390 Accuracy=75.85: 100%|██████████| 391/391 [00:26<00:00, 14.67it/s]\n"
          ]
        },
        {
          "name": "stdout",
          "output_type": "stream",
          "text": [
            "\n",
            "Test set: Average loss: 0.4530, Accuracy: 8495/10000 (84.95%)\n",
            "\n",
            "EPOCH: 174\n"
          ]
        },
        {
          "name": "stderr",
          "output_type": "stream",
          "text": [
            "Loss=0.697842001914978 Batch_id=390 Accuracy=75.86: 100%|██████████| 391/391 [00:26<00:00, 14.60it/s]\n"
          ]
        },
        {
          "name": "stdout",
          "output_type": "stream",
          "text": [
            "\n",
            "Test set: Average loss: 0.4468, Accuracy: 8513/10000 (85.13%)\n",
            "\n",
            "EPOCH: 175\n"
          ]
        },
        {
          "name": "stderr",
          "output_type": "stream",
          "text": [
            "Loss=0.7683060169219971 Batch_id=390 Accuracy=76.01: 100%|██████████| 391/391 [00:26<00:00, 14.51it/s]\n"
          ]
        },
        {
          "name": "stdout",
          "output_type": "stream",
          "text": [
            "\n",
            "Test set: Average loss: 0.4459, Accuracy: 8511/10000 (85.11%)\n",
            "\n",
            "EPOCH: 176\n"
          ]
        },
        {
          "name": "stderr",
          "output_type": "stream",
          "text": [
            "Loss=0.6930910348892212 Batch_id=390 Accuracy=75.66: 100%|██████████| 391/391 [00:26<00:00, 14.54it/s]\n"
          ]
        },
        {
          "name": "stdout",
          "output_type": "stream",
          "text": [
            "\n",
            "Test set: Average loss: 0.4376, Accuracy: 8558/10000 (85.58%)\n",
            "\n",
            "EPOCH: 177\n"
          ]
        },
        {
          "name": "stderr",
          "output_type": "stream",
          "text": [
            "Loss=0.7783623933792114 Batch_id=390 Accuracy=75.74: 100%|██████████| 391/391 [00:26<00:00, 14.58it/s]\n"
          ]
        },
        {
          "name": "stdout",
          "output_type": "stream",
          "text": [
            "\n",
            "Test set: Average loss: 0.4345, Accuracy: 8555/10000 (85.55%)\n",
            "\n",
            "EPOCH: 178\n"
          ]
        },
        {
          "name": "stderr",
          "output_type": "stream",
          "text": [
            "Loss=0.7770681381225586 Batch_id=390 Accuracy=75.79: 100%|██████████| 391/391 [00:27<00:00, 14.41it/s]\n"
          ]
        },
        {
          "name": "stdout",
          "output_type": "stream",
          "text": [
            "\n",
            "Test set: Average loss: 0.4385, Accuracy: 8527/10000 (85.27%)\n",
            "\n",
            "EPOCH: 179\n"
          ]
        },
        {
          "name": "stderr",
          "output_type": "stream",
          "text": [
            "Loss=0.8868991136550903 Batch_id=390 Accuracy=75.99: 100%|██████████| 391/391 [00:26<00:00, 14.58it/s]\n"
          ]
        },
        {
          "name": "stdout",
          "output_type": "stream",
          "text": [
            "\n",
            "Test set: Average loss: 0.4339, Accuracy: 8533/10000 (85.33%)\n",
            "\n",
            "EPOCH: 180\n"
          ]
        },
        {
          "name": "stderr",
          "output_type": "stream",
          "text": [
            "Loss=0.6460354328155518 Batch_id=390 Accuracy=76.21: 100%|██████████| 391/391 [00:26<00:00, 14.55it/s]\n"
          ]
        },
        {
          "name": "stdout",
          "output_type": "stream",
          "text": [
            "\n",
            "Test set: Average loss: 0.4362, Accuracy: 8564/10000 (85.64%)\n",
            "\n",
            "EPOCH: 181\n"
          ]
        },
        {
          "name": "stderr",
          "output_type": "stream",
          "text": [
            "Loss=0.8705960512161255 Batch_id=390 Accuracy=75.86: 100%|██████████| 391/391 [00:27<00:00, 14.25it/s]\n"
          ]
        },
        {
          "name": "stdout",
          "output_type": "stream",
          "text": [
            "\n",
            "Test set: Average loss: 0.4437, Accuracy: 8535/10000 (85.35%)\n",
            "\n",
            "EPOCH: 182\n"
          ]
        },
        {
          "name": "stderr",
          "output_type": "stream",
          "text": [
            "Loss=0.7073315382003784 Batch_id=390 Accuracy=76.04: 100%|██████████| 391/391 [00:27<00:00, 14.31it/s]\n"
          ]
        },
        {
          "name": "stdout",
          "output_type": "stream",
          "text": [
            "\n",
            "Test set: Average loss: 0.4404, Accuracy: 8526/10000 (85.26%)\n",
            "\n",
            "EPOCH: 183\n"
          ]
        },
        {
          "name": "stderr",
          "output_type": "stream",
          "text": [
            "Loss=0.7957220077514648 Batch_id=390 Accuracy=75.97: 100%|██████████| 391/391 [00:26<00:00, 14.56it/s]\n"
          ]
        },
        {
          "name": "stdout",
          "output_type": "stream",
          "text": [
            "\n",
            "Test set: Average loss: 0.4357, Accuracy: 8573/10000 (85.73%)\n",
            "\n",
            "EPOCH: 184\n"
          ]
        },
        {
          "name": "stderr",
          "output_type": "stream",
          "text": [
            "Loss=0.6409875750541687 Batch_id=390 Accuracy=76.47: 100%|██████████| 391/391 [00:27<00:00, 14.29it/s]\n"
          ]
        },
        {
          "name": "stdout",
          "output_type": "stream",
          "text": [
            "\n",
            "Test set: Average loss: 0.4407, Accuracy: 8535/10000 (85.35%)\n",
            "\n",
            "EPOCH: 185\n"
          ]
        },
        {
          "name": "stderr",
          "output_type": "stream",
          "text": [
            "Loss=0.39235919713974 Batch_id=390 Accuracy=76.04: 100%|██████████| 391/391 [00:26<00:00, 14.51it/s]\n"
          ]
        },
        {
          "name": "stdout",
          "output_type": "stream",
          "text": [
            "\n",
            "Test set: Average loss: 0.4383, Accuracy: 8537/10000 (85.37%)\n",
            "\n",
            "EPOCH: 186\n"
          ]
        },
        {
          "name": "stderr",
          "output_type": "stream",
          "text": [
            "Loss=0.6022089719772339 Batch_id=390 Accuracy=76.10: 100%|██████████| 391/391 [00:26<00:00, 14.53it/s]\n"
          ]
        },
        {
          "name": "stdout",
          "output_type": "stream",
          "text": [
            "\n",
            "Test set: Average loss: 0.4492, Accuracy: 8513/10000 (85.13%)\n",
            "\n",
            "EPOCH: 187\n"
          ]
        },
        {
          "name": "stderr",
          "output_type": "stream",
          "text": [
            "Loss=0.6245588064193726 Batch_id=390 Accuracy=76.03: 100%|██████████| 391/391 [00:26<00:00, 14.50it/s]\n"
          ]
        },
        {
          "name": "stdout",
          "output_type": "stream",
          "text": [
            "\n",
            "Test set: Average loss: 0.4339, Accuracy: 8544/10000 (85.44%)\n",
            "\n",
            "EPOCH: 188\n"
          ]
        },
        {
          "name": "stderr",
          "output_type": "stream",
          "text": [
            "Loss=0.5458110570907593 Batch_id=390 Accuracy=76.20: 100%|██████████| 391/391 [00:26<00:00, 14.62it/s]\n"
          ]
        },
        {
          "name": "stdout",
          "output_type": "stream",
          "text": [
            "\n",
            "Test set: Average loss: 0.4363, Accuracy: 8558/10000 (85.58%)\n",
            "\n",
            "EPOCH: 189\n"
          ]
        },
        {
          "name": "stderr",
          "output_type": "stream",
          "text": [
            "Loss=0.6780481338500977 Batch_id=390 Accuracy=76.32: 100%|██████████| 391/391 [00:26<00:00, 14.58it/s]\n"
          ]
        },
        {
          "name": "stdout",
          "output_type": "stream",
          "text": [
            "\n",
            "Test set: Average loss: 0.4296, Accuracy: 8580/10000 (85.80%)\n",
            "\n",
            "EPOCH: 190\n"
          ]
        },
        {
          "name": "stderr",
          "output_type": "stream",
          "text": [
            "Loss=0.6157985925674438 Batch_id=390 Accuracy=76.26: 100%|██████████| 391/391 [00:26<00:00, 14.58it/s]\n"
          ]
        },
        {
          "name": "stdout",
          "output_type": "stream",
          "text": [
            "\n",
            "Test set: Average loss: 0.4347, Accuracy: 8547/10000 (85.47%)\n",
            "\n",
            "EPOCH: 191\n"
          ]
        },
        {
          "name": "stderr",
          "output_type": "stream",
          "text": [
            "Loss=0.6321133375167847 Batch_id=390 Accuracy=76.61: 100%|██████████| 391/391 [00:27<00:00, 14.43it/s]\n"
          ]
        },
        {
          "name": "stdout",
          "output_type": "stream",
          "text": [
            "\n",
            "Test set: Average loss: 0.4335, Accuracy: 8571/10000 (85.71%)\n",
            "\n",
            "EPOCH: 192\n"
          ]
        },
        {
          "name": "stderr",
          "output_type": "stream",
          "text": [
            "Loss=0.7562947869300842 Batch_id=390 Accuracy=76.39: 100%|██████████| 391/391 [00:26<00:00, 14.53it/s]\n"
          ]
        },
        {
          "name": "stdout",
          "output_type": "stream",
          "text": [
            "\n",
            "Test set: Average loss: 0.4376, Accuracy: 8542/10000 (85.42%)\n",
            "\n",
            "EPOCH: 193\n"
          ]
        },
        {
          "name": "stderr",
          "output_type": "stream",
          "text": [
            "Loss=0.6335971355438232 Batch_id=390 Accuracy=76.43: 100%|██████████| 391/391 [00:26<00:00, 14.59it/s]\n"
          ]
        },
        {
          "name": "stdout",
          "output_type": "stream",
          "text": [
            "\n",
            "Test set: Average loss: 0.4391, Accuracy: 8549/10000 (85.49%)\n",
            "\n",
            "EPOCH: 194\n"
          ]
        },
        {
          "name": "stderr",
          "output_type": "stream",
          "text": [
            "Loss=0.7554662227630615 Batch_id=390 Accuracy=76.54: 100%|██████████| 391/391 [00:26<00:00, 14.58it/s]\n"
          ]
        },
        {
          "name": "stdout",
          "output_type": "stream",
          "text": [
            "\n",
            "Test set: Average loss: 0.4319, Accuracy: 8553/10000 (85.53%)\n",
            "\n",
            "EPOCH: 195\n"
          ]
        },
        {
          "name": "stderr",
          "output_type": "stream",
          "text": [
            "Loss=0.7959015369415283 Batch_id=390 Accuracy=76.63: 100%|██████████| 391/391 [00:26<00:00, 14.57it/s]\n"
          ]
        },
        {
          "name": "stdout",
          "output_type": "stream",
          "text": [
            "\n",
            "Test set: Average loss: 0.4314, Accuracy: 8563/10000 (85.63%)\n",
            "\n",
            "EPOCH: 196\n"
          ]
        },
        {
          "name": "stderr",
          "output_type": "stream",
          "text": [
            "Loss=0.8253377079963684 Batch_id=390 Accuracy=76.45: 100%|██████████| 391/391 [00:26<00:00, 14.49it/s]\n"
          ]
        },
        {
          "name": "stdout",
          "output_type": "stream",
          "text": [
            "\n",
            "Test set: Average loss: 0.4263, Accuracy: 8586/10000 (85.86%)\n",
            "\n",
            "EPOCH: 197\n"
          ]
        },
        {
          "name": "stderr",
          "output_type": "stream",
          "text": [
            "Loss=0.5233663320541382 Batch_id=390 Accuracy=76.40: 100%|██████████| 391/391 [00:26<00:00, 14.53it/s]\n"
          ]
        },
        {
          "name": "stdout",
          "output_type": "stream",
          "text": [
            "\n",
            "Test set: Average loss: 0.4317, Accuracy: 8554/10000 (85.54%)\n",
            "\n",
            "EPOCH: 198\n"
          ]
        },
        {
          "name": "stderr",
          "output_type": "stream",
          "text": [
            "Loss=0.6971250772476196 Batch_id=390 Accuracy=76.98: 100%|██████████| 391/391 [00:26<00:00, 14.55it/s]\n"
          ]
        },
        {
          "name": "stdout",
          "output_type": "stream",
          "text": [
            "\n",
            "Test set: Average loss: 0.4290, Accuracy: 8557/10000 (85.57%)\n",
            "\n",
            "EPOCH: 199\n"
          ]
        },
        {
          "name": "stderr",
          "output_type": "stream",
          "text": [
            "Loss=0.7470608949661255 Batch_id=390 Accuracy=76.84: 100%|██████████| 391/391 [00:26<00:00, 14.49it/s]\n"
          ]
        },
        {
          "name": "stdout",
          "output_type": "stream",
          "text": [
            "\n",
            "Test set: Average loss: 0.4293, Accuracy: 8569/10000 (85.69%)\n",
            "\n"
          ]
        }
      ],
      "source": [
        "EPOCHS = 200\n",
        "for epoch in range(EPOCHS):\n",
        "    print(\"EPOCH:\", epoch)\n",
        "    train(model, device, train_loader, optimizer, epoch, scheduler)\n",
        "    # scheduler.step(test_losses)\n",
        "    test(model, device, test_loader, criterion)"
      ]
    },
    {
      "cell_type": "code",
      "execution_count": null,
      "metadata": {
        "colab": {
          "base_uri": "https://localhost:8080/",
          "height": 796
        },
        "id": "87RaqGSEOWDe",
        "outputId": "12740149-5ed8-45ea-cbaf-460ab7866060"
      },
      "outputs": [
        {
          "data": {
            "text/plain": [
              "Text(0.5, 1.0, 'Test Accuracy')"
            ]
          },
          "execution_count": 14,
          "metadata": {},
          "output_type": "execute_result"
        },
        {
          "data": {
            "image/png": "[encoded data removed]",
            "text/plain": [
              "<Figure size 1500x1000 with 4 Axes>"
            ]
          },
          "metadata": {},
          "output_type": "display_data"
        }
      ],
      "source": [
        "%matplotlib inline\n",
        "import matplotlib.pyplot as plt\n",
        "\n",
        "fig, axs = plt.subplots(2,2,figsize=(15,10))\n",
        "axs[0, 0].plot([i.item() for i in train_losses])\n",
        "axs[0, 0].set_title(\"Training Loss\")\n",
        "axs[1, 0].plot(train_acc[4000:])\n",
        "axs[1, 0].set_title(\"Training Accuracy\")\n",
        "axs[0, 1].plot(test_losses)\n",
        "axs[0, 1].set_title(\"Test Loss\")\n",
        "axs[1, 1].plot(test_acc)\n",
        "axs[1, 1].set_title(\"Test Accuracy\")"
      ]
    },
    {
      "cell_type": "code",
      "execution_count": null,
      "metadata": {
        "id": "HmwNvl2aBqNH"
      },
      "outputs": [],
      "source": []
    }
  ],
  "metadata": {
    "accelerator": "GPU",
    "colab": {
      "provenance": []
    },
    "kernelspec": {
      "display_name": "Python 3",
      "name": "python3"
    }
  },
  "nbformat": 4,
  "nbformat_minor": 0
}
