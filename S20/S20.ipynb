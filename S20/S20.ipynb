{
  "cells": [
    {
      "cell_type": "code",
      "execution_count": 1,
      "metadata": {},
      "outputs": [],
      "source": [
        "text = open(\"tests/Kannada2023.txt\", \"r\", encoding=\"utf-8\").read()\n",
        "tokens = text.encode(\"utf-8\") # raw bytes\n",
        "tokens = list(map(int, tokens)) # convert to a list of integers in range 0..255 for convenience"
      ]
    },
    {
      "cell_type": "code",
      "execution_count": 2,
      "metadata": {
        "colab": {
          "base_uri": "https://localhost:8080/"
        },
        "id": "eiuP-jzlOhvk",
        "outputId": "6ac97f65-0d5e-4e8a-b150-b7fbc756cc87"
      },
      "outputs": [],
      "source": [
        "def get_stats(ids):\n",
        "    counts = {}\n",
        "    for pair in zip(ids, ids[1:]):\n",
        "        counts[pair] = counts.get(pair, 0) + 1\n",
        "    return counts\n",
        "\n",
        "def merge(ids, pair, idx):\n",
        "  newids = []\n",
        "  i = 0\n",
        "  while i < len(ids):\n",
        "    if i < len(ids) - 1 and ids[i] == pair[0] and ids[i+1] == pair[1]:\n",
        "      newids.append(idx)\n",
        "      i += 2\n",
        "    else:\n",
        "      newids.append(ids[i])\n",
        "      i += 1\n",
        "  return newids\n",
        "\n",
        "# ---\n",
        "vocab_size = 5024 # the desired final vocabulary size\n",
        "num_merges = vocab_size - 256\n",
        "ids = list(tokens) # copy so we don't destroy the original list\n",
        "\n",
        "merges = {} # (int, int) -> int\n",
        "for i in range(num_merges):\n",
        "  stats = get_stats(ids)\n",
        "  pair = max(stats, key=stats.get)\n",
        "  idx = 256 + i\n",
        "  # print(f\"merging {pair} into a new token {idx}\")\n",
        "  ids = merge(ids, pair, idx)\n",
        "  merges[pair] = idx"
      ]
    },
    {
      "cell_type": "code",
      "execution_count": 3,
      "metadata": {
        "colab": {
          "base_uri": "https://localhost:8080/"
        },
        "id": "JawSOPc2Ohvk",
        "outputId": "64f247de-c3c4-4ed8-b3af-685eecbd61ff"
      },
      "outputs": [
        {
          "name": "stdout",
          "output_type": "stream",
          "text": [
            "tokens length: 169342\n",
            "ids length: 13213\n",
            "compression ratio: 12.82X\n"
          ]
        }
      ],
      "source": [
        "print(\"tokens length:\", len(tokens))\n",
        "print(\"ids length:\", len(ids))\n",
        "print(f\"compression ratio: {len(tokens) / len(ids):.2f}X\")"
      ]
    },
    {
      "cell_type": "markdown",
      "metadata": {
        "id": "PdP1ZmqBOhvl"
      },
      "source": [
        "### decoding\n",
        "\n",
        "Given a sequence of integers in the range [0, vocab_size], what is the text?\n"
      ]
    },
    {
      "cell_type": "code",
      "execution_count": 4,
      "metadata": {
        "colab": {
          "base_uri": "https://localhost:8080/"
        },
        "id": "OObizjaFOhvl",
        "outputId": "d154e9ca-fd94-4bb9-f9c2-58d4d0f2084d"
      },
      "outputs": [
        {
          "name": "stdout",
          "output_type": "stream",
          "text": [
            "�\n"
          ]
        }
      ],
      "source": [
        "vocab = {idx: bytes([idx]) for idx in range(256)}\n",
        "for (p0, p1), idx in merges.items():\n",
        "    vocab[idx] = vocab[p0] + vocab[p1]\n",
        "\n",
        "def decode(ids):\n",
        "  # given ids (list of integers), return Python string\n",
        "  tokens = b\"\".join(vocab[idx] for idx in ids)\n",
        "  text = tokens.decode(\"utf-8\", errors=\"replace\")\n",
        "  return text\n",
        "\n",
        "print(decode([128]))"
      ]
    },
    {
      "cell_type": "markdown",
      "metadata": {
        "id": "UxyC7vwCOhvm"
      },
      "source": [
        "### encoding\n",
        "\n",
        "The other way around: Given a string, what are the tokens?\n"
      ]
    },
    {
      "cell_type": "code",
      "execution_count": 5,
      "metadata": {
        "colab": {
          "base_uri": "https://localhost:8080/"
        },
        "id": "YfOyfLVYOhvm",
        "outputId": "2952733e-273f-4015-e4fc-d5ec134b72f1"
      },
      "outputs": [
        {
          "name": "stdout",
          "output_type": "stream",
          "text": [
            "[]\n"
          ]
        }
      ],
      "source": [
        "def encode(text):\n",
        "  # given a string, return list of integers (the tokens)\n",
        "  tokens = list(text.encode(\"utf-8\"))\n",
        "  while len(tokens) >= 2:\n",
        "    stats = get_stats(tokens)\n",
        "    pair = min(stats, key=lambda p: merges.get(p, float(\"inf\")))\n",
        "    if pair not in merges:\n",
        "      break # nothing else can be merged\n",
        "    idx = merges[pair]\n",
        "    tokens = merge(tokens, pair, idx)\n",
        "  return tokens\n",
        "\n",
        "print(encode(\"\"))"
      ]
    },
    {
      "cell_type": "code",
      "execution_count": 7,
      "metadata": {
        "colab": {
          "base_uri": "https://localhost:8080/"
        },
        "id": "AYCJnLu9Ohvm",
        "outputId": "fa20ead6-85f2-43d0-8060-85337b71352a"
      },
      "outputs": [
        {
          "name": "stdout",
          "output_type": "stream",
          "text": [
            "ನಮಸ್ಕಾರವನ್ನು ಸಾಮಾನ್ಯವಾಗಿ ಸ್ವಲ್ಪ ಬಗ್ಗಿ ಮತ್ತು ಕೈಗಳನ್ನು ಒಂದಕ್ಕೊಂದು ಒತ್ತಿ, ಅಂಗೈಗಳು ಸ್ಪರ್ಶಿಸಿ ಮತ್ತು ಬೆರಳುಗಳು ಮೇಲ್ಮುಖವಾಗಿ ಇದ್ದು, ಹೆಬ್ಬೆರಳುಗಳನ್ನು ಎದೆಗೆ ಹತ್ತಿರವಿರಿಸಿ ಹೇಳಲಾಗುತ್ತದೆ. ಈ ಸನ್ನೆಯನ್ನು ಅಂಜಲಿ ಮುದ್ರೆ ಅಥವಾ ಪ್ರಣಾಮಾಸನ ಎಂದು ಕರೆಯಲಾಗುತ್ತದೆ.\n"
          ]
        }
      ],
      "source": [
        "print(decode(encode(\"ನಮಸ್ಕಾರವನ್ನು ಸಾಮಾನ್ಯವಾಗಿ ಸ್ವಲ್ಪ ಬಗ್ಗಿ ಮತ್ತು ಕೈಗಳನ್ನು ಒಂದಕ್ಕೊಂದು ಒತ್ತಿ, ಅಂಗೈಗಳು ಸ್ಪರ್ಶಿಸಿ ಮತ್ತು ಬೆರಳುಗಳು ಮೇಲ್ಮುಖವಾಗಿ ಇದ್ದು, ಹೆಬ್ಬೆರಳುಗಳನ್ನು ಎದೆಗೆ ಹತ್ತಿರವಿರಿಸಿ ಹೇಳಲಾಗುತ್ತದೆ. ಈ ಸನ್ನೆಯನ್ನು ಅಂಜಲಿ ಮುದ್ರೆ ಅಥವಾ ಪ್ರಣಾಮಾಸನ ಎಂದು ಕರೆಯಲಾಗುತ್ತದೆ.\")))"
      ]
    },
    {
      "cell_type": "code",
      "execution_count": 8,
      "metadata": {
        "colab": {
          "base_uri": "https://localhost:8080/"
        },
        "id": "-cc3EGcBOhvn",
        "outputId": "b4771d12-9c1d-4752-dea2-51a08c8ec991"
      },
      "outputs": [
        {
          "name": "stdout",
          "output_type": "stream",
          "text": [
            "True\n"
          ]
        }
      ],
      "source": [
        "text2 = decode(encode(text))\n",
        "print(text2 == text)"
      ]
    },
    {
      "cell_type": "code",
      "execution_count": 3,
      "metadata": {},
      "outputs": [],
      "source": [
        "# import gradio as gr\n",
        "from minbpe.regex import RegexTokenizer\n",
        "\n",
        "def inference(text):\n",
        "    tokenizer = RegexTokenizer()\n",
        "    tokenizer.load(\"./models/regex.model\")\n",
        "    tokens = tokenizer.encode(text)\n",
        "    count = len(tokens)\n",
        "    return count, tokens\n",
        "\n"
      ]
    },
    {
      "cell_type": "code",
      "execution_count": 4,
      "metadata": {},
      "outputs": [
        {
          "data": {
            "text/plain": [
              "(29,\n",
              " [1137,\n",
              "  335,\n",
              "  317,\n",
              "  279,\n",
              "  1005,\n",
              "  299,\n",
              "  4011,\n",
              "  264,\n",
              "  741,\n",
              "  419,\n",
              "  1117,\n",
              "  3476,\n",
              "  1003,\n",
              "  970,\n",
              "  44,\n",
              "  637,\n",
              "  437,\n",
              "  278,\n",
              "  635,\n",
              "  631,\n",
              "  357,\n",
              "  330,\n",
              "  296,\n",
              "  1069,\n",
              "  698,\n",
              "  845,\n",
              "  262,\n",
              "  534,\n",
              "  46])"
            ]
          },
          "execution_count": 4,
          "metadata": {},
          "output_type": "execute_result"
        }
      ],
      "source": [
        "text = \"ಈ ನಮಸ್ಕಾರ ಮಾಡುವುದರಿಂದ ಅನೇಕ ವೈಜ್ಞಾನಿಕ, ಆಧ್ಯಾತ್ಮಿಕ ಪ್ರಯೋಜನಗಳಿವೆ.\"\n",
        "inference(text)"
      ]
    },
    {
      "cell_type": "code",
      "execution_count": null,
      "metadata": {},
      "outputs": [],
      "source": []
    }
  ],
  "metadata": {
    "colab": {
      "provenance": []
    },
    "kernelspec": {
      "display_name": "Python 3",
      "language": "python",
      "name": "python3"
    },
    "language_info": {
      "codemirror_mode": {
        "name": "ipython",
        "version": 3
      },
      "file_extension": ".py",
      "mimetype": "text/x-python",
      "name": "python",
      "nbconvert_exporter": "python",
      "pygments_lexer": "ipython3",
      "version": "3.10.13"
    }
  },
  "nbformat": 4,
  "nbformat_minor": 0
}
